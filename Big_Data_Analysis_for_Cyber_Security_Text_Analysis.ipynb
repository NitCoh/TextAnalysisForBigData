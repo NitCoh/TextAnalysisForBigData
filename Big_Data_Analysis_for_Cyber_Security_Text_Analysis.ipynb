{
  "nbformat": 4,
  "nbformat_minor": 0,
  "metadata": {
    "colab": {
      "name": "Big Data Analysis for Cyber Security - Text Analysis.ipynb",
      "provenance": [],
      "toc_visible": true,
      "mount_file_id": "1j4-6Hwy7qAEhOmq5Xno9egT6C4cHQAFV",
      "authorship_tag": "ABX9TyN8b/+Nqmp3uzQ0TGcIxbD+",
      "include_colab_link": true
    },
    "kernelspec": {
      "name": "python3",
      "display_name": "Python 3"
    }
  },
  "cells": [
    {
      "cell_type": "markdown",
      "metadata": {
        "id": "view-in-github",
        "colab_type": "text"
      },
      "source": [
        "<a href=\"https://colab.research.google.com/github/NitCoh/TextAnalysisForBigData/blob/master/Big_Data_Analysis_for_Cyber_Security_Text_Analysis.ipynb\" target=\"_parent\"><img src=\"https://colab.research.google.com/assets/colab-badge.svg\" alt=\"Open In Colab\"/></a>"
      ]
    },
    {
      "cell_type": "code",
      "metadata": {
        "id": "0CWeQuarepgS",
        "colab_type": "code",
        "colab": {}
      },
      "source": [
        "##TODO:\n",
        "#1. Analysis of the textual features - INSIGHTS\n",
        "#2. Aggregating the data features\n",
        "#3. train\n",
        "#4. cross-validation"
      ],
      "execution_count": 0,
      "outputs": []
    },
    {
      "cell_type": "code",
      "metadata": {
        "id": "QmvtCKSGU-no",
        "colab_type": "code",
        "colab": {}
      },
      "source": [
        "import re\n",
        "import pandas as pd\n",
        "import numpy as np\n",
        "import matplotlib.pyplot as plt"
      ],
      "execution_count": 0,
      "outputs": []
    },
    {
      "cell_type": "markdown",
      "metadata": {
        "id": "LZ5WGjbD-0HL",
        "colab_type": "text"
      },
      "source": [
        "# **Initial Data Exploration**"
      ]
    },
    {
      "cell_type": "markdown",
      "metadata": {
        "id": "gaSO-UedXcDn",
        "colab_type": "text"
      },
      "source": [
        "DATA_COLS:\n",
        "Columns:\n",
        "FileNameID,Sha256ID,Md5ID,Sha1ID,IssuerID,SignerID,PublisherID,WebFileIpID,WebFileUrlID,ThreatFamilyID,ThreatNameID,SigSeqID,SignatureNameID,MachineGuidID,RowNumber,PeAttributesString,WebFileUrlDomain,WebFileUrlHostname,Ctph,LsHash,ThreatCategory,ReportTime,SpynetReportGuid,Firewall,Size,Version,Type,SignerHash,IssuerHash,IsValidCertificate,CertInvalidDetails,Checksum,IsRuntimePacked,FileAccess,Screensaver,StartupUserFolder,MarkOfTheWeb,UsnTimestamp,IsInContainer,IsContainer,IsPEFile,IsAutoRunInf,PeTimestamp"
      ]
    },
    {
      "cell_type": "markdown",
      "metadata": {
        "id": "i78snPeSX5zO",
        "colab_type": "text"
      },
      "source": [
        "Upload the data file!"
      ]
    },
    {
      "cell_type": "code",
      "metadata": {
        "id": "HH870zENar6E",
        "colab_type": "code",
        "outputId": "53a06952-60d5-474c-8c59-42a229d9224d",
        "colab": {
          "base_uri": "https://localhost:8080/",
          "height": 34
        }
      },
      "source": [
        "COLS = \"FileNameID,Sha256ID,Md5ID,Sha1ID,IssuerID,SignerID,PublisherID,WebFileIpID,WebFileUrlID,ThreatFamilyID,ThreatNameID,SigSeqID,SignatureNameID,MachineGuidID,RowNumber,PeAttributesString,WebFileUrlDomain,WebFileUrlHostname,Ctph,LsHash,ThreatCategory,ReportTime,SpynetReportGuid,Firewall,Size,Version,Type,SignerHash,IssuerHash,IsValidCertificate,CertInvalidDetails,Checksum,IsRuntimePacked,FileAccess,Screensaver,StartupUserFolder,MarkOfTheWeb,UsnTimestamp,IsInContainer,IsContainer,IsPEFile,IsAutoRunInf,PeTimestamp\"\n",
        "cols_names = COLS.split(\",\")\n",
        "cols_names\n",
        "len(cols_names)"
      ],
      "execution_count": 7,
      "outputs": [
        {
          "output_type": "execute_result",
          "data": {
            "text/plain": [
              "43"
            ]
          },
          "metadata": {
            "tags": []
          },
          "execution_count": 7
        }
      ]
    },
    {
      "cell_type": "code",
      "metadata": {
        "id": "5_tfqLZvX3kT",
        "colab_type": "code",
        "outputId": "dddd2277-4959-4697-d3b0-53493dfcc768",
        "colab": {
          "base_uri": "https://localhost:8080/",
          "height": 425
        }
      },
      "source": [
        "## Upload the data file first!\n",
        "data_path = '/content/Obf_oneInTenWeek1_d1.tsv'\n",
        "\n",
        "df = pd.read_csv(data_path,sep='\\t', names=cols_names)\n",
        "df.tail(n=6)\n"
      ],
      "execution_count": 8,
      "outputs": [
        {
          "output_type": "stream",
          "text": [
            "/usr/local/lib/python3.6/dist-packages/IPython/core/interactiveshell.py:2718: DtypeWarning: Columns (41) have mixed types.Specify dtype option on import or set low_memory=False.\n",
            "  interactivity=interactivity, compiler=compiler, result=result)\n"
          ],
          "name": "stderr"
        },
        {
          "output_type": "execute_result",
          "data": {
            "text/html": [
              "<div>\n",
              "<style scoped>\n",
              "    .dataframe tbody tr th:only-of-type {\n",
              "        vertical-align: middle;\n",
              "    }\n",
              "\n",
              "    .dataframe tbody tr th {\n",
              "        vertical-align: top;\n",
              "    }\n",
              "\n",
              "    .dataframe thead th {\n",
              "        text-align: right;\n",
              "    }\n",
              "</style>\n",
              "<table border=\"1\" class=\"dataframe\">\n",
              "  <thead>\n",
              "    <tr style=\"text-align: right;\">\n",
              "      <th></th>\n",
              "      <th>FileNameID</th>\n",
              "      <th>Sha256ID</th>\n",
              "      <th>Md5ID</th>\n",
              "      <th>Sha1ID</th>\n",
              "      <th>IssuerID</th>\n",
              "      <th>SignerID</th>\n",
              "      <th>PublisherID</th>\n",
              "      <th>WebFileIpID</th>\n",
              "      <th>WebFileUrlID</th>\n",
              "      <th>ThreatFamilyID</th>\n",
              "      <th>ThreatNameID</th>\n",
              "      <th>SigSeqID</th>\n",
              "      <th>SignatureNameID</th>\n",
              "      <th>MachineGuidID</th>\n",
              "      <th>RowNumber</th>\n",
              "      <th>PeAttributesString</th>\n",
              "      <th>WebFileUrlDomain</th>\n",
              "      <th>WebFileUrlHostname</th>\n",
              "      <th>Ctph</th>\n",
              "      <th>LsHash</th>\n",
              "      <th>ThreatCategory</th>\n",
              "      <th>ReportTime</th>\n",
              "      <th>SpynetReportGuid</th>\n",
              "      <th>Firewall</th>\n",
              "      <th>Size</th>\n",
              "      <th>Version</th>\n",
              "      <th>Type</th>\n",
              "      <th>SignerHash</th>\n",
              "      <th>IssuerHash</th>\n",
              "      <th>IsValidCertificate</th>\n",
              "      <th>CertInvalidDetails</th>\n",
              "      <th>Checksum</th>\n",
              "      <th>IsRuntimePacked</th>\n",
              "      <th>FileAccess</th>\n",
              "      <th>Screensaver</th>\n",
              "      <th>StartupUserFolder</th>\n",
              "      <th>MarkOfTheWeb</th>\n",
              "      <th>UsnTimestamp</th>\n",
              "      <th>IsInContainer</th>\n",
              "      <th>IsContainer</th>\n",
              "      <th>IsPEFile</th>\n",
              "      <th>IsAutoRunInf</th>\n",
              "      <th>PeTimestamp</th>\n",
              "    </tr>\n",
              "  </thead>\n",
              "  <tbody>\n",
              "    <tr>\n",
              "      <th>205785</th>\n",
              "      <td>7689177</td>\n",
              "      <td>11832730</td>\n",
              "      <td>12791649</td>\n",
              "      <td>14255608</td>\n",
              "      <td>9641</td>\n",
              "      <td>46623</td>\n",
              "      <td>188146</td>\n",
              "      <td>461585</td>\n",
              "      <td>5397947</td>\n",
              "      <td>2720</td>\n",
              "      <td>5644</td>\n",
              "      <td>1036641</td>\n",
              "      <td>221</td>\n",
              "      <td>11713297</td>\n",
              "      <td>9208600</td>\n",
              "      <td>NaN</td>\n",
              "      <td>mediafire.com</td>\n",
              "      <td>download1662.mediafire.com</td>\n",
              "      <td>3072:tf6yptEYKRitLMGYeAyqsR2yE0zx9cXXYuCtylx9e...</td>\n",
              "      <td>9dd7bffeffd5fa9aad965ea7759e6e7d7e97afebfbbbf5...</td>\n",
              "      <td>NaN</td>\n",
              "      <td>1/1/2017 6:55:18 PM</td>\n",
              "      <td>a3f9e1b2-e351-44bf-b946-f1b7d4b5b2db</td>\n",
              "      <td>True</td>\n",
              "      <td>136400</td>\n",
              "      <td>NaN</td>\n",
              "      <td>NaN</td>\n",
              "      <td>NaN</td>\n",
              "      <td>NaN</td>\n",
              "      <td>NaN</td>\n",
              "      <td>NaN</td>\n",
              "      <td>NaN</td>\n",
              "      <td>NaN</td>\n",
              "      <td>2</td>\n",
              "      <td>NaN</td>\n",
              "      <td>NaN</td>\n",
              "      <td>internet</td>\n",
              "      <td>NaN</td>\n",
              "      <td>NaN</td>\n",
              "      <td>NaN</td>\n",
              "      <td>False</td>\n",
              "      <td>NaN</td>\n",
              "      <td>NaN</td>\n",
              "    </tr>\n",
              "    <tr>\n",
              "      <th>205786</th>\n",
              "      <td>7689196</td>\n",
              "      <td>895354</td>\n",
              "      <td>15999024</td>\n",
              "      <td>3302887</td>\n",
              "      <td>9641</td>\n",
              "      <td>46623</td>\n",
              "      <td>188146</td>\n",
              "      <td>1012393</td>\n",
              "      <td>17246062</td>\n",
              "      <td>2720</td>\n",
              "      <td>5644</td>\n",
              "      <td>1036485</td>\n",
              "      <td>632</td>\n",
              "      <td>33513918</td>\n",
              "      <td>26902010</td>\n",
              "      <td>1,3,5,21,23,25,31,43,45,46,60,77,106,109,110,1...</td>\n",
              "      <td>zmupload.com</td>\n",
              "      <td>zmupload.com</td>\n",
              "      <td>24576:tGH0BBJjLu4sv6Pmc2N0PhmATlquEF+I5tHzBZcP...</td>\n",
              "      <td>fbf5f66e6f7afa6da7aff99e6bd5a55e9ad6b6a76ed565...</td>\n",
              "      <td>NaN</td>\n",
              "      <td>1/1/2017 10:36:23 PM</td>\n",
              "      <td>9b7c0ca7-db0c-4801-aa84-712584505744</td>\n",
              "      <td>True</td>\n",
              "      <td>1307444</td>\n",
              "      <td>NaN</td>\n",
              "      <td>NaN</td>\n",
              "      <td>NaN</td>\n",
              "      <td>NaN</td>\n",
              "      <td>NaN</td>\n",
              "      <td>NaN</td>\n",
              "      <td>00000000</td>\n",
              "      <td>1.0</td>\n",
              "      <td>2</td>\n",
              "      <td>NaN</td>\n",
              "      <td>NaN</td>\n",
              "      <td>internet</td>\n",
              "      <td>NaN</td>\n",
              "      <td>NaN</td>\n",
              "      <td>NaN</td>\n",
              "      <td>True</td>\n",
              "      <td>NaN</td>\n",
              "      <td>12/5/2009 10:50:41 PM</td>\n",
              "    </tr>\n",
              "    <tr>\n",
              "      <th>205787</th>\n",
              "      <td>MW2RustZombies_1.01_zm.exe</td>\n",
              "      <td>5408277</td>\n",
              "      <td>7893603</td>\n",
              "      <td>4216411</td>\n",
              "      <td>9641</td>\n",
              "      <td>46623</td>\n",
              "      <td>188146</td>\n",
              "      <td>1012393</td>\n",
              "      <td>17246062</td>\n",
              "      <td>2720</td>\n",
              "      <td>5644</td>\n",
              "      <td>1036485</td>\n",
              "      <td>632</td>\n",
              "      <td>3351130</td>\n",
              "      <td>2607500</td>\n",
              "      <td>1,3,5,21,23,31,38,43,45,46,49,60,77,106,109,11...</td>\n",
              "      <td>zmupload.com</td>\n",
              "      <td>zmupload.com</td>\n",
              "      <td>768:94wO7XBz+5Qm3W0tYdrQZHV4EWuWEUOg4jjfS3P:+L...</td>\n",
              "      <td>6beb9abd6fbedb6def7ee7775795d65ddfa77ab5afd676...</td>\n",
              "      <td>NaN</td>\n",
              "      <td>1/1/2017 10:27:23 PM</td>\n",
              "      <td>74327f2d-71c8-4fc3-aef6-509c4fff7df1</td>\n",
              "      <td>True</td>\n",
              "      <td>28232</td>\n",
              "      <td>NaN</td>\n",
              "      <td>NaN</td>\n",
              "      <td>NaN</td>\n",
              "      <td>NaN</td>\n",
              "      <td>NaN</td>\n",
              "      <td>NaN</td>\n",
              "      <td>00000000</td>\n",
              "      <td>0.0</td>\n",
              "      <td>2</td>\n",
              "      <td>NaN</td>\n",
              "      <td>NaN</td>\n",
              "      <td>internet</td>\n",
              "      <td>NaN</td>\n",
              "      <td>NaN</td>\n",
              "      <td>NaN</td>\n",
              "      <td>True</td>\n",
              "      <td>NaN</td>\n",
              "      <td>12/5/2009 10:50:41 PM</td>\n",
              "    </tr>\n",
              "    <tr>\n",
              "      <th>205788</th>\n",
              "      <td>MW2RustZombies_1.01_zm.exe</td>\n",
              "      <td>5408277</td>\n",
              "      <td>7893603</td>\n",
              "      <td>4216411</td>\n",
              "      <td>9641</td>\n",
              "      <td>46623</td>\n",
              "      <td>188146</td>\n",
              "      <td>1012393</td>\n",
              "      <td>17246062</td>\n",
              "      <td>2720</td>\n",
              "      <td>5644</td>\n",
              "      <td>1036485</td>\n",
              "      <td>632</td>\n",
              "      <td>17277466</td>\n",
              "      <td>13721080</td>\n",
              "      <td>1,3,5,21,23,31,38,43,45,46,49,60,77,106,109,11...</td>\n",
              "      <td>zmupload.com</td>\n",
              "      <td>zmupload.com</td>\n",
              "      <td>768:94wO7XBz+5Qm3W0tYdrQZHV4EWuWEUOg4jjfS3P:+L...</td>\n",
              "      <td>6beb9abd6fbedb6def7ee7775795d65ddfa77ab5afd676...</td>\n",
              "      <td>NaN</td>\n",
              "      <td>1/1/2017 9:37:46 PM</td>\n",
              "      <td>a7d2984d-4104-4852-bfc4-2b33ff899176</td>\n",
              "      <td>True</td>\n",
              "      <td>28232</td>\n",
              "      <td>NaN</td>\n",
              "      <td>NaN</td>\n",
              "      <td>NaN</td>\n",
              "      <td>NaN</td>\n",
              "      <td>NaN</td>\n",
              "      <td>NaN</td>\n",
              "      <td>00000000</td>\n",
              "      <td>0.0</td>\n",
              "      <td>2</td>\n",
              "      <td>NaN</td>\n",
              "      <td>NaN</td>\n",
              "      <td>internet</td>\n",
              "      <td>NaN</td>\n",
              "      <td>NaN</td>\n",
              "      <td>NaN</td>\n",
              "      <td>True</td>\n",
              "      <td>NaN</td>\n",
              "      <td>12/5/2009 10:50:41 PM</td>\n",
              "    </tr>\n",
              "    <tr>\n",
              "      <th>205789</th>\n",
              "      <td>MW2RustZombies_1.01_zm.exe</td>\n",
              "      <td>5408277</td>\n",
              "      <td>7893603</td>\n",
              "      <td>4216411</td>\n",
              "      <td>9641</td>\n",
              "      <td>46623</td>\n",
              "      <td>188146</td>\n",
              "      <td>1012393</td>\n",
              "      <td>17246062</td>\n",
              "      <td>2720</td>\n",
              "      <td>5644</td>\n",
              "      <td>1036485</td>\n",
              "      <td>632</td>\n",
              "      <td>30043715</td>\n",
              "      <td>23833910</td>\n",
              "      <td>1,3,5,21,23,31,38,43,45,46,49,60,77,106,109,11...</td>\n",
              "      <td>zmupload.com</td>\n",
              "      <td>zmupload.com</td>\n",
              "      <td>768:94wO7XBz+5Qm3W0tYdrQZHV4EWuWEUOg4jjfS3P:+L...</td>\n",
              "      <td>6beb9abd6fbedb6def7ee7775795d65ddfa77ab5afd676...</td>\n",
              "      <td>NaN</td>\n",
              "      <td>1/1/2017 9:03:00 PM</td>\n",
              "      <td>a77bfeed-e427-45cb-97c3-f9bc2715037e</td>\n",
              "      <td>True</td>\n",
              "      <td>28232</td>\n",
              "      <td>NaN</td>\n",
              "      <td>NaN</td>\n",
              "      <td>NaN</td>\n",
              "      <td>NaN</td>\n",
              "      <td>NaN</td>\n",
              "      <td>NaN</td>\n",
              "      <td>00000000</td>\n",
              "      <td>0.0</td>\n",
              "      <td>2</td>\n",
              "      <td>NaN</td>\n",
              "      <td>NaN</td>\n",
              "      <td>internet</td>\n",
              "      <td>NaN</td>\n",
              "      <td>NaN</td>\n",
              "      <td>NaN</td>\n",
              "      <td>True</td>\n",
              "      <td>NaN</td>\n",
              "      <td>12/5/2009 10:50:41 PM</td>\n",
              "    </tr>\n",
              "    <tr>\n",
              "      <th>205790</th>\n",
              "      <td>MW2_MP_FoV-Changer-v1-2-211-0.zip</td>\n",
              "      <td>1680908</td>\n",
              "      <td>8941078</td>\n",
              "      <td>14699971</td>\n",
              "      <td>9641</td>\n",
              "      <td>46623</td>\n",
              "      <td>188146</td>\n",
              "      <td>979277</td>\n",
              "      <td>14928587</td>\n",
              "      <td>2720</td>\n",
              "      <td>5644</td>\n",
              "      <td>24632</td>\n",
              "      <td>616</td>\n",
              "      <td>4695249</td>\n",
              "      <td>3612120</td>\n",
              "      <td>1,5,21,23,31,37,45,85,94,97,106,109,110,113,11...</td>\n",
              "      <td>mapmodnews.com</td>\n",
              "      <td>www.mapmodnews.com</td>\n",
              "      <td>1536:gg7SAbkt/THgYhbOSsZiNlEktXk18LFrJy8zR2ktp...</td>\n",
              "      <td>efeef5afff7b657b5b9e6aab9bd666565e755da96f5555...</td>\n",
              "      <td>NaN</td>\n",
              "      <td>1/1/2017 10:00:58 PM</td>\n",
              "      <td>a715ae3a-f611-478f-a8a9-e302c6c04bed</td>\n",
              "      <td>True</td>\n",
              "      <td>83456</td>\n",
              "      <td>1.0.0.0</td>\n",
              "      <td>APP</td>\n",
              "      <td>NaN</td>\n",
              "      <td>NaN</td>\n",
              "      <td>NaN</td>\n",
              "      <td>NaN</td>\n",
              "      <td>00000000</td>\n",
              "      <td>0.0</td>\n",
              "      <td>2</td>\n",
              "      <td>NaN</td>\n",
              "      <td>NaN</td>\n",
              "      <td>internet</td>\n",
              "      <td>NaN</td>\n",
              "      <td>True</td>\n",
              "      <td>NaN</td>\n",
              "      <td>True</td>\n",
              "      <td>NaN</td>\n",
              "      <td>9/9/2015 4:20:21 AM</td>\n",
              "    </tr>\n",
              "  </tbody>\n",
              "</table>\n",
              "</div>"
            ],
            "text/plain": [
              "                               FileNameID  ...            PeTimestamp\n",
              "205785                            7689177  ...                    NaN\n",
              "205786                            7689196  ...  12/5/2009 10:50:41 PM\n",
              "205787         MW2RustZombies_1.01_zm.exe  ...  12/5/2009 10:50:41 PM\n",
              "205788         MW2RustZombies_1.01_zm.exe  ...  12/5/2009 10:50:41 PM\n",
              "205789         MW2RustZombies_1.01_zm.exe  ...  12/5/2009 10:50:41 PM\n",
              "205790  MW2_MP_FoV-Changer-v1-2-211-0.zip  ...    9/9/2015 4:20:21 AM\n",
              "\n",
              "[6 rows x 43 columns]"
            ]
          },
          "metadata": {
            "tags": []
          },
          "execution_count": 8
        }
      ]
    },
    {
      "cell_type": "code",
      "metadata": {
        "id": "wzXN2OMaCy3l",
        "colab_type": "code",
        "outputId": "e1dc748e-9883-4614-e731-50b8e4fc02a8",
        "colab": {
          "base_uri": "https://localhost:8080/",
          "height": 34
        }
      },
      "source": [
        "df.shape"
      ],
      "execution_count": 9,
      "outputs": [
        {
          "output_type": "execute_result",
          "data": {
            "text/plain": [
              "(205791, 43)"
            ]
          },
          "metadata": {
            "tags": []
          },
          "execution_count": 9
        }
      ]
    },
    {
      "cell_type": "code",
      "metadata": {
        "id": "EHjZco4WhCA4",
        "colab_type": "code",
        "colab": {}
      },
      "source": [
        "def dump_time(st):\n",
        "  return st.split()[0] if st.split() else 'NaN'\n"
      ],
      "execution_count": 0,
      "outputs": []
    },
    {
      "cell_type": "code",
      "metadata": {
        "id": "1wqHv7UJhIWY",
        "colab_type": "code",
        "outputId": "59bc6208-f6e9-4e78-a6f7-c131913bb2eb",
        "colab": {
          "base_uri": "https://localhost:8080/",
          "height": 391
        }
      },
      "source": [
        "df.ReportTime = df.ReportTime.apply(dump_time)\n",
        "\n",
        "df.ReportTime = pd.to_datetime(df.ReportTime)\n",
        "\n",
        "df_group_by_time = df.groupby(df.ReportTime.dt.day)\n",
        "\n",
        "df_group_by_time.tail(n=6)"
      ],
      "execution_count": 11,
      "outputs": [
        {
          "output_type": "execute_result",
          "data": {
            "text/html": [
              "<div>\n",
              "<style scoped>\n",
              "    .dataframe tbody tr th:only-of-type {\n",
              "        vertical-align: middle;\n",
              "    }\n",
              "\n",
              "    .dataframe tbody tr th {\n",
              "        vertical-align: top;\n",
              "    }\n",
              "\n",
              "    .dataframe thead th {\n",
              "        text-align: right;\n",
              "    }\n",
              "</style>\n",
              "<table border=\"1\" class=\"dataframe\">\n",
              "  <thead>\n",
              "    <tr style=\"text-align: right;\">\n",
              "      <th></th>\n",
              "      <th>FileNameID</th>\n",
              "      <th>Sha256ID</th>\n",
              "      <th>Md5ID</th>\n",
              "      <th>Sha1ID</th>\n",
              "      <th>IssuerID</th>\n",
              "      <th>SignerID</th>\n",
              "      <th>PublisherID</th>\n",
              "      <th>WebFileIpID</th>\n",
              "      <th>WebFileUrlID</th>\n",
              "      <th>ThreatFamilyID</th>\n",
              "      <th>ThreatNameID</th>\n",
              "      <th>SigSeqID</th>\n",
              "      <th>SignatureNameID</th>\n",
              "      <th>MachineGuidID</th>\n",
              "      <th>RowNumber</th>\n",
              "      <th>PeAttributesString</th>\n",
              "      <th>WebFileUrlDomain</th>\n",
              "      <th>WebFileUrlHostname</th>\n",
              "      <th>Ctph</th>\n",
              "      <th>LsHash</th>\n",
              "      <th>ThreatCategory</th>\n",
              "      <th>ReportTime</th>\n",
              "      <th>SpynetReportGuid</th>\n",
              "      <th>Firewall</th>\n",
              "      <th>Size</th>\n",
              "      <th>Version</th>\n",
              "      <th>Type</th>\n",
              "      <th>SignerHash</th>\n",
              "      <th>IssuerHash</th>\n",
              "      <th>IsValidCertificate</th>\n",
              "      <th>CertInvalidDetails</th>\n",
              "      <th>Checksum</th>\n",
              "      <th>IsRuntimePacked</th>\n",
              "      <th>FileAccess</th>\n",
              "      <th>Screensaver</th>\n",
              "      <th>StartupUserFolder</th>\n",
              "      <th>MarkOfTheWeb</th>\n",
              "      <th>UsnTimestamp</th>\n",
              "      <th>IsInContainer</th>\n",
              "      <th>IsContainer</th>\n",
              "      <th>IsPEFile</th>\n",
              "      <th>IsAutoRunInf</th>\n",
              "      <th>PeTimestamp</th>\n",
              "    </tr>\n",
              "  </thead>\n",
              "  <tbody>\n",
              "    <tr>\n",
              "      <th>205785</th>\n",
              "      <td>7689177</td>\n",
              "      <td>11832730</td>\n",
              "      <td>12791649</td>\n",
              "      <td>14255608</td>\n",
              "      <td>9641</td>\n",
              "      <td>46623</td>\n",
              "      <td>188146</td>\n",
              "      <td>461585</td>\n",
              "      <td>5397947</td>\n",
              "      <td>2720</td>\n",
              "      <td>5644</td>\n",
              "      <td>1036641</td>\n",
              "      <td>221</td>\n",
              "      <td>11713297</td>\n",
              "      <td>9208600</td>\n",
              "      <td>NaN</td>\n",
              "      <td>mediafire.com</td>\n",
              "      <td>download1662.mediafire.com</td>\n",
              "      <td>3072:tf6yptEYKRitLMGYeAyqsR2yE0zx9cXXYuCtylx9e...</td>\n",
              "      <td>9dd7bffeffd5fa9aad965ea7759e6e7d7e97afebfbbbf5...</td>\n",
              "      <td>NaN</td>\n",
              "      <td>2017-01-01</td>\n",
              "      <td>a3f9e1b2-e351-44bf-b946-f1b7d4b5b2db</td>\n",
              "      <td>True</td>\n",
              "      <td>136400</td>\n",
              "      <td>NaN</td>\n",
              "      <td>NaN</td>\n",
              "      <td>NaN</td>\n",
              "      <td>NaN</td>\n",
              "      <td>NaN</td>\n",
              "      <td>NaN</td>\n",
              "      <td>NaN</td>\n",
              "      <td>NaN</td>\n",
              "      <td>2</td>\n",
              "      <td>NaN</td>\n",
              "      <td>NaN</td>\n",
              "      <td>internet</td>\n",
              "      <td>NaN</td>\n",
              "      <td>NaN</td>\n",
              "      <td>NaN</td>\n",
              "      <td>False</td>\n",
              "      <td>NaN</td>\n",
              "      <td>NaN</td>\n",
              "    </tr>\n",
              "    <tr>\n",
              "      <th>205786</th>\n",
              "      <td>7689196</td>\n",
              "      <td>895354</td>\n",
              "      <td>15999024</td>\n",
              "      <td>3302887</td>\n",
              "      <td>9641</td>\n",
              "      <td>46623</td>\n",
              "      <td>188146</td>\n",
              "      <td>1012393</td>\n",
              "      <td>17246062</td>\n",
              "      <td>2720</td>\n",
              "      <td>5644</td>\n",
              "      <td>1036485</td>\n",
              "      <td>632</td>\n",
              "      <td>33513918</td>\n",
              "      <td>26902010</td>\n",
              "      <td>1,3,5,21,23,25,31,43,45,46,60,77,106,109,110,1...</td>\n",
              "      <td>zmupload.com</td>\n",
              "      <td>zmupload.com</td>\n",
              "      <td>24576:tGH0BBJjLu4sv6Pmc2N0PhmATlquEF+I5tHzBZcP...</td>\n",
              "      <td>fbf5f66e6f7afa6da7aff99e6bd5a55e9ad6b6a76ed565...</td>\n",
              "      <td>NaN</td>\n",
              "      <td>2017-01-01</td>\n",
              "      <td>9b7c0ca7-db0c-4801-aa84-712584505744</td>\n",
              "      <td>True</td>\n",
              "      <td>1307444</td>\n",
              "      <td>NaN</td>\n",
              "      <td>NaN</td>\n",
              "      <td>NaN</td>\n",
              "      <td>NaN</td>\n",
              "      <td>NaN</td>\n",
              "      <td>NaN</td>\n",
              "      <td>00000000</td>\n",
              "      <td>1.0</td>\n",
              "      <td>2</td>\n",
              "      <td>NaN</td>\n",
              "      <td>NaN</td>\n",
              "      <td>internet</td>\n",
              "      <td>NaN</td>\n",
              "      <td>NaN</td>\n",
              "      <td>NaN</td>\n",
              "      <td>True</td>\n",
              "      <td>NaN</td>\n",
              "      <td>12/5/2009 10:50:41 PM</td>\n",
              "    </tr>\n",
              "    <tr>\n",
              "      <th>205787</th>\n",
              "      <td>MW2RustZombies_1.01_zm.exe</td>\n",
              "      <td>5408277</td>\n",
              "      <td>7893603</td>\n",
              "      <td>4216411</td>\n",
              "      <td>9641</td>\n",
              "      <td>46623</td>\n",
              "      <td>188146</td>\n",
              "      <td>1012393</td>\n",
              "      <td>17246062</td>\n",
              "      <td>2720</td>\n",
              "      <td>5644</td>\n",
              "      <td>1036485</td>\n",
              "      <td>632</td>\n",
              "      <td>3351130</td>\n",
              "      <td>2607500</td>\n",
              "      <td>1,3,5,21,23,31,38,43,45,46,49,60,77,106,109,11...</td>\n",
              "      <td>zmupload.com</td>\n",
              "      <td>zmupload.com</td>\n",
              "      <td>768:94wO7XBz+5Qm3W0tYdrQZHV4EWuWEUOg4jjfS3P:+L...</td>\n",
              "      <td>6beb9abd6fbedb6def7ee7775795d65ddfa77ab5afd676...</td>\n",
              "      <td>NaN</td>\n",
              "      <td>2017-01-01</td>\n",
              "      <td>74327f2d-71c8-4fc3-aef6-509c4fff7df1</td>\n",
              "      <td>True</td>\n",
              "      <td>28232</td>\n",
              "      <td>NaN</td>\n",
              "      <td>NaN</td>\n",
              "      <td>NaN</td>\n",
              "      <td>NaN</td>\n",
              "      <td>NaN</td>\n",
              "      <td>NaN</td>\n",
              "      <td>00000000</td>\n",
              "      <td>0.0</td>\n",
              "      <td>2</td>\n",
              "      <td>NaN</td>\n",
              "      <td>NaN</td>\n",
              "      <td>internet</td>\n",
              "      <td>NaN</td>\n",
              "      <td>NaN</td>\n",
              "      <td>NaN</td>\n",
              "      <td>True</td>\n",
              "      <td>NaN</td>\n",
              "      <td>12/5/2009 10:50:41 PM</td>\n",
              "    </tr>\n",
              "    <tr>\n",
              "      <th>205788</th>\n",
              "      <td>MW2RustZombies_1.01_zm.exe</td>\n",
              "      <td>5408277</td>\n",
              "      <td>7893603</td>\n",
              "      <td>4216411</td>\n",
              "      <td>9641</td>\n",
              "      <td>46623</td>\n",
              "      <td>188146</td>\n",
              "      <td>1012393</td>\n",
              "      <td>17246062</td>\n",
              "      <td>2720</td>\n",
              "      <td>5644</td>\n",
              "      <td>1036485</td>\n",
              "      <td>632</td>\n",
              "      <td>17277466</td>\n",
              "      <td>13721080</td>\n",
              "      <td>1,3,5,21,23,31,38,43,45,46,49,60,77,106,109,11...</td>\n",
              "      <td>zmupload.com</td>\n",
              "      <td>zmupload.com</td>\n",
              "      <td>768:94wO7XBz+5Qm3W0tYdrQZHV4EWuWEUOg4jjfS3P:+L...</td>\n",
              "      <td>6beb9abd6fbedb6def7ee7775795d65ddfa77ab5afd676...</td>\n",
              "      <td>NaN</td>\n",
              "      <td>2017-01-01</td>\n",
              "      <td>a7d2984d-4104-4852-bfc4-2b33ff899176</td>\n",
              "      <td>True</td>\n",
              "      <td>28232</td>\n",
              "      <td>NaN</td>\n",
              "      <td>NaN</td>\n",
              "      <td>NaN</td>\n",
              "      <td>NaN</td>\n",
              "      <td>NaN</td>\n",
              "      <td>NaN</td>\n",
              "      <td>00000000</td>\n",
              "      <td>0.0</td>\n",
              "      <td>2</td>\n",
              "      <td>NaN</td>\n",
              "      <td>NaN</td>\n",
              "      <td>internet</td>\n",
              "      <td>NaN</td>\n",
              "      <td>NaN</td>\n",
              "      <td>NaN</td>\n",
              "      <td>True</td>\n",
              "      <td>NaN</td>\n",
              "      <td>12/5/2009 10:50:41 PM</td>\n",
              "    </tr>\n",
              "    <tr>\n",
              "      <th>205789</th>\n",
              "      <td>MW2RustZombies_1.01_zm.exe</td>\n",
              "      <td>5408277</td>\n",
              "      <td>7893603</td>\n",
              "      <td>4216411</td>\n",
              "      <td>9641</td>\n",
              "      <td>46623</td>\n",
              "      <td>188146</td>\n",
              "      <td>1012393</td>\n",
              "      <td>17246062</td>\n",
              "      <td>2720</td>\n",
              "      <td>5644</td>\n",
              "      <td>1036485</td>\n",
              "      <td>632</td>\n",
              "      <td>30043715</td>\n",
              "      <td>23833910</td>\n",
              "      <td>1,3,5,21,23,31,38,43,45,46,49,60,77,106,109,11...</td>\n",
              "      <td>zmupload.com</td>\n",
              "      <td>zmupload.com</td>\n",
              "      <td>768:94wO7XBz+5Qm3W0tYdrQZHV4EWuWEUOg4jjfS3P:+L...</td>\n",
              "      <td>6beb9abd6fbedb6def7ee7775795d65ddfa77ab5afd676...</td>\n",
              "      <td>NaN</td>\n",
              "      <td>2017-01-01</td>\n",
              "      <td>a77bfeed-e427-45cb-97c3-f9bc2715037e</td>\n",
              "      <td>True</td>\n",
              "      <td>28232</td>\n",
              "      <td>NaN</td>\n",
              "      <td>NaN</td>\n",
              "      <td>NaN</td>\n",
              "      <td>NaN</td>\n",
              "      <td>NaN</td>\n",
              "      <td>NaN</td>\n",
              "      <td>00000000</td>\n",
              "      <td>0.0</td>\n",
              "      <td>2</td>\n",
              "      <td>NaN</td>\n",
              "      <td>NaN</td>\n",
              "      <td>internet</td>\n",
              "      <td>NaN</td>\n",
              "      <td>NaN</td>\n",
              "      <td>NaN</td>\n",
              "      <td>True</td>\n",
              "      <td>NaN</td>\n",
              "      <td>12/5/2009 10:50:41 PM</td>\n",
              "    </tr>\n",
              "    <tr>\n",
              "      <th>205790</th>\n",
              "      <td>MW2_MP_FoV-Changer-v1-2-211-0.zip</td>\n",
              "      <td>1680908</td>\n",
              "      <td>8941078</td>\n",
              "      <td>14699971</td>\n",
              "      <td>9641</td>\n",
              "      <td>46623</td>\n",
              "      <td>188146</td>\n",
              "      <td>979277</td>\n",
              "      <td>14928587</td>\n",
              "      <td>2720</td>\n",
              "      <td>5644</td>\n",
              "      <td>24632</td>\n",
              "      <td>616</td>\n",
              "      <td>4695249</td>\n",
              "      <td>3612120</td>\n",
              "      <td>1,5,21,23,31,37,45,85,94,97,106,109,110,113,11...</td>\n",
              "      <td>mapmodnews.com</td>\n",
              "      <td>www.mapmodnews.com</td>\n",
              "      <td>1536:gg7SAbkt/THgYhbOSsZiNlEktXk18LFrJy8zR2ktp...</td>\n",
              "      <td>efeef5afff7b657b5b9e6aab9bd666565e755da96f5555...</td>\n",
              "      <td>NaN</td>\n",
              "      <td>2017-01-01</td>\n",
              "      <td>a715ae3a-f611-478f-a8a9-e302c6c04bed</td>\n",
              "      <td>True</td>\n",
              "      <td>83456</td>\n",
              "      <td>1.0.0.0</td>\n",
              "      <td>APP</td>\n",
              "      <td>NaN</td>\n",
              "      <td>NaN</td>\n",
              "      <td>NaN</td>\n",
              "      <td>NaN</td>\n",
              "      <td>00000000</td>\n",
              "      <td>0.0</td>\n",
              "      <td>2</td>\n",
              "      <td>NaN</td>\n",
              "      <td>NaN</td>\n",
              "      <td>internet</td>\n",
              "      <td>NaN</td>\n",
              "      <td>True</td>\n",
              "      <td>NaN</td>\n",
              "      <td>True</td>\n",
              "      <td>NaN</td>\n",
              "      <td>9/9/2015 4:20:21 AM</td>\n",
              "    </tr>\n",
              "  </tbody>\n",
              "</table>\n",
              "</div>"
            ],
            "text/plain": [
              "                               FileNameID  ...            PeTimestamp\n",
              "205785                            7689177  ...                    NaN\n",
              "205786                            7689196  ...  12/5/2009 10:50:41 PM\n",
              "205787         MW2RustZombies_1.01_zm.exe  ...  12/5/2009 10:50:41 PM\n",
              "205788         MW2RustZombies_1.01_zm.exe  ...  12/5/2009 10:50:41 PM\n",
              "205789         MW2RustZombies_1.01_zm.exe  ...  12/5/2009 10:50:41 PM\n",
              "205790  MW2_MP_FoV-Changer-v1-2-211-0.zip  ...    9/9/2015 4:20:21 AM\n",
              "\n",
              "[6 rows x 43 columns]"
            ]
          },
          "metadata": {
            "tags": []
          },
          "execution_count": 11
        }
      ]
    },
    {
      "cell_type": "code",
      "metadata": {
        "id": "8wHXnfKvhJar",
        "colab_type": "code",
        "outputId": "ad9a18a2-3797-4713-dc7f-ea631c33ad37",
        "colab": {
          "base_uri": "https://localhost:8080/",
          "height": 643
        }
      },
      "source": [
        "\n",
        "\n",
        "fig = plt.figure(figsize = (10,10))\n",
        "ax = fig.gca()\n",
        "\n",
        "df_group_by_time.ReportTime.hist(ax=ax)\n"
      ],
      "execution_count": 12,
      "outputs": [
        {
          "output_type": "execute_result",
          "data": {
            "text/plain": [
              "ReportTime\n",
              "1    AxesSubplot(0.125,0.125;0.775x0.755)\n",
              "Name: ReportTime, dtype: object"
            ]
          },
          "metadata": {
            "tags": []
          },
          "execution_count": 12
        },
        {
          "output_type": "display_data",
          "data": {
            "image/png": "[encoded data removed]",
            "text/plain": [
              "<Figure size 720x720 with 1 Axes>"
            ]
          },
          "metadata": {
            "tags": [],
            "needs_background": "light"
          }
        }
      ]
    },
    {
      "cell_type": "code",
      "metadata": {
        "id": "6xQNxYclgHxy",
        "colab_type": "code",
        "colab": {}
      },
      "source": [
        "# df = df[[\"FileNameID\",\"Sha1ID\",\"ThreatFamilyID\",\"ThreatNameID\",\"WebFileUrlDomain\",\"WebFileUrlHostname\"]]\n",
        "# df.head(n=6)"
      ],
      "execution_count": 0,
      "outputs": []
    },
    {
      "cell_type": "markdown",
      "metadata": {
        "id": "A1Oe1p-V5D__",
        "colab_type": "text"
      },
      "source": [
        "Textual features:\n",
        "FileNameID, WebFuleUrlDomain, WebFileUrlHostname.\n",
        "\n",
        "***FileNameID:***\n",
        "This column should be used, because it can indicate couple of things about the file itself.\n",
        "First, the suffix of the file might imply about the maliciousness of the file, for example, 'exe' files are surely more suspicious, because a malicious code might run while executing those files.\n",
        "Second, the file name itself can raise the suspicious. Common knowledge from surfing the web indicates that attackers might use well-known software names for their malicious files for example \"bsplayer_pro270.1080.exe\". (entry number 8 at the dataset)\n",
        "\n",
        "***WebFileUrlDomain:***\n",
        "Suspicious domains might lead to rais the probability that the file is malicious, even though attackers sometimes use common well-known domains to upload their files, such as Dropbox, GoogleDrive, MediaFire in order to pass some security checks.\n",
        "\n",
        "***WebFileUrlHostname***\n",
        "Sometimes the domain (the network itself) might be non-suspicious, but a machine through this domain (the hostname) can produce a lot of malicious files, for example :\n",
        "\"mediafire.com\" and the hostname: \"download1507.mediafire.com\".\n",
        "With the cloud storage services today, attackers might hide behind those distributed storage services and the hostname should be considered."
      ]
    },
    {
      "cell_type": "code",
      "metadata": {
        "id": "Kr-1GoVRyHji",
        "colab_type": "code",
        "outputId": "cce45ad4-4a54-4ffb-a9ab-1255f50f843e",
        "colab": {
          "base_uri": "https://localhost:8080/",
          "height": 1000
        }
      },
      "source": [
        "#Filtered data-set\n",
        "\n",
        "df = df[df.FileNameID.str.isdigit() == False]\n",
        "df.head(n=30)"
      ],
      "execution_count": 14,
      "outputs": [
        {
          "output_type": "execute_result",
          "data": {
            "text/html": [
              "<div>\n",
              "<style scoped>\n",
              "    .dataframe tbody tr th:only-of-type {\n",
              "        vertical-align: middle;\n",
              "    }\n",
              "\n",
              "    .dataframe tbody tr th {\n",
              "        vertical-align: top;\n",
              "    }\n",
              "\n",
              "    .dataframe thead th {\n",
              "        text-align: right;\n",
              "    }\n",
              "</style>\n",
              "<table border=\"1\" class=\"dataframe\">\n",
              "  <thead>\n",
              "    <tr style=\"text-align: right;\">\n",
              "      <th></th>\n",
              "      <th>FileNameID</th>\n",
              "      <th>Sha256ID</th>\n",
              "      <th>Md5ID</th>\n",
              "      <th>Sha1ID</th>\n",
              "      <th>IssuerID</th>\n",
              "      <th>SignerID</th>\n",
              "      <th>PublisherID</th>\n",
              "      <th>WebFileIpID</th>\n",
              "      <th>WebFileUrlID</th>\n",
              "      <th>ThreatFamilyID</th>\n",
              "      <th>ThreatNameID</th>\n",
              "      <th>SigSeqID</th>\n",
              "      <th>SignatureNameID</th>\n",
              "      <th>MachineGuidID</th>\n",
              "      <th>RowNumber</th>\n",
              "      <th>PeAttributesString</th>\n",
              "      <th>WebFileUrlDomain</th>\n",
              "      <th>WebFileUrlHostname</th>\n",
              "      <th>Ctph</th>\n",
              "      <th>LsHash</th>\n",
              "      <th>ThreatCategory</th>\n",
              "      <th>ReportTime</th>\n",
              "      <th>SpynetReportGuid</th>\n",
              "      <th>Firewall</th>\n",
              "      <th>Size</th>\n",
              "      <th>Version</th>\n",
              "      <th>Type</th>\n",
              "      <th>SignerHash</th>\n",
              "      <th>IssuerHash</th>\n",
              "      <th>IsValidCertificate</th>\n",
              "      <th>CertInvalidDetails</th>\n",
              "      <th>Checksum</th>\n",
              "      <th>IsRuntimePacked</th>\n",
              "      <th>FileAccess</th>\n",
              "      <th>Screensaver</th>\n",
              "      <th>StartupUserFolder</th>\n",
              "      <th>MarkOfTheWeb</th>\n",
              "      <th>UsnTimestamp</th>\n",
              "      <th>IsInContainer</th>\n",
              "      <th>IsContainer</th>\n",
              "      <th>IsPEFile</th>\n",
              "      <th>IsAutoRunInf</th>\n",
              "      <th>PeTimestamp</th>\n",
              "    </tr>\n",
              "  </thead>\n",
              "  <tbody>\n",
              "    <tr>\n",
              "      <th>5</th>\n",
              "      <td>bsplayer_free.exe</td>\n",
              "      <td>6879724</td>\n",
              "      <td>67197</td>\n",
              "      <td>6545231</td>\n",
              "      <td>9618</td>\n",
              "      <td>43582</td>\n",
              "      <td>34</td>\n",
              "      <td>778924</td>\n",
              "      <td>14124668</td>\n",
              "      <td>2720</td>\n",
              "      <td>5644</td>\n",
              "      <td>37</td>\n",
              "      <td>1291</td>\n",
              "      <td>10479025</td>\n",
              "      <td>8249640</td>\n",
              "      <td>1,5,21,23,25,30,45,46,49,51,60,73,84,86,89,90,...</td>\n",
              "      <td>deliverynowsend.com</td>\n",
              "      <td>www.deliverynowsend.com</td>\n",
              "      <td>24576:5QvY1H02hJ/X99M3suMBWom0cOGNrOhR35qjrmKy...</td>\n",
              "      <td>ebd5b97a77eeeab77aeed66b97d56d7adea77a7d7db9a5...</td>\n",
              "      <td>NaN</td>\n",
              "      <td>2017-01-01</td>\n",
              "      <td>413e9be0-4214-4855-bc79-0ad424ca156d</td>\n",
              "      <td>True</td>\n",
              "      <td>1274648</td>\n",
              "      <td>0.0.0.0</td>\n",
              "      <td>APP</td>\n",
              "      <td>7c3b2769a9c1f667aec9e680f2b144b32edc4f4a</td>\n",
              "      <td>d00cfdbf46c98a838bc10dc4e097ae0152c461bc</td>\n",
              "      <td>True</td>\n",
              "      <td>NaN</td>\n",
              "      <td>9e22bfbd</td>\n",
              "      <td>1.0</td>\n",
              "      <td>2</td>\n",
              "      <td>NaN</td>\n",
              "      <td>NaN</td>\n",
              "      <td>unknown</td>\n",
              "      <td>NaN</td>\n",
              "      <td>NaN</td>\n",
              "      <td>NaN</td>\n",
              "      <td>True</td>\n",
              "      <td>NaN</td>\n",
              "      <td>6/19/1992 10:22:17 PM</td>\n",
              "    </tr>\n",
              "    <tr>\n",
              "      <th>8</th>\n",
              "      <td>bsplayer_pro270.1080.exe</td>\n",
              "      <td>3501401</td>\n",
              "      <td>7273057</td>\n",
              "      <td>9117642</td>\n",
              "      <td>9641</td>\n",
              "      <td>46623</td>\n",
              "      <td>188146</td>\n",
              "      <td>1037662</td>\n",
              "      <td>878</td>\n",
              "      <td>2720</td>\n",
              "      <td>5644</td>\n",
              "      <td>24632</td>\n",
              "      <td>616</td>\n",
              "      <td>1156079</td>\n",
              "      <td>903060</td>\n",
              "      <td>0,1,2,3,12,18,23,24,31,33,38,45,46,49,69,84,85...</td>\n",
              "      <td>NaN</td>\n",
              "      <td>canonicalizer.ucsuri.tcs</td>\n",
              "      <td>6144:VzWiPlwflgiNLfEihMcEIi/NfmFwmEV1JTS+co8W3...</td>\n",
              "      <td>6f69bd6f57b5e6b569beda7f7765db6955e6966ffefb75...</td>\n",
              "      <td>NaN</td>\n",
              "      <td>2017-01-01</td>\n",
              "      <td>4dd0ff6b-32b2-4d83-ad75-5cd9131ae6a3</td>\n",
              "      <td>True</td>\n",
              "      <td>402278</td>\n",
              "      <td>NaN</td>\n",
              "      <td>NaN</td>\n",
              "      <td>NaN</td>\n",
              "      <td>NaN</td>\n",
              "      <td>NaN</td>\n",
              "      <td>NaN</td>\n",
              "      <td>00000000</td>\n",
              "      <td>1.0</td>\n",
              "      <td>2</td>\n",
              "      <td>NaN</td>\n",
              "      <td>NaN</td>\n",
              "      <td>internet</td>\n",
              "      <td>NaN</td>\n",
              "      <td>True</td>\n",
              "      <td>NaN</td>\n",
              "      <td>True</td>\n",
              "      <td>NaN</td>\n",
              "      <td>6/19/1992 10:22:17 PM</td>\n",
              "    </tr>\n",
              "    <tr>\n",
              "      <th>9</th>\n",
              "      <td>bsplayer_pro_sa.rar</td>\n",
              "      <td>9001092</td>\n",
              "      <td>5907338</td>\n",
              "      <td>14365028</td>\n",
              "      <td>9641</td>\n",
              "      <td>46623</td>\n",
              "      <td>188146</td>\n",
              "      <td>592096</td>\n",
              "      <td>19654065</td>\n",
              "      <td>2720</td>\n",
              "      <td>5644</td>\n",
              "      <td>1036641</td>\n",
              "      <td>221</td>\n",
              "      <td>13721883</td>\n",
              "      <td>10794560</td>\n",
              "      <td>NaN</td>\n",
              "      <td>cldmail.ru</td>\n",
              "      <td>cloclo28.cldmail.ru</td>\n",
              "      <td>196608:VQI64eTBoDzoQr/7JMvLlndl8LSjfmnnuitty9E...</td>\n",
              "      <td>aa79abbdafebddb5b9feed9f6f659697d77ea7b7ab7efe...</td>\n",
              "      <td>NaN</td>\n",
              "      <td>2017-01-01</td>\n",
              "      <td>7c920f2a-c11f-4ad0-a03e-f8843c0ed771</td>\n",
              "      <td>True</td>\n",
              "      <td>10968324</td>\n",
              "      <td>NaN</td>\n",
              "      <td>NaN</td>\n",
              "      <td>NaN</td>\n",
              "      <td>NaN</td>\n",
              "      <td>NaN</td>\n",
              "      <td>NaN</td>\n",
              "      <td>NaN</td>\n",
              "      <td>NaN</td>\n",
              "      <td>2</td>\n",
              "      <td>NaN</td>\n",
              "      <td>NaN</td>\n",
              "      <td>internet</td>\n",
              "      <td>NaN</td>\n",
              "      <td>NaN</td>\n",
              "      <td>NaN</td>\n",
              "      <td>False</td>\n",
              "      <td>NaN</td>\n",
              "      <td>NaN</td>\n",
              "    </tr>\n",
              "    <tr>\n",
              "      <th>14</th>\n",
              "      <td>bspsrc_1.3.21.rar</td>\n",
              "      <td>11353075</td>\n",
              "      <td>17000738</td>\n",
              "      <td>99222</td>\n",
              "      <td>9641</td>\n",
              "      <td>46623</td>\n",
              "      <td>188146</td>\n",
              "      <td>916667</td>\n",
              "      <td>22339856</td>\n",
              "      <td>2720</td>\n",
              "      <td>5644</td>\n",
              "      <td>1036641</td>\n",
              "      <td>221</td>\n",
              "      <td>26669863</td>\n",
              "      <td>21111130</td>\n",
              "      <td>NaN</td>\n",
              "      <td>googleusercontent.com</td>\n",
              "      <td>doc-0o-9k-docs.googleusercontent.com</td>\n",
              "      <td>24576:g1LtKn5Tfdg3QYj8CuY07gVbhi2ZcQhCj4TbRppD...</td>\n",
              "      <td>bb56dfa965aeddffdaae596f569d7fd6bbdaa576ddaf75...</td>\n",
              "      <td>NaN</td>\n",
              "      <td>2017-01-01</td>\n",
              "      <td>4c77a930-e5cb-4953-87b7-552a99661710</td>\n",
              "      <td>True</td>\n",
              "      <td>1339738</td>\n",
              "      <td>NaN</td>\n",
              "      <td>NaN</td>\n",
              "      <td>NaN</td>\n",
              "      <td>NaN</td>\n",
              "      <td>NaN</td>\n",
              "      <td>NaN</td>\n",
              "      <td>NaN</td>\n",
              "      <td>NaN</td>\n",
              "      <td>2</td>\n",
              "      <td>NaN</td>\n",
              "      <td>NaN</td>\n",
              "      <td>internet</td>\n",
              "      <td>NaN</td>\n",
              "      <td>NaN</td>\n",
              "      <td>NaN</td>\n",
              "      <td>False</td>\n",
              "      <td>NaN</td>\n",
              "      <td>NaN</td>\n",
              "    </tr>\n",
              "    <tr>\n",
              "      <th>16</th>\n",
              "      <td>bspsrc_1.3.21.rar</td>\n",
              "      <td>11353075</td>\n",
              "      <td>17000738</td>\n",
              "      <td>99222</td>\n",
              "      <td>9641</td>\n",
              "      <td>46623</td>\n",
              "      <td>188146</td>\n",
              "      <td>766653</td>\n",
              "      <td>30813797</td>\n",
              "      <td>2720</td>\n",
              "      <td>5644</td>\n",
              "      <td>1036641</td>\n",
              "      <td>221</td>\n",
              "      <td>12770052</td>\n",
              "      <td>10024740</td>\n",
              "      <td>NaN</td>\n",
              "      <td>therazzerapp.de</td>\n",
              "      <td>therazzerapp.de</td>\n",
              "      <td>24576:g1LtKn5Tfdg3QYj8CuY07gVbhi2ZcQhCj4TbRppD...</td>\n",
              "      <td>bb56dfa965aeddffdaae596f569d7fd6bbdaa576ddaf75...</td>\n",
              "      <td>NaN</td>\n",
              "      <td>2017-01-01</td>\n",
              "      <td>d7ce69d3-2d62-4eb0-8267-783ca785305d</td>\n",
              "      <td>True</td>\n",
              "      <td>1339738</td>\n",
              "      <td>NaN</td>\n",
              "      <td>NaN</td>\n",
              "      <td>NaN</td>\n",
              "      <td>NaN</td>\n",
              "      <td>NaN</td>\n",
              "      <td>NaN</td>\n",
              "      <td>NaN</td>\n",
              "      <td>NaN</td>\n",
              "      <td>2</td>\n",
              "      <td>NaN</td>\n",
              "      <td>NaN</td>\n",
              "      <td>internet</td>\n",
              "      <td>NaN</td>\n",
              "      <td>NaN</td>\n",
              "      <td>NaN</td>\n",
              "      <td>False</td>\n",
              "      <td>NaN</td>\n",
              "      <td>NaN</td>\n",
              "    </tr>\n",
              "    <tr>\n",
              "      <th>17</th>\n",
              "      <td>! !§5DarkShooter §3[10k] §5Pack.rar</td>\n",
              "      <td>14658809</td>\n",
              "      <td>6649767</td>\n",
              "      <td>3042011</td>\n",
              "      <td>9641</td>\n",
              "      <td>46623</td>\n",
              "      <td>188146</td>\n",
              "      <td>516414</td>\n",
              "      <td>4884433</td>\n",
              "      <td>2720</td>\n",
              "      <td>5644</td>\n",
              "      <td>1036378</td>\n",
              "      <td>227</td>\n",
              "      <td>20265042</td>\n",
              "      <td>16035890</td>\n",
              "      <td>NaN</td>\n",
              "      <td>mediafire.com</td>\n",
              "      <td>download1120.mediafire.com</td>\n",
              "      <td>196608:6VymlwXn2iFmGNskLKYIwF5D7LXEqUbBJFQIUx7...</td>\n",
              "      <td>bbfffbbbdbdfa6f9575a679d67ffd6699b9dabb5bd96b6...</td>\n",
              "      <td>NaN</td>\n",
              "      <td>2017-01-01</td>\n",
              "      <td>75d9c215-4c67-4e48-b502-840b84b3208b</td>\n",
              "      <td>True</td>\n",
              "      <td>14148736</td>\n",
              "      <td>NaN</td>\n",
              "      <td>NaN</td>\n",
              "      <td>NaN</td>\n",
              "      <td>NaN</td>\n",
              "      <td>NaN</td>\n",
              "      <td>NaN</td>\n",
              "      <td>NaN</td>\n",
              "      <td>NaN</td>\n",
              "      <td>2</td>\n",
              "      <td>NaN</td>\n",
              "      <td>NaN</td>\n",
              "      <td>internet</td>\n",
              "      <td>NaN</td>\n",
              "      <td>NaN</td>\n",
              "      <td>NaN</td>\n",
              "      <td>False</td>\n",
              "      <td>NaN</td>\n",
              "      <td>NaN</td>\n",
              "    </tr>\n",
              "    <tr>\n",
              "      <th>18</th>\n",
              "      <td>pcmaster_6.2.1.0_setup_u92.exe</td>\n",
              "      <td>16565404</td>\n",
              "      <td>12034874</td>\n",
              "      <td>18249637</td>\n",
              "      <td>9641</td>\n",
              "      <td>46623</td>\n",
              "      <td>186698</td>\n",
              "      <td>166472</td>\n",
              "      <td>11605396</td>\n",
              "      <td>2720</td>\n",
              "      <td>5644</td>\n",
              "      <td>1036325</td>\n",
              "      <td>628</td>\n",
              "      <td>17210263</td>\n",
              "      <td>13673050</td>\n",
              "      <td>1,5,21,23,25,43,45,46,60,69,73,77,98,106,109,1...</td>\n",
              "      <td>baidu.com</td>\n",
              "      <td>sw.bos.baidu.com</td>\n",
              "      <td>196608:VV8mZL2xozgMLEAeqXlw5Y3dxj149WyLf8reaZX...</td>\n",
              "      <td>7b6b9aeb67575f6977afedee557ffad9ef7a59baf9af6b...</td>\n",
              "      <td>NaN</td>\n",
              "      <td>2017-01-01</td>\n",
              "      <td>638ff86e-835c-42e6-a60e-75d74e9963f1</td>\n",
              "      <td>True</td>\n",
              "      <td>12770048</td>\n",
              "      <td>6.2.1.0</td>\n",
              "      <td>APP</td>\n",
              "      <td>NaN</td>\n",
              "      <td>NaN</td>\n",
              "      <td>NaN</td>\n",
              "      <td>NaN</td>\n",
              "      <td>00c3615a</td>\n",
              "      <td>1.0</td>\n",
              "      <td>2</td>\n",
              "      <td>NaN</td>\n",
              "      <td>NaN</td>\n",
              "      <td>restricted_sites</td>\n",
              "      <td>NaN</td>\n",
              "      <td>NaN</td>\n",
              "      <td>NaN</td>\n",
              "      <td>True</td>\n",
              "      <td>NaN</td>\n",
              "      <td>9/26/2011 1:21:33 PM</td>\n",
              "    </tr>\n",
              "    <tr>\n",
              "      <th>22</th>\n",
              "      <td>MW3.1(1.1.1.86)Installer_IS_rev2.exe</td>\n",
              "      <td>10277180</td>\n",
              "      <td>14374549</td>\n",
              "      <td>2078403</td>\n",
              "      <td>9641</td>\n",
              "      <td>46623</td>\n",
              "      <td>101944</td>\n",
              "      <td>898071</td>\n",
              "      <td>17188825</td>\n",
              "      <td>2720</td>\n",
              "      <td>5644</td>\n",
              "      <td>1036485</td>\n",
              "      <td>632</td>\n",
              "      <td>1738307</td>\n",
              "      <td>1380320</td>\n",
              "      <td>1,3,5,21,23,25,31,37,45,63,69,73,85,94,106,109...</td>\n",
              "      <td>xkeys.com</td>\n",
              "      <td>xkeys.com</td>\n",
              "      <td>393216:MXuadsUu/aMi4Wq5qsuVqg8wCtKr0XV6dQSNEGa...</td>\n",
              "      <td>bbe6a96f5b6fef56f7feb55be76be55eeda6a6696ae665...</td>\n",
              "      <td>NaN</td>\n",
              "      <td>2017-01-01</td>\n",
              "      <td>757311ba-b151-4a8d-9023-156978c45ccc</td>\n",
              "      <td>NaN</td>\n",
              "      <td>16698259</td>\n",
              "      <td>1.1.1.86</td>\n",
              "      <td>DLL</td>\n",
              "      <td>NaN</td>\n",
              "      <td>NaN</td>\n",
              "      <td>NaN</td>\n",
              "      <td>NaN</td>\n",
              "      <td>00000000</td>\n",
              "      <td>1.0</td>\n",
              "      <td>2</td>\n",
              "      <td>NaN</td>\n",
              "      <td>NaN</td>\n",
              "      <td>internet</td>\n",
              "      <td>1/1/2017 11:43:10 PM</td>\n",
              "      <td>NaN</td>\n",
              "      <td>NaN</td>\n",
              "      <td>True</td>\n",
              "      <td>NaN</td>\n",
              "      <td>9/15/2015 5:38:26 AM</td>\n",
              "    </tr>\n",
              "    <tr>\n",
              "      <th>26</th>\n",
              "      <td>bsv3.6.0.550.CN.2899892505.exe</td>\n",
              "      <td>7873369</td>\n",
              "      <td>18165569</td>\n",
              "      <td>3219835</td>\n",
              "      <td>9641</td>\n",
              "      <td>46623</td>\n",
              "      <td>20143</td>\n",
              "      <td>553562</td>\n",
              "      <td>4128412</td>\n",
              "      <td>2720</td>\n",
              "      <td>5644</td>\n",
              "      <td>24632</td>\n",
              "      <td>616</td>\n",
              "      <td>15700485</td>\n",
              "      <td>12358930</td>\n",
              "      <td>0,1,2,4,5,12,17,18,21,23,31,37,45,49,60,63,85,...</td>\n",
              "      <td>baidu.com</td>\n",
              "      <td>dlsw.baidu.com</td>\n",
              "      <td>3072:CCNZX3gWby7K1KdwIlh1sNyJE+wShFrJJGD9BOaoM...</td>\n",
              "      <td>5fee6faf7ba66e7aabf96d9b5b6d7597dd5de667beddf9...</td>\n",
              "      <td>NaN</td>\n",
              "      <td>2017-01-01</td>\n",
              "      <td>e05a1b89-bc01-43b2-8c50-45437c498e21</td>\n",
              "      <td>True</td>\n",
              "      <td>151040</td>\n",
              "      <td>1.0.0.5</td>\n",
              "      <td>APP</td>\n",
              "      <td>NaN</td>\n",
              "      <td>NaN</td>\n",
              "      <td>NaN</td>\n",
              "      <td>NaN</td>\n",
              "      <td>00000000</td>\n",
              "      <td>1.0</td>\n",
              "      <td>2</td>\n",
              "      <td>NaN</td>\n",
              "      <td>NaN</td>\n",
              "      <td>restricted_sites</td>\n",
              "      <td>NaN</td>\n",
              "      <td>True</td>\n",
              "      <td>NaN</td>\n",
              "      <td>True</td>\n",
              "      <td>NaN</td>\n",
              "      <td>10/11/2010 2:38:05 PM</td>\n",
              "    </tr>\n",
              "    <tr>\n",
              "      <th>27</th>\n",
              "      <td>bsv3.6.0.550.CN.exe</td>\n",
              "      <td>7873369</td>\n",
              "      <td>18165569</td>\n",
              "      <td>3219835</td>\n",
              "      <td>9641</td>\n",
              "      <td>46623</td>\n",
              "      <td>20143</td>\n",
              "      <td>386866</td>\n",
              "      <td>12407975</td>\n",
              "      <td>2720</td>\n",
              "      <td>5644</td>\n",
              "      <td>24632</td>\n",
              "      <td>616</td>\n",
              "      <td>30360199</td>\n",
              "      <td>24083040</td>\n",
              "      <td>0,1,2,4,5,12,17,18,21,23,31,37,45,49,60,63,85,...</td>\n",
              "      <td>bitspirit.cc</td>\n",
              "      <td>www.bitspirit.cc</td>\n",
              "      <td>3072:CCNZX3gWby7K1KdwIlh1sNyJE+wShFrJJGD9BOaoM...</td>\n",
              "      <td>5fee6faf7ba66e7aabf96d9b5b6d7597dd5de667beddf9...</td>\n",
              "      <td>NaN</td>\n",
              "      <td>2017-01-01</td>\n",
              "      <td>fa029079-7e5e-4881-af77-e2c70b0fd294</td>\n",
              "      <td>True</td>\n",
              "      <td>151040</td>\n",
              "      <td>1.0.0.5</td>\n",
              "      <td>APP</td>\n",
              "      <td>NaN</td>\n",
              "      <td>NaN</td>\n",
              "      <td>NaN</td>\n",
              "      <td>NaN</td>\n",
              "      <td>00000000</td>\n",
              "      <td>1.0</td>\n",
              "      <td>2</td>\n",
              "      <td>NaN</td>\n",
              "      <td>NaN</td>\n",
              "      <td>restricted_sites</td>\n",
              "      <td>NaN</td>\n",
              "      <td>True</td>\n",
              "      <td>NaN</td>\n",
              "      <td>True</td>\n",
              "      <td>NaN</td>\n",
              "      <td>10/11/2010 2:38:05 PM</td>\n",
              "    </tr>\n",
              "    <tr>\n",
              "      <th>28</th>\n",
              "      <td>pcmaster_6.2.1.0_setup_u92.exe</td>\n",
              "      <td>16565404</td>\n",
              "      <td>12034874</td>\n",
              "      <td>18249637</td>\n",
              "      <td>9641</td>\n",
              "      <td>46623</td>\n",
              "      <td>186698</td>\n",
              "      <td>187205</td>\n",
              "      <td>11605396</td>\n",
              "      <td>2720</td>\n",
              "      <td>5644</td>\n",
              "      <td>1036325</td>\n",
              "      <td>628</td>\n",
              "      <td>13952681</td>\n",
              "      <td>10970500</td>\n",
              "      <td>1,5,21,23,25,43,45,46,60,69,73,77,98,106,109,1...</td>\n",
              "      <td>baidu.com</td>\n",
              "      <td>sw.bos.baidu.com</td>\n",
              "      <td>196608:VV8mZL2xozgMLEAeqXlw5Y3dxj149WyLf8reaZX...</td>\n",
              "      <td>7b6b9aeb67575f6977afedee557ffad9ef7a59baf9af6b...</td>\n",
              "      <td>NaN</td>\n",
              "      <td>2017-01-01</td>\n",
              "      <td>697cf077-8c35-4f78-b21a-9c3663552313</td>\n",
              "      <td>True</td>\n",
              "      <td>12770048</td>\n",
              "      <td>6.2.1.0</td>\n",
              "      <td>APP</td>\n",
              "      <td>NaN</td>\n",
              "      <td>NaN</td>\n",
              "      <td>NaN</td>\n",
              "      <td>NaN</td>\n",
              "      <td>00c3615a</td>\n",
              "      <td>1.0</td>\n",
              "      <td>5</td>\n",
              "      <td>NaN</td>\n",
              "      <td>NaN</td>\n",
              "      <td>restricted_sites</td>\n",
              "      <td>NaN</td>\n",
              "      <td>NaN</td>\n",
              "      <td>NaN</td>\n",
              "      <td>True</td>\n",
              "      <td>NaN</td>\n",
              "      <td>9/26/2011 1:21:33 PM</td>\n",
              "    </tr>\n",
              "    <tr>\n",
              "      <th>29</th>\n",
              "      <td>pcmaster_6.2.1.0_setup_u92.exe</td>\n",
              "      <td>16565404</td>\n",
              "      <td>12034874</td>\n",
              "      <td>18249637</td>\n",
              "      <td>9641</td>\n",
              "      <td>46623</td>\n",
              "      <td>186698</td>\n",
              "      <td>169053</td>\n",
              "      <td>11605396</td>\n",
              "      <td>2720</td>\n",
              "      <td>5644</td>\n",
              "      <td>1036325</td>\n",
              "      <td>628</td>\n",
              "      <td>3745742</td>\n",
              "      <td>2902280</td>\n",
              "      <td>1,5,21,23,25,43,45,46,60,69,73,77,98,106,109,1...</td>\n",
              "      <td>baidu.com</td>\n",
              "      <td>sw.bos.baidu.com</td>\n",
              "      <td>196608:VV8mZL2xozgMLEAeqXlw5Y3dxj149WyLf8reaZX...</td>\n",
              "      <td>7b6b9aeb67575f6977afedee557ffad9ef7a59baf9af6b...</td>\n",
              "      <td>NaN</td>\n",
              "      <td>2017-01-01</td>\n",
              "      <td>c70fe079-ed73-4dcc-9893-750e19ba9297</td>\n",
              "      <td>True</td>\n",
              "      <td>12770048</td>\n",
              "      <td>6.2.1.0</td>\n",
              "      <td>APP</td>\n",
              "      <td>NaN</td>\n",
              "      <td>NaN</td>\n",
              "      <td>NaN</td>\n",
              "      <td>NaN</td>\n",
              "      <td>00c3615a</td>\n",
              "      <td>1.0</td>\n",
              "      <td>2</td>\n",
              "      <td>NaN</td>\n",
              "      <td>NaN</td>\n",
              "      <td>restricted_sites</td>\n",
              "      <td>NaN</td>\n",
              "      <td>NaN</td>\n",
              "      <td>NaN</td>\n",
              "      <td>True</td>\n",
              "      <td>NaN</td>\n",
              "      <td>9/26/2011 1:21:33 PM</td>\n",
              "    </tr>\n",
              "    <tr>\n",
              "      <th>30</th>\n",
              "      <td>pcmaster_6.2.1.0_setup_u92.exe</td>\n",
              "      <td>16565404</td>\n",
              "      <td>12034874</td>\n",
              "      <td>18249637</td>\n",
              "      <td>9641</td>\n",
              "      <td>46623</td>\n",
              "      <td>186698</td>\n",
              "      <td>187205</td>\n",
              "      <td>11605396</td>\n",
              "      <td>2720</td>\n",
              "      <td>5644</td>\n",
              "      <td>1036325</td>\n",
              "      <td>628</td>\n",
              "      <td>4369058</td>\n",
              "      <td>3357110</td>\n",
              "      <td>1,5,21,23,25,43,45,46,60,69,73,77,98,106,109,1...</td>\n",
              "      <td>baidu.com</td>\n",
              "      <td>sw.bos.baidu.com</td>\n",
              "      <td>196608:VV8mZL2xozgMLEAeqXlw5Y3dxj149WyLf8reaZX...</td>\n",
              "      <td>7b6b9aeb67575f6977afedee557ffad9ef7a59baf9af6b...</td>\n",
              "      <td>NaN</td>\n",
              "      <td>2017-01-01</td>\n",
              "      <td>a99041a6-d9b1-42fe-baad-1cdbfa9d79a5</td>\n",
              "      <td>True</td>\n",
              "      <td>12770048</td>\n",
              "      <td>6.2.1.0</td>\n",
              "      <td>APP</td>\n",
              "      <td>NaN</td>\n",
              "      <td>NaN</td>\n",
              "      <td>NaN</td>\n",
              "      <td>NaN</td>\n",
              "      <td>00c3615a</td>\n",
              "      <td>1.0</td>\n",
              "      <td>2</td>\n",
              "      <td>NaN</td>\n",
              "      <td>NaN</td>\n",
              "      <td>restricted_sites</td>\n",
              "      <td>NaN</td>\n",
              "      <td>NaN</td>\n",
              "      <td>NaN</td>\n",
              "      <td>True</td>\n",
              "      <td>NaN</td>\n",
              "      <td>9/26/2011 1:21:33 PM</td>\n",
              "    </tr>\n",
              "    <tr>\n",
              "      <th>34</th>\n",
              "      <td>bsv3.6.0.550.MU.exe</td>\n",
              "      <td>7873369</td>\n",
              "      <td>18165569</td>\n",
              "      <td>3219835</td>\n",
              "      <td>9641</td>\n",
              "      <td>46623</td>\n",
              "      <td>20143</td>\n",
              "      <td>386866</td>\n",
              "      <td>12407977</td>\n",
              "      <td>2720</td>\n",
              "      <td>5644</td>\n",
              "      <td>24632</td>\n",
              "      <td>616</td>\n",
              "      <td>31474005</td>\n",
              "      <td>25269900</td>\n",
              "      <td>0,1,2,4,5,12,17,18,21,23,31,37,45,49,60,63,85,...</td>\n",
              "      <td>bitspirit.cc</td>\n",
              "      <td>www.bitspirit.cc</td>\n",
              "      <td>3072:CCNZX3gWby7K1KdwIlh1sNyJE+wShFrJJGD9BOaoM...</td>\n",
              "      <td>5fee6faf7ba66e7aabf96d9b5b6d7597dd5de667beddf9...</td>\n",
              "      <td>NaN</td>\n",
              "      <td>2017-01-01</td>\n",
              "      <td>8a742526-05c8-4739-b388-824f083f5f97</td>\n",
              "      <td>NaN</td>\n",
              "      <td>151040</td>\n",
              "      <td>1.0.0.5</td>\n",
              "      <td>APP</td>\n",
              "      <td>NaN</td>\n",
              "      <td>NaN</td>\n",
              "      <td>NaN</td>\n",
              "      <td>NaN</td>\n",
              "      <td>00000000</td>\n",
              "      <td>1.0</td>\n",
              "      <td>2</td>\n",
              "      <td>NaN</td>\n",
              "      <td>NaN</td>\n",
              "      <td>internet</td>\n",
              "      <td>1/1/2017 8:03:45 AM</td>\n",
              "      <td>True</td>\n",
              "      <td>NaN</td>\n",
              "      <td>True</td>\n",
              "      <td>NaN</td>\n",
              "      <td>10/11/2010 2:38:05 PM</td>\n",
              "    </tr>\n",
              "    <tr>\n",
              "      <th>36</th>\n",
              "      <td>bsv3.6.0.550.MU.exe</td>\n",
              "      <td>7873369</td>\n",
              "      <td>18165569</td>\n",
              "      <td>3219835</td>\n",
              "      <td>9641</td>\n",
              "      <td>46623</td>\n",
              "      <td>20143</td>\n",
              "      <td>386866</td>\n",
              "      <td>12407977</td>\n",
              "      <td>2720</td>\n",
              "      <td>5644</td>\n",
              "      <td>24632</td>\n",
              "      <td>616</td>\n",
              "      <td>17797773</td>\n",
              "      <td>14138720</td>\n",
              "      <td>0,1,2,4,5,12,17,18,21,23,31,37,45,49,60,63,85,...</td>\n",
              "      <td>bitspirit.cc</td>\n",
              "      <td>www.bitspirit.cc</td>\n",
              "      <td>3072:CCNZX3gWby7K1KdwIlh1sNyJE+wShFrJJGD9BOaoM...</td>\n",
              "      <td>5fee6faf7ba66e7aabf96d9b5b6d7597dd5de667beddf9...</td>\n",
              "      <td>NaN</td>\n",
              "      <td>2017-01-01</td>\n",
              "      <td>df1c89af-78cf-47b1-9ec5-6161105c462a</td>\n",
              "      <td>True</td>\n",
              "      <td>151040</td>\n",
              "      <td>1.0.0.5</td>\n",
              "      <td>APP</td>\n",
              "      <td>NaN</td>\n",
              "      <td>NaN</td>\n",
              "      <td>NaN</td>\n",
              "      <td>NaN</td>\n",
              "      <td>00000000</td>\n",
              "      <td>1.0</td>\n",
              "      <td>2</td>\n",
              "      <td>NaN</td>\n",
              "      <td>NaN</td>\n",
              "      <td>restricted_sites</td>\n",
              "      <td>NaN</td>\n",
              "      <td>True</td>\n",
              "      <td>NaN</td>\n",
              "      <td>True</td>\n",
              "      <td>NaN</td>\n",
              "      <td>10/11/2010 2:38:05 PM</td>\n",
              "    </tr>\n",
              "    <tr>\n",
              "      <th>37</th>\n",
              "      <td>bsv3.6.0.550.MU.exe</td>\n",
              "      <td>7873369</td>\n",
              "      <td>18165569</td>\n",
              "      <td>3219835</td>\n",
              "      <td>9641</td>\n",
              "      <td>46623</td>\n",
              "      <td>20143</td>\n",
              "      <td>386866</td>\n",
              "      <td>12407977</td>\n",
              "      <td>2720</td>\n",
              "      <td>5644</td>\n",
              "      <td>24632</td>\n",
              "      <td>616</td>\n",
              "      <td>16154400</td>\n",
              "      <td>12699010</td>\n",
              "      <td>0,1,2,4,5,12,17,18,21,23,31,37,45,49,60,63,85,...</td>\n",
              "      <td>bitspirit.cc</td>\n",
              "      <td>www.bitspirit.cc</td>\n",
              "      <td>3072:CCNZX3gWby7K1KdwIlh1sNyJE+wShFrJJGD9BOaoM...</td>\n",
              "      <td>5fee6faf7ba66e7aabf96d9b5b6d7597dd5de667beddf9...</td>\n",
              "      <td>NaN</td>\n",
              "      <td>2017-01-01</td>\n",
              "      <td>8d593233-23f8-4626-8eb9-3aa37181f147</td>\n",
              "      <td>True</td>\n",
              "      <td>151040</td>\n",
              "      <td>1.0.0.5</td>\n",
              "      <td>APP</td>\n",
              "      <td>NaN</td>\n",
              "      <td>NaN</td>\n",
              "      <td>NaN</td>\n",
              "      <td>NaN</td>\n",
              "      <td>00000000</td>\n",
              "      <td>1.0</td>\n",
              "      <td>2</td>\n",
              "      <td>NaN</td>\n",
              "      <td>NaN</td>\n",
              "      <td>restricted_sites</td>\n",
              "      <td>NaN</td>\n",
              "      <td>True</td>\n",
              "      <td>NaN</td>\n",
              "      <td>True</td>\n",
              "      <td>NaN</td>\n",
              "      <td>10/11/2010 2:38:05 PM</td>\n",
              "    </tr>\n",
              "    <tr>\n",
              "      <th>38</th>\n",
              "      <td>! RedstoneCanarias - Pax10.rar</td>\n",
              "      <td>4064848</td>\n",
              "      <td>14755315</td>\n",
              "      <td>4736696</td>\n",
              "      <td>9641</td>\n",
              "      <td>46623</td>\n",
              "      <td>188146</td>\n",
              "      <td>462059</td>\n",
              "      <td>6047844</td>\n",
              "      <td>2720</td>\n",
              "      <td>5644</td>\n",
              "      <td>1036378</td>\n",
              "      <td>227</td>\n",
              "      <td>20227467</td>\n",
              "      <td>16008410</td>\n",
              "      <td>NaN</td>\n",
              "      <td>mediafire.com</td>\n",
              "      <td>download2156.mediafire.com</td>\n",
              "      <td>393216:GiiPTPSYY0Y+CsQF8ZzsPR5ggoKeHY2t6HBYxDJ...</td>\n",
              "      <td>bbfb6bb69b5fa7bd57a976deffebe66a5f7d77ba7d566a...</td>\n",
              "      <td>NaN</td>\n",
              "      <td>2017-01-01</td>\n",
              "      <td>89b1756d-8c59-4fa3-9be7-93647e4553ec</td>\n",
              "      <td>True</td>\n",
              "      <td>18510644</td>\n",
              "      <td>NaN</td>\n",
              "      <td>NaN</td>\n",
              "      <td>NaN</td>\n",
              "      <td>NaN</td>\n",
              "      <td>NaN</td>\n",
              "      <td>NaN</td>\n",
              "      <td>NaN</td>\n",
              "      <td>NaN</td>\n",
              "      <td>2</td>\n",
              "      <td>NaN</td>\n",
              "      <td>NaN</td>\n",
              "      <td>internet</td>\n",
              "      <td>NaN</td>\n",
              "      <td>NaN</td>\n",
              "      <td>NaN</td>\n",
              "      <td>False</td>\n",
              "      <td>NaN</td>\n",
              "      <td>NaN</td>\n",
              "    </tr>\n",
              "    <tr>\n",
              "      <th>39</th>\n",
              "      <td>pcmastersetup_u151.exe</td>\n",
              "      <td>13201394</td>\n",
              "      <td>11254978</td>\n",
              "      <td>5656854</td>\n",
              "      <td>9520</td>\n",
              "      <td>37763</td>\n",
              "      <td>186698</td>\n",
              "      <td>846070</td>\n",
              "      <td>4247874</td>\n",
              "      <td>2720</td>\n",
              "      <td>5644</td>\n",
              "      <td>24632</td>\n",
              "      <td>616</td>\n",
              "      <td>677270</td>\n",
              "      <td>529570</td>\n",
              "      <td>0,1,2,3,4,5,12,17,18,21,23,37,45,60,73,85,89,9...</td>\n",
              "      <td>ruanmei.com</td>\n",
              "      <td>down.ruanmei.com</td>\n",
              "      <td>3072:0o5lyOEspmTVd+T7ovlTEw6K1dYuYd39qJRfFI17W...</td>\n",
              "      <td>e7def69fd6de6f7e9b5ad57a97a59d7e977f5afafffbee...</td>\n",
              "      <td>NaN</td>\n",
              "      <td>2017-01-01</td>\n",
              "      <td>b8b8b518-8253-434e-b26a-39a8d0a2523d</td>\n",
              "      <td>True</td>\n",
              "      <td>218272</td>\n",
              "      <td>1.6.1.0</td>\n",
              "      <td>APP</td>\n",
              "      <td>153589c280b701514d09c0e65a8a8177bfd43b50</td>\n",
              "      <td>495847a93187cfb8c71f840cb7b41497ad95c64f</td>\n",
              "      <td>True</td>\n",
              "      <td>NaN</td>\n",
              "      <td>000376c0</td>\n",
              "      <td>1.0</td>\n",
              "      <td>2</td>\n",
              "      <td>NaN</td>\n",
              "      <td>NaN</td>\n",
              "      <td>restricted_sites</td>\n",
              "      <td>NaN</td>\n",
              "      <td>True</td>\n",
              "      <td>NaN</td>\n",
              "      <td>True</td>\n",
              "      <td>NaN</td>\n",
              "      <td>7/12/2016 2:31:09 AM</td>\n",
              "    </tr>\n",
              "    <tr>\n",
              "      <th>44</th>\n",
              "      <td>pcmatic-setup-0000.exe</td>\n",
              "      <td>8379872</td>\n",
              "      <td>8190595</td>\n",
              "      <td>10202439</td>\n",
              "      <td>9618</td>\n",
              "      <td>36464</td>\n",
              "      <td>101302</td>\n",
              "      <td>89106</td>\n",
              "      <td>23892310</td>\n",
              "      <td>2720</td>\n",
              "      <td>5644</td>\n",
              "      <td>1039239</td>\n",
              "      <td>988</td>\n",
              "      <td>34110605</td>\n",
              "      <td>27400660</td>\n",
              "      <td>1,3,5,7,12,23,25,30,45,58,60,84,89,90,94,98,10...</td>\n",
              "      <td>pcpitstop.com</td>\n",
              "      <td>files.pcpitstop.com</td>\n",
              "      <td>12288:FSxGGU888888888888W888888888884d/nzqrQ1h...</td>\n",
              "      <td>e7eab56f6b69d76fab7dea6e9755e75bdd5659fdba6565...</td>\n",
              "      <td>NaN</td>\n",
              "      <td>2017-01-01</td>\n",
              "      <td>1cff1108-03c3-4efd-9971-50d99c5e14f9</td>\n",
              "      <td>True</td>\n",
              "      <td>601032</td>\n",
              "      <td>1.0.0.19</td>\n",
              "      <td>APP</td>\n",
              "      <td>451e67c18334075892fa71811d8e93d7bdc30aa6</td>\n",
              "      <td>65439929b67973eb192d6ff243e6767adf0834e4</td>\n",
              "      <td>True</td>\n",
              "      <td>NaN</td>\n",
              "      <td>000a2ada</td>\n",
              "      <td>1.0</td>\n",
              "      <td>2</td>\n",
              "      <td>NaN</td>\n",
              "      <td>NaN</td>\n",
              "      <td>restricted_sites</td>\n",
              "      <td>NaN</td>\n",
              "      <td>True</td>\n",
              "      <td>NaN</td>\n",
              "      <td>True</td>\n",
              "      <td>NaN</td>\n",
              "      <td>1/15/2016 8:22:50 AM</td>\n",
              "    </tr>\n",
              "    <tr>\n",
              "      <th>47</th>\n",
              "      <td>pcmatic-setup-1067.exe</td>\n",
              "      <td>5534217</td>\n",
              "      <td>14525913</td>\n",
              "      <td>11932166</td>\n",
              "      <td>9618</td>\n",
              "      <td>36464</td>\n",
              "      <td>101301</td>\n",
              "      <td>89097</td>\n",
              "      <td>23892319</td>\n",
              "      <td>2720</td>\n",
              "      <td>5644</td>\n",
              "      <td>1535</td>\n",
              "      <td>1334</td>\n",
              "      <td>19862966</td>\n",
              "      <td>15719930</td>\n",
              "      <td>1,3,5,7,12,23,25,30,43,45,58,84,90,94,98,106,1...</td>\n",
              "      <td>pcpitstop.com</td>\n",
              "      <td>files.pcpitstop.com</td>\n",
              "      <td>98304:GOKG2NhgbLP3TTFKvc4afCi14H26n3VzAExxGPE1...</td>\n",
              "      <td>d7a5e9bf5b56fb6fa77a59aeab65e77fad5759fdb56575...</td>\n",
              "      <td>NaN</td>\n",
              "      <td>2017-01-01</td>\n",
              "      <td>0cf8091e-e6b8-4a24-baef-c87811da0b4e</td>\n",
              "      <td>True</td>\n",
              "      <td>6086560</td>\n",
              "      <td>1.1.0.70</td>\n",
              "      <td>APP</td>\n",
              "      <td>451e67c18334075892fa71811d8e93d7bdc30aa6</td>\n",
              "      <td>d00cfdbf46c98a838bc10dc4e097ae0152c461bc</td>\n",
              "      <td>True</td>\n",
              "      <td>NaN</td>\n",
              "      <td>005d7203</td>\n",
              "      <td>1.0</td>\n",
              "      <td>2</td>\n",
              "      <td>NaN</td>\n",
              "      <td>NaN</td>\n",
              "      <td>unknown</td>\n",
              "      <td>NaN</td>\n",
              "      <td>NaN</td>\n",
              "      <td>NaN</td>\n",
              "      <td>True</td>\n",
              "      <td>NaN</td>\n",
              "      <td>7/9/2014 7:58:13 AM</td>\n",
              "    </tr>\n",
              "    <tr>\n",
              "      <th>52</th>\n",
              "      <td>pcmatic[1].cab</td>\n",
              "      <td>7379786</td>\n",
              "      <td>13506145</td>\n",
              "      <td>12779961</td>\n",
              "      <td>9618</td>\n",
              "      <td>36464</td>\n",
              "      <td>188146</td>\n",
              "      <td>671348</td>\n",
              "      <td>23892308</td>\n",
              "      <td>2720</td>\n",
              "      <td>5644</td>\n",
              "      <td>1036121</td>\n",
              "      <td>119</td>\n",
              "      <td>29994156</td>\n",
              "      <td>23794730</td>\n",
              "      <td>NaN</td>\n",
              "      <td>pcpitstop.com</td>\n",
              "      <td>files.pcpitstop.com</td>\n",
              "      <td>49152:lzbkzwNcg3hlsuIsQwmf7GF2igbjWhTYfo8rthCl...</td>\n",
              "      <td>d79aee7f9d7b76d7b5bf6d7a7ee6ddb79e56de796a6dd9...</td>\n",
              "      <td>NaN</td>\n",
              "      <td>2017-01-01</td>\n",
              "      <td>5fee365d-3aca-4715-9aae-c95cc9748c4b</td>\n",
              "      <td>True</td>\n",
              "      <td>2003491</td>\n",
              "      <td>NaN</td>\n",
              "      <td>NaN</td>\n",
              "      <td>451e67c18334075892fa71811d8e93d7bdc30aa6</td>\n",
              "      <td>d00cfdbf46c98a838bc10dc4e097ae0152c461bc</td>\n",
              "      <td>True</td>\n",
              "      <td>NaN</td>\n",
              "      <td>NaN</td>\n",
              "      <td>NaN</td>\n",
              "      <td>2</td>\n",
              "      <td>NaN</td>\n",
              "      <td>NaN</td>\n",
              "      <td>unknown</td>\n",
              "      <td>NaN</td>\n",
              "      <td>NaN</td>\n",
              "      <td>NaN</td>\n",
              "      <td>False</td>\n",
              "      <td>NaN</td>\n",
              "      <td>NaN</td>\n",
              "    </tr>\n",
              "    <tr>\n",
              "      <th>55</th>\n",
              "      <td>pcmatic[1].cab</td>\n",
              "      <td>7379786</td>\n",
              "      <td>13506145</td>\n",
              "      <td>12779961</td>\n",
              "      <td>9618</td>\n",
              "      <td>36464</td>\n",
              "      <td>188146</td>\n",
              "      <td>671351</td>\n",
              "      <td>23892308</td>\n",
              "      <td>2720</td>\n",
              "      <td>5644</td>\n",
              "      <td>1036121</td>\n",
              "      <td>119</td>\n",
              "      <td>9108300</td>\n",
              "      <td>7164080</td>\n",
              "      <td>NaN</td>\n",
              "      <td>pcpitstop.com</td>\n",
              "      <td>files.pcpitstop.com</td>\n",
              "      <td>49152:lzbkzwNcg3hlsuIsQwmf7GF2igbjWhTYfo8rthCl...</td>\n",
              "      <td>d79aee7f9d7b76d7b5bf6d7a7ee6ddb79e56de796a6dd9...</td>\n",
              "      <td>NaN</td>\n",
              "      <td>2017-01-01</td>\n",
              "      <td>fc567c19-1895-4b83-ae06-a696bb550de2</td>\n",
              "      <td>True</td>\n",
              "      <td>2003491</td>\n",
              "      <td>NaN</td>\n",
              "      <td>NaN</td>\n",
              "      <td>451e67c18334075892fa71811d8e93d7bdc30aa6</td>\n",
              "      <td>d00cfdbf46c98a838bc10dc4e097ae0152c461bc</td>\n",
              "      <td>True</td>\n",
              "      <td>NaN</td>\n",
              "      <td>NaN</td>\n",
              "      <td>NaN</td>\n",
              "      <td>2</td>\n",
              "      <td>NaN</td>\n",
              "      <td>NaN</td>\n",
              "      <td>unknown</td>\n",
              "      <td>NaN</td>\n",
              "      <td>NaN</td>\n",
              "      <td>NaN</td>\n",
              "      <td>False</td>\n",
              "      <td>NaN</td>\n",
              "      <td>NaN</td>\n",
              "    </tr>\n",
              "    <tr>\n",
              "      <th>59</th>\n",
              "      <td>pcmatic[1].cab</td>\n",
              "      <td>7379786</td>\n",
              "      <td>13506145</td>\n",
              "      <td>12779961</td>\n",
              "      <td>9618</td>\n",
              "      <td>36464</td>\n",
              "      <td>188146</td>\n",
              "      <td>89097</td>\n",
              "      <td>23892308</td>\n",
              "      <td>2720</td>\n",
              "      <td>5644</td>\n",
              "      <td>1036121</td>\n",
              "      <td>119</td>\n",
              "      <td>28561449</td>\n",
              "      <td>22665290</td>\n",
              "      <td>NaN</td>\n",
              "      <td>pcpitstop.com</td>\n",
              "      <td>files.pcpitstop.com</td>\n",
              "      <td>49152:lzbkzwNcg3hlsuIsQwmf7GF2igbjWhTYfo8rthCl...</td>\n",
              "      <td>d79aee7f9d7b76d7b5bf6d7a7ee6ddb79e56de796a6dd9...</td>\n",
              "      <td>NaN</td>\n",
              "      <td>2017-01-01</td>\n",
              "      <td>19a5c9e8-8bea-4f3c-b16f-6924a890f546</td>\n",
              "      <td>NaN</td>\n",
              "      <td>2003491</td>\n",
              "      <td>NaN</td>\n",
              "      <td>NaN</td>\n",
              "      <td>451e67c18334075892fa71811d8e93d7bdc30aa6</td>\n",
              "      <td>d00cfdbf46c98a838bc10dc4e097ae0152c461bc</td>\n",
              "      <td>True</td>\n",
              "      <td>NaN</td>\n",
              "      <td>NaN</td>\n",
              "      <td>NaN</td>\n",
              "      <td>2</td>\n",
              "      <td>NaN</td>\n",
              "      <td>NaN</td>\n",
              "      <td>unknown</td>\n",
              "      <td>1/1/2017 3:32:24 PM</td>\n",
              "      <td>NaN</td>\n",
              "      <td>NaN</td>\n",
              "      <td>False</td>\n",
              "      <td>NaN</td>\n",
              "      <td>NaN</td>\n",
              "    </tr>\n",
              "    <tr>\n",
              "      <th>60</th>\n",
              "      <td>MWSnap300.exe</td>\n",
              "      <td>13595090</td>\n",
              "      <td>668202</td>\n",
              "      <td>14417833</td>\n",
              "      <td>9641</td>\n",
              "      <td>46623</td>\n",
              "      <td>188146</td>\n",
              "      <td>339274</td>\n",
              "      <td>14989481</td>\n",
              "      <td>2720</td>\n",
              "      <td>5644</td>\n",
              "      <td>1036485</td>\n",
              "      <td>632</td>\n",
              "      <td>34072603</td>\n",
              "      <td>27369020</td>\n",
              "      <td>1,5,21,23,25,31,43,45,60,85,94,106,109,110,112...</td>\n",
              "      <td>mirekw.com</td>\n",
              "      <td>www.mirekw.com</td>\n",
              "      <td>12288:XOzIYC1uKEaBC8dluQOdVpRWrF3iIeV2HlOzrZAd...</td>\n",
              "      <td>bfe5f6577b7fad6b6b55e9ae7fefe6969fd7df766bbd59...</td>\n",
              "      <td>NaN</td>\n",
              "      <td>2017-01-01</td>\n",
              "      <td>63b03f56-5537-4e4c-b254-b062db29e213</td>\n",
              "      <td>NaN</td>\n",
              "      <td>658771</td>\n",
              "      <td>NaN</td>\n",
              "      <td>NaN</td>\n",
              "      <td>NaN</td>\n",
              "      <td>NaN</td>\n",
              "      <td>NaN</td>\n",
              "      <td>NaN</td>\n",
              "      <td>00000000</td>\n",
              "      <td>1.0</td>\n",
              "      <td>2</td>\n",
              "      <td>NaN</td>\n",
              "      <td>NaN</td>\n",
              "      <td>internet</td>\n",
              "      <td>1/1/2017 2:36:00 PM</td>\n",
              "      <td>NaN</td>\n",
              "      <td>NaN</td>\n",
              "      <td>True</td>\n",
              "      <td>NaN</td>\n",
              "      <td>6/18/2002 6:53:18 AM</td>\n",
              "    </tr>\n",
              "    <tr>\n",
              "      <th>64</th>\n",
              "      <td>pcmatic[1].cab</td>\n",
              "      <td>7379786</td>\n",
              "      <td>13506145</td>\n",
              "      <td>12779961</td>\n",
              "      <td>9618</td>\n",
              "      <td>36464</td>\n",
              "      <td>188146</td>\n",
              "      <td>89097</td>\n",
              "      <td>23892308</td>\n",
              "      <td>2720</td>\n",
              "      <td>5644</td>\n",
              "      <td>1036121</td>\n",
              "      <td>119</td>\n",
              "      <td>5680804</td>\n",
              "      <td>4364050</td>\n",
              "      <td>NaN</td>\n",
              "      <td>pcpitstop.com</td>\n",
              "      <td>files.pcpitstop.com</td>\n",
              "      <td>49152:lzbkzwNcg3hlsuIsQwmf7GF2igbjWhTYfo8rthCl...</td>\n",
              "      <td>d79aee7f9d7b76d7b5bf6d7a7ee6ddb79e56de796a6dd9...</td>\n",
              "      <td>NaN</td>\n",
              "      <td>2017-01-01</td>\n",
              "      <td>540425f1-f6f9-4ef6-897b-78510810dea6</td>\n",
              "      <td>True</td>\n",
              "      <td>2003491</td>\n",
              "      <td>NaN</td>\n",
              "      <td>NaN</td>\n",
              "      <td>451e67c18334075892fa71811d8e93d7bdc30aa6</td>\n",
              "      <td>d00cfdbf46c98a838bc10dc4e097ae0152c461bc</td>\n",
              "      <td>True</td>\n",
              "      <td>NaN</td>\n",
              "      <td>NaN</td>\n",
              "      <td>NaN</td>\n",
              "      <td>2</td>\n",
              "      <td>NaN</td>\n",
              "      <td>NaN</td>\n",
              "      <td>unknown</td>\n",
              "      <td>NaN</td>\n",
              "      <td>NaN</td>\n",
              "      <td>NaN</td>\n",
              "      <td>False</td>\n",
              "      <td>NaN</td>\n",
              "      <td>NaN</td>\n",
              "    </tr>\n",
              "    <tr>\n",
              "      <th>65</th>\n",
              "      <td>btest.exe</td>\n",
              "      <td>17353201</td>\n",
              "      <td>2452115</td>\n",
              "      <td>4047137</td>\n",
              "      <td>9641</td>\n",
              "      <td>46623</td>\n",
              "      <td>188146</td>\n",
              "      <td>252210</td>\n",
              "      <td>14987010</td>\n",
              "      <td>2720</td>\n",
              "      <td>5644</td>\n",
              "      <td>24632</td>\n",
              "      <td>616</td>\n",
              "      <td>27801602</td>\n",
              "      <td>22044250</td>\n",
              "      <td>0,1,2,3,4,5,6,11,12,17,18,21,23,26,30,31,37,45...</td>\n",
              "      <td>mikrotik.com</td>\n",
              "      <td>www.mikrotik.com</td>\n",
              "      <td>3072:BORt93gOheROVc2zMc7leH905BjyWZWYLE4p5y7xN...</td>\n",
              "      <td>7fed76bf6a969feb6b65dd5bb766afddaa5e6add9de7db...</td>\n",
              "      <td>NaN</td>\n",
              "      <td>2017-01-01</td>\n",
              "      <td>604f1b0c-927c-4ca8-8030-6177e13bdfc0</td>\n",
              "      <td>True</td>\n",
              "      <td>156672</td>\n",
              "      <td>NaN</td>\n",
              "      <td>NaN</td>\n",
              "      <td>NaN</td>\n",
              "      <td>NaN</td>\n",
              "      <td>NaN</td>\n",
              "      <td>NaN</td>\n",
              "      <td>00000000</td>\n",
              "      <td>1.0</td>\n",
              "      <td>5</td>\n",
              "      <td>NaN</td>\n",
              "      <td>NaN</td>\n",
              "      <td>internet</td>\n",
              "      <td>NaN</td>\n",
              "      <td>NaN</td>\n",
              "      <td>NaN</td>\n",
              "      <td>True</td>\n",
              "      <td>NaN</td>\n",
              "      <td>4/19/2005 2:12:52 PM</td>\n",
              "    </tr>\n",
              "    <tr>\n",
              "      <th>66</th>\n",
              "      <td>btest.exe</td>\n",
              "      <td>17353201</td>\n",
              "      <td>2452115</td>\n",
              "      <td>4047137</td>\n",
              "      <td>9641</td>\n",
              "      <td>46623</td>\n",
              "      <td>188146</td>\n",
              "      <td>252210</td>\n",
              "      <td>14987010</td>\n",
              "      <td>2720</td>\n",
              "      <td>5644</td>\n",
              "      <td>24632</td>\n",
              "      <td>616</td>\n",
              "      <td>13986198</td>\n",
              "      <td>10999400</td>\n",
              "      <td>0,1,2,3,4,5,6,11,12,17,18,21,23,26,30,31,37,45...</td>\n",
              "      <td>mikrotik.com</td>\n",
              "      <td>www.mikrotik.com</td>\n",
              "      <td>3072:BORt93gOheROVc2zMc7leH905BjyWZWYLE4p5y7xN...</td>\n",
              "      <td>7fed76bf6a969feb6b65dd5bb766afddaa5e6add9de7db...</td>\n",
              "      <td>NaN</td>\n",
              "      <td>2017-01-01</td>\n",
              "      <td>e7ed42e0-7fe3-492b-a0f9-831e4d7d7703</td>\n",
              "      <td>NaN</td>\n",
              "      <td>156672</td>\n",
              "      <td>NaN</td>\n",
              "      <td>NaN</td>\n",
              "      <td>NaN</td>\n",
              "      <td>NaN</td>\n",
              "      <td>NaN</td>\n",
              "      <td>NaN</td>\n",
              "      <td>00000000</td>\n",
              "      <td>1.0</td>\n",
              "      <td>2</td>\n",
              "      <td>NaN</td>\n",
              "      <td>NaN</td>\n",
              "      <td>internet</td>\n",
              "      <td>1/1/2017 4:23:48 PM</td>\n",
              "      <td>NaN</td>\n",
              "      <td>NaN</td>\n",
              "      <td>True</td>\n",
              "      <td>NaN</td>\n",
              "      <td>4/19/2005 2:12:52 PM</td>\n",
              "    </tr>\n",
              "    <tr>\n",
              "      <th>69</th>\n",
              "      <td>pcmatic[1].cab</td>\n",
              "      <td>7379786</td>\n",
              "      <td>13506145</td>\n",
              "      <td>12779961</td>\n",
              "      <td>9618</td>\n",
              "      <td>36464</td>\n",
              "      <td>188146</td>\n",
              "      <td>89106</td>\n",
              "      <td>23892308</td>\n",
              "      <td>2720</td>\n",
              "      <td>5644</td>\n",
              "      <td>1036121</td>\n",
              "      <td>119</td>\n",
              "      <td>24855411</td>\n",
              "      <td>19725310</td>\n",
              "      <td>NaN</td>\n",
              "      <td>pcpitstop.com</td>\n",
              "      <td>files.pcpitstop.com</td>\n",
              "      <td>49152:lzbkzwNcg3hlsuIsQwmf7GF2igbjWhTYfo8rthCl...</td>\n",
              "      <td>d79aee7f9d7b76d7b5bf6d7a7ee6ddb79e56de796a6dd9...</td>\n",
              "      <td>NaN</td>\n",
              "      <td>2017-01-01</td>\n",
              "      <td>4dbe55bd-223a-4209-84db-1821ee74cae2</td>\n",
              "      <td>True</td>\n",
              "      <td>2003491</td>\n",
              "      <td>NaN</td>\n",
              "      <td>NaN</td>\n",
              "      <td>451e67c18334075892fa71811d8e93d7bdc30aa6</td>\n",
              "      <td>d00cfdbf46c98a838bc10dc4e097ae0152c461bc</td>\n",
              "      <td>True</td>\n",
              "      <td>NaN</td>\n",
              "      <td>NaN</td>\n",
              "      <td>NaN</td>\n",
              "      <td>2</td>\n",
              "      <td>NaN</td>\n",
              "      <td>NaN</td>\n",
              "      <td>unknown</td>\n",
              "      <td>NaN</td>\n",
              "      <td>NaN</td>\n",
              "      <td>NaN</td>\n",
              "      <td>False</td>\n",
              "      <td>NaN</td>\n",
              "      <td>NaN</td>\n",
              "    </tr>\n",
              "    <tr>\n",
              "      <th>70</th>\n",
              "      <td>pcmatic[1].cab</td>\n",
              "      <td>7379786</td>\n",
              "      <td>13506145</td>\n",
              "      <td>12779961</td>\n",
              "      <td>9618</td>\n",
              "      <td>36464</td>\n",
              "      <td>188146</td>\n",
              "      <td>671348</td>\n",
              "      <td>23892308</td>\n",
              "      <td>2720</td>\n",
              "      <td>5644</td>\n",
              "      <td>1036121</td>\n",
              "      <td>119</td>\n",
              "      <td>12281414</td>\n",
              "      <td>9665670</td>\n",
              "      <td>NaN</td>\n",
              "      <td>pcpitstop.com</td>\n",
              "      <td>files.pcpitstop.com</td>\n",
              "      <td>49152:lzbkzwNcg3hlsuIsQwmf7GF2igbjWhTYfo8rthCl...</td>\n",
              "      <td>d79aee7f9d7b76d7b5bf6d7a7ee6ddb79e56de796a6dd9...</td>\n",
              "      <td>NaN</td>\n",
              "      <td>2017-01-01</td>\n",
              "      <td>73b58aac-308a-4c0d-b0a2-1cc6ca17d6ce</td>\n",
              "      <td>True</td>\n",
              "      <td>2003491</td>\n",
              "      <td>NaN</td>\n",
              "      <td>NaN</td>\n",
              "      <td>451e67c18334075892fa71811d8e93d7bdc30aa6</td>\n",
              "      <td>d00cfdbf46c98a838bc10dc4e097ae0152c461bc</td>\n",
              "      <td>True</td>\n",
              "      <td>NaN</td>\n",
              "      <td>NaN</td>\n",
              "      <td>NaN</td>\n",
              "      <td>2</td>\n",
              "      <td>NaN</td>\n",
              "      <td>NaN</td>\n",
              "      <td>unknown</td>\n",
              "      <td>NaN</td>\n",
              "      <td>NaN</td>\n",
              "      <td>NaN</td>\n",
              "      <td>False</td>\n",
              "      <td>NaN</td>\n",
              "      <td>NaN</td>\n",
              "    </tr>\n",
              "    <tr>\n",
              "      <th>75</th>\n",
              "      <td>bts_katana_w100.zip</td>\n",
              "      <td>5368639</td>\n",
              "      <td>16969929</td>\n",
              "      <td>1027095</td>\n",
              "      <td>9641</td>\n",
              "      <td>46623</td>\n",
              "      <td>188146</td>\n",
              "      <td>825917</td>\n",
              "      <td>30659581</td>\n",
              "      <td>2720</td>\n",
              "      <td>5644</td>\n",
              "      <td>24632</td>\n",
              "      <td>616</td>\n",
              "      <td>5605302</td>\n",
              "      <td>4309720</td>\n",
              "      <td>1,5,21,23,37,45,85,94,98,106,109,110,113,114,1...</td>\n",
              "      <td>roland.com</td>\n",
              "      <td>static.roland.com</td>\n",
              "      <td>1536:YvBeYPEuH34a75oJwFMknGsFb9KFBQ2KlypnZZZZZ...</td>\n",
              "      <td>bbf5fa6eebe6aeaefdaeb55e97a5755ada6dd9b66a5595...</td>\n",
              "      <td>NaN</td>\n",
              "      <td>2017-01-01</td>\n",
              "      <td>5600266d-76fc-41f1-8b4f-6daeca2609cc</td>\n",
              "      <td>True</td>\n",
              "      <td>142336</td>\n",
              "      <td>NaN</td>\n",
              "      <td>NaN</td>\n",
              "      <td>NaN</td>\n",
              "      <td>NaN</td>\n",
              "      <td>NaN</td>\n",
              "      <td>NaN</td>\n",
              "      <td>000119c7</td>\n",
              "      <td>0.0</td>\n",
              "      <td>5</td>\n",
              "      <td>NaN</td>\n",
              "      <td>NaN</td>\n",
              "      <td>internet</td>\n",
              "      <td>NaN</td>\n",
              "      <td>True</td>\n",
              "      <td>NaN</td>\n",
              "      <td>True</td>\n",
              "      <td>NaN</td>\n",
              "      <td>11/23/2013 1:45:30 AM</td>\n",
              "    </tr>\n",
              "  </tbody>\n",
              "</table>\n",
              "</div>"
            ],
            "text/plain": [
              "                              FileNameID  ...            PeTimestamp\n",
              "5                      bsplayer_free.exe  ...  6/19/1992 10:22:17 PM\n",
              "8               bsplayer_pro270.1080.exe  ...  6/19/1992 10:22:17 PM\n",
              "9                    bsplayer_pro_sa.rar  ...                    NaN\n",
              "14                     bspsrc_1.3.21.rar  ...                    NaN\n",
              "16                     bspsrc_1.3.21.rar  ...                    NaN\n",
              "17   ! !§5DarkShooter §3[10k] §5Pack.rar  ...                    NaN\n",
              "18        pcmaster_6.2.1.0_setup_u92.exe  ...   9/26/2011 1:21:33 PM\n",
              "22  MW3.1(1.1.1.86)Installer_IS_rev2.exe  ...   9/15/2015 5:38:26 AM\n",
              "26        bsv3.6.0.550.CN.2899892505.exe  ...  10/11/2010 2:38:05 PM\n",
              "27                   bsv3.6.0.550.CN.exe  ...  10/11/2010 2:38:05 PM\n",
              "28        pcmaster_6.2.1.0_setup_u92.exe  ...   9/26/2011 1:21:33 PM\n",
              "29        pcmaster_6.2.1.0_setup_u92.exe  ...   9/26/2011 1:21:33 PM\n",
              "30        pcmaster_6.2.1.0_setup_u92.exe  ...   9/26/2011 1:21:33 PM\n",
              "34                   bsv3.6.0.550.MU.exe  ...  10/11/2010 2:38:05 PM\n",
              "36                   bsv3.6.0.550.MU.exe  ...  10/11/2010 2:38:05 PM\n",
              "37                   bsv3.6.0.550.MU.exe  ...  10/11/2010 2:38:05 PM\n",
              "38        ! RedstoneCanarias - Pax10.rar  ...                    NaN\n",
              "39                pcmastersetup_u151.exe  ...   7/12/2016 2:31:09 AM\n",
              "44                pcmatic-setup-0000.exe  ...   1/15/2016 8:22:50 AM\n",
              "47                pcmatic-setup-1067.exe  ...    7/9/2014 7:58:13 AM\n",
              "52                        pcmatic[1].cab  ...                    NaN\n",
              "55                        pcmatic[1].cab  ...                    NaN\n",
              "59                        pcmatic[1].cab  ...                    NaN\n",
              "60                         MWSnap300.exe  ...   6/18/2002 6:53:18 AM\n",
              "64                        pcmatic[1].cab  ...                    NaN\n",
              "65                             btest.exe  ...   4/19/2005 2:12:52 PM\n",
              "66                             btest.exe  ...   4/19/2005 2:12:52 PM\n",
              "69                        pcmatic[1].cab  ...                    NaN\n",
              "70                        pcmatic[1].cab  ...                    NaN\n",
              "75                   bts_katana_w100.zip  ...  11/23/2013 1:45:30 AM\n",
              "\n",
              "[30 rows x 43 columns]"
            ]
          },
          "metadata": {
            "tags": []
          },
          "execution_count": 14
        }
      ]
    },
    {
      "cell_type": "code",
      "metadata": {
        "id": "BBDUqHQ_e1FY",
        "colab_type": "code",
        "outputId": "09b61b26-1976-4f1c-d7bd-f3bc3e18b1b3",
        "colab": {
          "base_uri": "https://localhost:8080/",
          "height": 34
        }
      },
      "source": [
        "df.shape"
      ],
      "execution_count": 15,
      "outputs": [
        {
          "output_type": "execute_result",
          "data": {
            "text/plain": [
              "(76088, 43)"
            ]
          },
          "metadata": {
            "tags": []
          },
          "execution_count": 15
        }
      ]
    },
    {
      "cell_type": "code",
      "metadata": {
        "id": "63GWPac8geYj",
        "colab_type": "code",
        "outputId": "8cb07785-51ca-488f-d31f-ba3cdfbb15be",
        "colab": {
          "base_uri": "https://localhost:8080/",
          "height": 391
        }
      },
      "source": [
        "# df.ReportTime = df.ReportTime.apply(dump_time)\n",
        "\n",
        "# df.ReportTime = pd.to_datetime(df.ReportTime)\n",
        "\n",
        "df_group_by_time = df.groupby(df.ReportTime.dt.day)\n",
        "\n",
        "df_group_by_time.tail(n=6)"
      ],
      "execution_count": 16,
      "outputs": [
        {
          "output_type": "execute_result",
          "data": {
            "text/html": [
              "<div>\n",
              "<style scoped>\n",
              "    .dataframe tbody tr th:only-of-type {\n",
              "        vertical-align: middle;\n",
              "    }\n",
              "\n",
              "    .dataframe tbody tr th {\n",
              "        vertical-align: top;\n",
              "    }\n",
              "\n",
              "    .dataframe thead th {\n",
              "        text-align: right;\n",
              "    }\n",
              "</style>\n",
              "<table border=\"1\" class=\"dataframe\">\n",
              "  <thead>\n",
              "    <tr style=\"text-align: right;\">\n",
              "      <th></th>\n",
              "      <th>FileNameID</th>\n",
              "      <th>Sha256ID</th>\n",
              "      <th>Md5ID</th>\n",
              "      <th>Sha1ID</th>\n",
              "      <th>IssuerID</th>\n",
              "      <th>SignerID</th>\n",
              "      <th>PublisherID</th>\n",
              "      <th>WebFileIpID</th>\n",
              "      <th>WebFileUrlID</th>\n",
              "      <th>ThreatFamilyID</th>\n",
              "      <th>ThreatNameID</th>\n",
              "      <th>SigSeqID</th>\n",
              "      <th>SignatureNameID</th>\n",
              "      <th>MachineGuidID</th>\n",
              "      <th>RowNumber</th>\n",
              "      <th>PeAttributesString</th>\n",
              "      <th>WebFileUrlDomain</th>\n",
              "      <th>WebFileUrlHostname</th>\n",
              "      <th>Ctph</th>\n",
              "      <th>LsHash</th>\n",
              "      <th>ThreatCategory</th>\n",
              "      <th>ReportTime</th>\n",
              "      <th>SpynetReportGuid</th>\n",
              "      <th>Firewall</th>\n",
              "      <th>Size</th>\n",
              "      <th>Version</th>\n",
              "      <th>Type</th>\n",
              "      <th>SignerHash</th>\n",
              "      <th>IssuerHash</th>\n",
              "      <th>IsValidCertificate</th>\n",
              "      <th>CertInvalidDetails</th>\n",
              "      <th>Checksum</th>\n",
              "      <th>IsRuntimePacked</th>\n",
              "      <th>FileAccess</th>\n",
              "      <th>Screensaver</th>\n",
              "      <th>StartupUserFolder</th>\n",
              "      <th>MarkOfTheWeb</th>\n",
              "      <th>UsnTimestamp</th>\n",
              "      <th>IsInContainer</th>\n",
              "      <th>IsContainer</th>\n",
              "      <th>IsPEFile</th>\n",
              "      <th>IsAutoRunInf</th>\n",
              "      <th>PeTimestamp</th>\n",
              "    </tr>\n",
              "  </thead>\n",
              "  <tbody>\n",
              "    <tr>\n",
              "      <th>205766</th>\n",
              "      <td>MVC-3.0.exe</td>\n",
              "      <td>11628433</td>\n",
              "      <td>3630493</td>\n",
              "      <td>10349208</td>\n",
              "      <td>9641</td>\n",
              "      <td>46623</td>\n",
              "      <td>103737</td>\n",
              "      <td>873527</td>\n",
              "      <td>8139381</td>\n",
              "      <td>2720</td>\n",
              "      <td>5644</td>\n",
              "      <td>24632</td>\n",
              "      <td>616</td>\n",
              "      <td>1902057</td>\n",
              "      <td>1509690</td>\n",
              "      <td>1,3,5,21,23,37,45,85,94,98,106,109,110,111,112...</td>\n",
              "      <td>osuosl.org</td>\n",
              "      <td>ftp.osuosl.org</td>\n",
              "      <td>384:iWDyq0z2U5v9RvzQckn8IxfZEiagugoL2RHugIpRTR...</td>\n",
              "      <td>d7e6b97f9f59ddea9b59da6feb5a9a79df665a7bafa669...</td>\n",
              "      <td>NaN</td>\n",
              "      <td>2017-01-01</td>\n",
              "      <td>64653e5a-dbb2-4201-9ae4-eb9692ca7d67</td>\n",
              "      <td>True</td>\n",
              "      <td>20480</td>\n",
              "      <td>3.0.0.0</td>\n",
              "      <td>APP</td>\n",
              "      <td>NaN</td>\n",
              "      <td>NaN</td>\n",
              "      <td>NaN</td>\n",
              "      <td>NaN</td>\n",
              "      <td>00007ab2</td>\n",
              "      <td>0.0</td>\n",
              "      <td>2</td>\n",
              "      <td>NaN</td>\n",
              "      <td>NaN</td>\n",
              "      <td>internet</td>\n",
              "      <td>NaN</td>\n",
              "      <td>True</td>\n",
              "      <td>NaN</td>\n",
              "      <td>True</td>\n",
              "      <td>NaN</td>\n",
              "      <td>10/30/2012 9:07:17 PM</td>\n",
              "    </tr>\n",
              "    <tr>\n",
              "      <th>205783</th>\n",
              "      <td>MW2,PC-UnlockAll.rar</td>\n",
              "      <td>6199119</td>\n",
              "      <td>8493487</td>\n",
              "      <td>1922707</td>\n",
              "      <td>9641</td>\n",
              "      <td>46623</td>\n",
              "      <td>188146</td>\n",
              "      <td>516433</td>\n",
              "      <td>4891953</td>\n",
              "      <td>2720</td>\n",
              "      <td>5644</td>\n",
              "      <td>1036641</td>\n",
              "      <td>221</td>\n",
              "      <td>13627459</td>\n",
              "      <td>10725080</td>\n",
              "      <td>NaN</td>\n",
              "      <td>mediafire.com</td>\n",
              "      <td>download1138.mediafire.com</td>\n",
              "      <td>24576:CEl1QnWCPXE9+eCt3FLbzPxysqWd37rSkMubBmDF...</td>\n",
              "      <td>bb66d6aed759b665699dee697a5dba9d5597b6777ed7fa...</td>\n",
              "      <td>NaN</td>\n",
              "      <td>2017-01-01</td>\n",
              "      <td>296b9862-719b-4f4c-9ecb-ce1bff7b4a8e</td>\n",
              "      <td>True</td>\n",
              "      <td>1127190</td>\n",
              "      <td>NaN</td>\n",
              "      <td>NaN</td>\n",
              "      <td>NaN</td>\n",
              "      <td>NaN</td>\n",
              "      <td>NaN</td>\n",
              "      <td>NaN</td>\n",
              "      <td>NaN</td>\n",
              "      <td>NaN</td>\n",
              "      <td>2</td>\n",
              "      <td>NaN</td>\n",
              "      <td>NaN</td>\n",
              "      <td>internet</td>\n",
              "      <td>NaN</td>\n",
              "      <td>NaN</td>\n",
              "      <td>NaN</td>\n",
              "      <td>False</td>\n",
              "      <td>NaN</td>\n",
              "      <td>NaN</td>\n",
              "    </tr>\n",
              "    <tr>\n",
              "      <th>205787</th>\n",
              "      <td>MW2RustZombies_1.01_zm.exe</td>\n",
              "      <td>5408277</td>\n",
              "      <td>7893603</td>\n",
              "      <td>4216411</td>\n",
              "      <td>9641</td>\n",
              "      <td>46623</td>\n",
              "      <td>188146</td>\n",
              "      <td>1012393</td>\n",
              "      <td>17246062</td>\n",
              "      <td>2720</td>\n",
              "      <td>5644</td>\n",
              "      <td>1036485</td>\n",
              "      <td>632</td>\n",
              "      <td>3351130</td>\n",
              "      <td>2607500</td>\n",
              "      <td>1,3,5,21,23,31,38,43,45,46,49,60,77,106,109,11...</td>\n",
              "      <td>zmupload.com</td>\n",
              "      <td>zmupload.com</td>\n",
              "      <td>768:94wO7XBz+5Qm3W0tYdrQZHV4EWuWEUOg4jjfS3P:+L...</td>\n",
              "      <td>6beb9abd6fbedb6def7ee7775795d65ddfa77ab5afd676...</td>\n",
              "      <td>NaN</td>\n",
              "      <td>2017-01-01</td>\n",
              "      <td>74327f2d-71c8-4fc3-aef6-509c4fff7df1</td>\n",
              "      <td>True</td>\n",
              "      <td>28232</td>\n",
              "      <td>NaN</td>\n",
              "      <td>NaN</td>\n",
              "      <td>NaN</td>\n",
              "      <td>NaN</td>\n",
              "      <td>NaN</td>\n",
              "      <td>NaN</td>\n",
              "      <td>00000000</td>\n",
              "      <td>0.0</td>\n",
              "      <td>2</td>\n",
              "      <td>NaN</td>\n",
              "      <td>NaN</td>\n",
              "      <td>internet</td>\n",
              "      <td>NaN</td>\n",
              "      <td>NaN</td>\n",
              "      <td>NaN</td>\n",
              "      <td>True</td>\n",
              "      <td>NaN</td>\n",
              "      <td>12/5/2009 10:50:41 PM</td>\n",
              "    </tr>\n",
              "    <tr>\n",
              "      <th>205788</th>\n",
              "      <td>MW2RustZombies_1.01_zm.exe</td>\n",
              "      <td>5408277</td>\n",
              "      <td>7893603</td>\n",
              "      <td>4216411</td>\n",
              "      <td>9641</td>\n",
              "      <td>46623</td>\n",
              "      <td>188146</td>\n",
              "      <td>1012393</td>\n",
              "      <td>17246062</td>\n",
              "      <td>2720</td>\n",
              "      <td>5644</td>\n",
              "      <td>1036485</td>\n",
              "      <td>632</td>\n",
              "      <td>17277466</td>\n",
              "      <td>13721080</td>\n",
              "      <td>1,3,5,21,23,31,38,43,45,46,49,60,77,106,109,11...</td>\n",
              "      <td>zmupload.com</td>\n",
              "      <td>zmupload.com</td>\n",
              "      <td>768:94wO7XBz+5Qm3W0tYdrQZHV4EWuWEUOg4jjfS3P:+L...</td>\n",
              "      <td>6beb9abd6fbedb6def7ee7775795d65ddfa77ab5afd676...</td>\n",
              "      <td>NaN</td>\n",
              "      <td>2017-01-01</td>\n",
              "      <td>a7d2984d-4104-4852-bfc4-2b33ff899176</td>\n",
              "      <td>True</td>\n",
              "      <td>28232</td>\n",
              "      <td>NaN</td>\n",
              "      <td>NaN</td>\n",
              "      <td>NaN</td>\n",
              "      <td>NaN</td>\n",
              "      <td>NaN</td>\n",
              "      <td>NaN</td>\n",
              "      <td>00000000</td>\n",
              "      <td>0.0</td>\n",
              "      <td>2</td>\n",
              "      <td>NaN</td>\n",
              "      <td>NaN</td>\n",
              "      <td>internet</td>\n",
              "      <td>NaN</td>\n",
              "      <td>NaN</td>\n",
              "      <td>NaN</td>\n",
              "      <td>True</td>\n",
              "      <td>NaN</td>\n",
              "      <td>12/5/2009 10:50:41 PM</td>\n",
              "    </tr>\n",
              "    <tr>\n",
              "      <th>205789</th>\n",
              "      <td>MW2RustZombies_1.01_zm.exe</td>\n",
              "      <td>5408277</td>\n",
              "      <td>7893603</td>\n",
              "      <td>4216411</td>\n",
              "      <td>9641</td>\n",
              "      <td>46623</td>\n",
              "      <td>188146</td>\n",
              "      <td>1012393</td>\n",
              "      <td>17246062</td>\n",
              "      <td>2720</td>\n",
              "      <td>5644</td>\n",
              "      <td>1036485</td>\n",
              "      <td>632</td>\n",
              "      <td>30043715</td>\n",
              "      <td>23833910</td>\n",
              "      <td>1,3,5,21,23,31,38,43,45,46,49,60,77,106,109,11...</td>\n",
              "      <td>zmupload.com</td>\n",
              "      <td>zmupload.com</td>\n",
              "      <td>768:94wO7XBz+5Qm3W0tYdrQZHV4EWuWEUOg4jjfS3P:+L...</td>\n",
              "      <td>6beb9abd6fbedb6def7ee7775795d65ddfa77ab5afd676...</td>\n",
              "      <td>NaN</td>\n",
              "      <td>2017-01-01</td>\n",
              "      <td>a77bfeed-e427-45cb-97c3-f9bc2715037e</td>\n",
              "      <td>True</td>\n",
              "      <td>28232</td>\n",
              "      <td>NaN</td>\n",
              "      <td>NaN</td>\n",
              "      <td>NaN</td>\n",
              "      <td>NaN</td>\n",
              "      <td>NaN</td>\n",
              "      <td>NaN</td>\n",
              "      <td>00000000</td>\n",
              "      <td>0.0</td>\n",
              "      <td>2</td>\n",
              "      <td>NaN</td>\n",
              "      <td>NaN</td>\n",
              "      <td>internet</td>\n",
              "      <td>NaN</td>\n",
              "      <td>NaN</td>\n",
              "      <td>NaN</td>\n",
              "      <td>True</td>\n",
              "      <td>NaN</td>\n",
              "      <td>12/5/2009 10:50:41 PM</td>\n",
              "    </tr>\n",
              "    <tr>\n",
              "      <th>205790</th>\n",
              "      <td>MW2_MP_FoV-Changer-v1-2-211-0.zip</td>\n",
              "      <td>1680908</td>\n",
              "      <td>8941078</td>\n",
              "      <td>14699971</td>\n",
              "      <td>9641</td>\n",
              "      <td>46623</td>\n",
              "      <td>188146</td>\n",
              "      <td>979277</td>\n",
              "      <td>14928587</td>\n",
              "      <td>2720</td>\n",
              "      <td>5644</td>\n",
              "      <td>24632</td>\n",
              "      <td>616</td>\n",
              "      <td>4695249</td>\n",
              "      <td>3612120</td>\n",
              "      <td>1,5,21,23,31,37,45,85,94,97,106,109,110,113,11...</td>\n",
              "      <td>mapmodnews.com</td>\n",
              "      <td>www.mapmodnews.com</td>\n",
              "      <td>1536:gg7SAbkt/THgYhbOSsZiNlEktXk18LFrJy8zR2ktp...</td>\n",
              "      <td>efeef5afff7b657b5b9e6aab9bd666565e755da96f5555...</td>\n",
              "      <td>NaN</td>\n",
              "      <td>2017-01-01</td>\n",
              "      <td>a715ae3a-f611-478f-a8a9-e302c6c04bed</td>\n",
              "      <td>True</td>\n",
              "      <td>83456</td>\n",
              "      <td>1.0.0.0</td>\n",
              "      <td>APP</td>\n",
              "      <td>NaN</td>\n",
              "      <td>NaN</td>\n",
              "      <td>NaN</td>\n",
              "      <td>NaN</td>\n",
              "      <td>00000000</td>\n",
              "      <td>0.0</td>\n",
              "      <td>2</td>\n",
              "      <td>NaN</td>\n",
              "      <td>NaN</td>\n",
              "      <td>internet</td>\n",
              "      <td>NaN</td>\n",
              "      <td>True</td>\n",
              "      <td>NaN</td>\n",
              "      <td>True</td>\n",
              "      <td>NaN</td>\n",
              "      <td>9/9/2015 4:20:21 AM</td>\n",
              "    </tr>\n",
              "  </tbody>\n",
              "</table>\n",
              "</div>"
            ],
            "text/plain": [
              "                               FileNameID  ...            PeTimestamp\n",
              "205766                        MVC-3.0.exe  ...  10/30/2012 9:07:17 PM\n",
              "205783               MW2,PC-UnlockAll.rar  ...                    NaN\n",
              "205787         MW2RustZombies_1.01_zm.exe  ...  12/5/2009 10:50:41 PM\n",
              "205788         MW2RustZombies_1.01_zm.exe  ...  12/5/2009 10:50:41 PM\n",
              "205789         MW2RustZombies_1.01_zm.exe  ...  12/5/2009 10:50:41 PM\n",
              "205790  MW2_MP_FoV-Changer-v1-2-211-0.zip  ...    9/9/2015 4:20:21 AM\n",
              "\n",
              "[6 rows x 43 columns]"
            ]
          },
          "metadata": {
            "tags": []
          },
          "execution_count": 16
        }
      ]
    },
    {
      "cell_type": "code",
      "metadata": {
        "id": "fcOcHpySJgYp",
        "colab_type": "code",
        "outputId": "74c2e0c2-eda7-4d04-a3ab-9fcbd3fd055a",
        "colab": {
          "base_uri": "https://localhost:8080/",
          "height": 643
        }
      },
      "source": [
        "# data.groupby(data.date.dt.year)\n",
        "# df_group_by_time = df.groupby(df.ReportTime.dt.year)\n",
        "# df_group_by_time.head(n=6)\n",
        "\n",
        "# df.ReportTime = df.ReportTime.apply(dump_time)\n",
        "# df.head(n=3)\n",
        "\n",
        "\n",
        "\n",
        "fig = plt.figure(figsize = (10,10))\n",
        "ax = fig.gca()\n",
        "\n",
        "df_group_by_time.ReportTime.hist(ax=ax)\n",
        "\n"
      ],
      "execution_count": 17,
      "outputs": [
        {
          "output_type": "execute_result",
          "data": {
            "text/plain": [
              "ReportTime\n",
              "1    AxesSubplot(0.125,0.125;0.775x0.755)\n",
              "Name: ReportTime, dtype: object"
            ]
          },
          "metadata": {
            "tags": []
          },
          "execution_count": 17
        },
        {
          "output_type": "display_data",
          "data": {
            "image/png": "[encoded data removed]",
            "text/plain": [
              "<Figure size 720x720 with 1 Axes>"
            ]
          },
          "metadata": {
            "tags": [],
            "needs_background": "light"
          }
        }
      ]
    },
    {
      "cell_type": "code",
      "metadata": {
        "id": "_6PX-tkTd_Lz",
        "colab_type": "code",
        "outputId": "95fef41f-c4a4-477d-ca8d-d90d8290655e",
        "colab": {
          "base_uri": "https://localhost:8080/",
          "height": 34
        }
      },
      "source": [
        "df.shape"
      ],
      "execution_count": 18,
      "outputs": [
        {
          "output_type": "execute_result",
          "data": {
            "text/plain": [
              "(76088, 43)"
            ]
          },
          "metadata": {
            "tags": []
          },
          "execution_count": 18
        }
      ]
    },
    {
      "cell_type": "code",
      "metadata": {
        "id": "UARjateFYdH5",
        "colab_type": "code",
        "colab": {}
      },
      "source": [
        "def replace_nans(corpus):\n",
        "  return [w if isinstance(w,str) else '' for w in corpus]\n"
      ],
      "execution_count": 0,
      "outputs": []
    },
    {
      "cell_type": "code",
      "metadata": {
        "id": "HBsbeZ_71l_v",
        "colab_type": "code",
        "outputId": "adcd5852-6e56-49df-cb72-3814f0810845",
        "colab": {
          "base_uri": "https://localhost:8080/",
          "height": 34
        }
      },
      "source": [
        "file_names = [x for x in df.FileNameID]\n",
        "domain_names = replace_nans([x for x in df.WebFileUrlDomain])\n",
        "hostname_names = replace_nans([x for x in df.WebFileUrlHostname])\n",
        "len(file_names)\n",
        "print(\"Size of file_names : {}, Size of domain_names : {}, Size of hostnames_names: {}\".format(len(file_names), len(domain_names), len(hostname_names)))\n",
        "\n",
        "\n"
      ],
      "execution_count": 20,
      "outputs": [
        {
          "output_type": "stream",
          "text": [
            "Size of file_names : 76088, Size of domain_names : 76088, Size of hostnames_names: 76088\n"
          ],
          "name": "stdout"
        }
      ]
    },
    {
      "cell_type": "code",
      "metadata": {
        "id": "pBL1j5bn0Nh6",
        "colab_type": "code",
        "colab": {}
      },
      "source": [
        "import sklearn.feature_extraction.text\n",
        "from sklearn.feature_extraction.text import TfidfVectorizer\n",
        "from sklearn.feature_extraction.text import CountVectorizer\n",
        "\n",
        "#file_names is a list of all text entries in the column at the DataFrame.\n",
        "#Returns - a dense matrix that each row is a n-gram representation of the entries.\n",
        "def extract_ngrams_as_one_hot(corpus, ngram_size=3,pipeline=None):\n",
        "  vectorizer = CountVectorizer(ngram_range=(ngram_size, ngram_size), \n",
        "                              analyzer='char',preprocessor=pipeline)\n",
        "    \n",
        "  X = vectorizer.fit_transform(corpus)\n",
        "  \n",
        "  print(\"------\")\n",
        "  v = vectorizer.transform([corpus[0]]).toarray()\n",
        "  print(vectorizer.get_feature_names()[:5])\n",
        "  # print(v)\n",
        "  return X,vectorizer\n",
        "\n",
        "\n",
        "def extract_ngrams_as_tf_idf(corpus, ngram_size=3,pipeline=None):\n",
        "  vectorizer = TfidfVectorizer(ngram_range=(ngram_size, ngram_size), \n",
        "                              analyzer='char',preprocessor=pipeline)\n",
        "\n",
        "  X = vectorizer.fit_transform(corpus)\n",
        "  \n",
        "  print(\"------\")\n",
        "  v = vectorizer.transform([corpus[0]]).toarray()\n",
        "  print(vectorizer.get_feature_names()[:5])\n",
        "  # print(v)\n",
        "  return X,vectorizer\n"
      ],
      "execution_count": 0,
      "outputs": []
    },
    {
      "cell_type": "code",
      "metadata": {
        "id": "nezaQFmF7AiK",
        "colab_type": "code",
        "outputId": "99f3bf12-912b-4bcc-85d3-edfbaa695fde",
        "colab": {
          "base_uri": "https://localhost:8080/",
          "height": 221
        }
      },
      "source": [
        "names = ['OMER', 'nit']\n",
        "little_test_X, vec2 = extract_ngrams_as_tf_idf(names)\n",
        "print(little_test_X)\n",
        "\n",
        "print(\"-----------------\")\n",
        "little_test_X , vec = extract_ngrams_as_one_hot(names)\n",
        "print(little_test_X.toarray())\n",
        "\n",
        "print(\"-----------------\")\n",
        "\n",
        "print(vec.transform(['MER']).toarray())"
      ],
      "execution_count": 22,
      "outputs": [
        {
          "output_type": "stream",
          "text": [
            "------\n",
            "['mer', 'nit', 'ome']\n",
            "  (0, 0)\t0.7071067811865476\n",
            "  (0, 2)\t0.7071067811865476\n",
            "  (1, 1)\t1.0\n",
            "-----------------\n",
            "------\n",
            "['mer', 'nit', 'ome']\n",
            "[[1 0 1]\n",
            " [0 1 0]]\n",
            "-----------------\n",
            "[[1 0 0]]\n"
          ],
          "name": "stdout"
        }
      ]
    },
    {
      "cell_type": "markdown",
      "metadata": {
        "id": "qrQvwfE_mZb9",
        "colab_type": "text"
      },
      "source": [
        "WorkFlow:\n",
        "The workflow we chose is to aggregate features for each entry in the data set\n",
        "by iterating through the columns and concatanating text and global features for each entry with the goal of transform it to a wide input vector.\n",
        "For example, given the corpus ['OMER', 'nit'] considered as a column. \n",
        "We exctract 3-grams from it by examine 2 possible representations for each entry within it which will be tested later in the training part:\n",
        "1. Tf-idf representation of the corpus\n",
        "2. One-hot representation of the corpus."
      ]
    },
    {
      "cell_type": "markdown",
      "metadata": {
        "id": "ojBgwTY2-qS1",
        "colab_type": "text"
      },
      "source": [
        "# **Text analysis features:**"
      ]
    },
    {
      "cell_type": "markdown",
      "metadata": {
        "id": "oKwR0cMH-7CJ",
        "colab_type": "text"
      },
      "source": [
        "First for each text feature chosen, we should each entry in the dataset through a pipeline of normalizations before analysis:\n",
        "1. Removing digits - some files might contain their versions in their names.\n",
        "2. Casing - for widely conventions we shall use lower-case.\n",
        "3. Stop words - replacing each stopword with sepcial char in order to increase the reliability of td-idf method."
      ]
    },
    {
      "cell_type": "code",
      "metadata": {
        "id": "ibMQAMPLjgMF",
        "colab_type": "code",
        "colab": {}
      },
      "source": [
        "REMOVE_PUNTS = True\n",
        "LOWER_CASE = True\n",
        "REMOVE_DIGITS = True\n",
        "STOP_WORDS = True\n",
        "REMOVE_SPACES = True"
      ],
      "execution_count": 0,
      "outputs": []
    },
    {
      "cell_type": "code",
      "metadata": {
        "id": "QkfhlXORBICz",
        "colab_type": "code",
        "outputId": "ec111d62-564b-4b82-c770-96210ca144cc",
        "colab": {
          "base_uri": "https://localhost:8080/",
          "height": 68
        }
      },
      "source": [
        "name = 'bsv3.6.0.550.CN.2899892505.exe'\n",
        "name2 = 'bsv3.6.0.550.CN.exe\t'\n",
        "\n",
        "#All functions returns string.\n",
        "\n",
        "#Remove any punctuations\n",
        "def remove_puncts(corpus):\n",
        "  return \"\".join([c for c in corpus if c.isalpha() or c.isdigit()])\n",
        "\n",
        "#Replace the digits with char \n",
        "def replace_digits(corpus, char=''):\n",
        "  return \"\".join([char if c.isdigit() else c for c in corpus ])\n",
        "\n",
        "#Return lower-case string\n",
        "def lower_case(corpus):\n",
        "  return corpus.lower()\n",
        "\n",
        "\n",
        "#Replace each ngram that equals to one of the stop_ngrams with word_to_replace.\n",
        "def replace_n_grams_stop_ngrams(corpus, stop_ngrams,n=3, word_to_replace=''):\n",
        "  grams = []\n",
        "  str_to_ret = ''\n",
        "  i=n\n",
        "  while i<=len(corpus):\n",
        "    if i>=n:\n",
        "      grama = corpus[i-n:i]\n",
        "      if grama in stop_ngrams:\n",
        "        str_to_ret = str_to_ret + word_to_replace\n",
        "        i = i + 3\n",
        "      else:\n",
        "        str_to_ret = str_to_ret + corpus[i-n]    \n",
        "        i = i + 1\n",
        "  tail = corpus[i-n:]\n",
        "  str_to_ret = str_to_ret + tail\n",
        "  return str_to_ret\n",
        "\n",
        "\n",
        "print(remove_puncts(name))\n",
        "print(remove_puncts(name2))\n",
        "\n",
        "\n",
        "print(replace_n_grams_stop_ngrams(\"whathatgab3\",stop_ngrams=['hat'],n=3))"
      ],
      "execution_count": 24,
      "outputs": [
        {
          "output_type": "stream",
          "text": [
            "bsv360550CN2899892505exe\n",
            "bsv360550CNexe\n",
            "wgab3\n"
          ],
          "name": "stdout"
        }
      ]
    },
    {
      "cell_type": "code",
      "metadata": {
        "id": "NwvMOFRmPVfY",
        "colab_type": "code",
        "colab": {}
      },
      "source": [
        "def remove_suffix_of_url(word):\n",
        "  parts = word.split(\".\")  \n",
        "  return \".\".join(parts[:-1])\n",
        "\n",
        "def remove_prefix_of_url(word):\n",
        "  parts = word.split(\".\") \n",
        "  return \".\".join(parts[1:])"
      ],
      "execution_count": 0,
      "outputs": []
    },
    {
      "cell_type": "code",
      "metadata": {
        "id": "lHLM-N2Ucl8x",
        "colab_type": "code",
        "outputId": "c7e79da2-976e-434d-c1f5-d390177ee019",
        "colab": {
          "base_uri": "https://localhost:8080/",
          "height": 51
        }
      },
      "source": [
        "print(remove_suffix_of_url(\"www.google.com\"))\n",
        "print(remove_prefix_of_url(\"www.google.com\"))"
      ],
      "execution_count": 26,
      "outputs": [
        {
          "output_type": "stream",
          "text": [
            "www.google\n",
            "google.com\n"
          ],
          "name": "stdout"
        }
      ]
    },
    {
      "cell_type": "markdown",
      "metadata": {
        "id": "ButWVd7NLCfG",
        "colab_type": "text"
      },
      "source": [
        "**Pipeline for filename explanation:**\n",
        "- remove_puncts - No meaning for punctuation in the filname\n",
        "- replace_digits - Usually the numbers in the filename indicates the version of a file which has no additional info if we inspect the meaning of the filename.\n",
        "- lower_case -Lets take a look on an example : BSPLAYER bsplayer BSplayer ---> BSP, bsp , BSp, we would like to treat them as the same n-gram.\n",
        "\n",
        "**Pipeline for domain explanation:**\n",
        "- remove_puncts - No meaning for punctuation in the domain\n",
        "- removing_suffix_of_url - No additional info will be derived from the suffix of the domain (either com, ru, org, etc...)\n",
        "\n",
        "**Pipeline for hostname explanation:**\n",
        "- remove_puncts - No meaning for punctuation in the domain\n",
        "- remove_suffix_of_url - same as domain.\n",
        "- replace_n_grams_stop_ngrams - replace each of the common stop-words ngrams such as 'www'.\n"
      ]
    },
    {
      "cell_type": "code",
      "metadata": {
        "id": "G3ckt8tYJTJ_",
        "colab_type": "code",
        "colab": {}
      },
      "source": [
        "# Explanation above.\n",
        "def pipeline_for_filename(word): \n",
        "  word = remove_puncts(word) \n",
        "  word = replace_digits(word)\n",
        "  word = lower_case(word) \n",
        "  return word\n",
        "\n",
        "def pipeline_for_domain(word):\n",
        "  word = remove_suffix_of_url(word)\n",
        "  word = remove_puncts(word)\n",
        "  return word\n",
        "\n",
        "def pipeline_for_hostname(word):\n",
        "  stop_words = ['www'] #Consider add more common prefix\n",
        "  word = remove_suffix_of_url(word)\n",
        "  word = replace_n_grams_stop_ngrams(word, stop_words)\n",
        "  word = remove_puncts(word)\n",
        "  return word\n"
      ],
      "execution_count": 0,
      "outputs": []
    },
    {
      "cell_type": "code",
      "metadata": {
        "id": "FPrdiZZZaei0",
        "colab_type": "code",
        "outputId": "c3770393-e1fd-4c89-d28a-6d75442c7e3c",
        "colab": {
          "base_uri": "https://localhost:8080/",
          "height": 68
        }
      },
      "source": [
        "print(\"before\")\n",
        "print(domain_names[:5])\n",
        "print([remove_suffix_of_url(w) for w in domain_names][:5])"
      ],
      "execution_count": 28,
      "outputs": [
        {
          "output_type": "stream",
          "text": [
            "before\n",
            "['deliverynowsend.com', '', 'cldmail.ru', 'googleusercontent.com', 'therazzerapp.de']\n",
            "['deliverynowsend', '', 'cldmail', 'googleusercontent', 'therazzerapp']\n"
          ],
          "name": "stdout"
        }
      ]
    },
    {
      "cell_type": "code",
      "metadata": {
        "id": "-8BMdgo2r7N5",
        "colab_type": "code",
        "outputId": "e6104766-3dad-42b0-e3c3-a9e7e4115060",
        "colab": {
          "base_uri": "https://localhost:8080/",
          "height": 221
        }
      },
      "source": [
        "def print_example(input):\n",
        "  chopped = input[:5]\n",
        "  print(\"Before:\")\n",
        "  print(chopped)\n",
        "  print(\"After:\")\n",
        "  print([pipeline_for_filename(w) for w in chopped])\n",
        "\n",
        "print_example(file_names)\n",
        "print_example(domain_names)\n",
        "print_example(hostname_names)"
      ],
      "execution_count": 29,
      "outputs": [
        {
          "output_type": "stream",
          "text": [
            "Before:\n",
            "['bsplayer_free.exe', 'bsplayer_pro270.1080.exe', 'bsplayer_pro_sa.rar', 'bspsrc_1.3.21.rar', 'bspsrc_1.3.21.rar']\n",
            "After:\n",
            "['bsplayerfreeexe', 'bsplayerproexe', 'bsplayerprosarar', 'bspsrcrar', 'bspsrcrar']\n",
            "Before:\n",
            "['deliverynowsend.com', '', 'cldmail.ru', 'googleusercontent.com', 'therazzerapp.de']\n",
            "After:\n",
            "['deliverynowsendcom', '', 'cldmailru', 'googleusercontentcom', 'therazzerappde']\n",
            "Before:\n",
            "['www.deliverynowsend.com', 'canonicalizer.ucsuri.tcs', 'cloclo28.cldmail.ru', 'doc-0o-9k-docs.googleusercontent.com', 'therazzerapp.de']\n",
            "After:\n",
            "['wwwdeliverynowsendcom', 'canonicalizerucsuritcs', 'cloclocldmailru', 'docokdocsgoogleusercontentcom', 'therazzerappde']\n"
          ],
          "name": "stdout"
        }
      ]
    },
    {
      "cell_type": "code",
      "metadata": {
        "id": "LujcOs2fUcz0",
        "colab_type": "code",
        "colab": {}
      },
      "source": [
        "from scipy.sparse import coo_matrix, hstack\n",
        "\n",
        "def generate_text_features_matrices(df):\n",
        "  \"\"\"\n",
        "  Returns: \n",
        "  - Number of distinct 3-grams for filename,domain-names,host-names\n",
        "  - 2 different encoded (One-hot,tf-idf) matrices.\n",
        "  Each matrix her rows are the entries in the df and her columns are the\n",
        "  concatanation of the text-features extracted from each corpus we have chosen.\n",
        "  \"\"\"\n",
        "  file_names = [x for x in df.FileNameID]\n",
        "  domain_names = replace_nans([x for x in df.WebFileUrlDomain])\n",
        "  hostname_names = replace_nans([x for x in df.WebFileUrlHostname])\n",
        "\n",
        "  def agg(func,corpus,extractor):\n",
        "    X,vectorizer = extractor(corpus,pipeline=func)\n",
        "    return X,vectorizer\n",
        "\n",
        "\n",
        "  one_hot_mat_for_file_name, vec_file_name_one_hot = agg(pipeline_for_filename,file_names,extract_ngrams_as_one_hot)\n",
        "  one_hot_mat_for_domain, vec_domain_one_hot = agg(pipeline_for_domain,domain_names,extract_ngrams_as_one_hot)\n",
        "  one_hot_mat_for_hostname, vec_hostname_one_hot = agg(pipeline_for_hostname,hostname_names,extract_ngrams_as_one_hot)\n",
        "\n",
        "  print(\"Shapes:\")\n",
        "  print(\"one_hot_mat_for_file_name: {}\".format(one_hot_mat_for_file_name.shape))\n",
        "  print(\"one_hot_mat_for_domain: {}\".format(one_hot_mat_for_domain.shape))\n",
        "  print(\"one_hot_mat_for_hostname: {}\".format(one_hot_mat_for_hostname.shape))\n",
        "\n",
        "  tfidf_mat_for_file_name, vec_file_name_tfidf = agg(pipeline_for_filename,file_names,extract_ngrams_as_tf_idf)\n",
        "  tfidf_mat_for_domain, vec_domain_tfidf = agg(pipeline_for_domain,domain_names,extract_ngrams_as_tf_idf)\n",
        "  tfidf_mat_for_hostname, vec_hostname_tfidf = agg(pipeline_for_hostname,hostname_names,extract_ngrams_as_tf_idf)\n",
        "\n",
        "  print(\"--------\")\n",
        "\n",
        "  print(\"Shapes:\")\n",
        "  print(\"tfidf_mat_for_file_name: {}\".format(tfidf_mat_for_file_name.shape))\n",
        "  print(\"tfidf_mat_for_domain: {}\".format(tfidf_mat_for_domain.shape))\n",
        "  print(\"tfidf_mat_for_hostname: {}\".format(tfidf_mat_for_hostname.shape))\n",
        "\n",
        "  one_hot_mat_text_features = hstack([one_hot_mat_for_file_name,one_hot_mat_for_domain,one_hot_mat_for_hostname])\n",
        "\n",
        "  tfidf_mat_text_features = hstack([tfidf_mat_for_file_name,tfidf_mat_for_domain,tfidf_mat_for_hostname])\n",
        "\n",
        "  tfidf_vectorizers = {\n",
        "      \"fn\": vec_file_name_tfidf,\n",
        "      \"dn\": vec_domain_tfidf,\n",
        "      \"hn\": vec_hostname_tfidf\n",
        "  }\n",
        "\n",
        "  one_hot_vectorizers = {\n",
        "      \"fn\": vec_file_name_one_hot,\n",
        "      \"dn\": vec_domain_one_hot,\n",
        "      \"hn\": vec_hostname_one_hot\n",
        "  }\n",
        "\n",
        "\n",
        "  print(\"--------\")\n",
        "\n",
        "  print(\"Total shapes:\")\n",
        "  print(\"one_hot_mat_text_features: {}\".format(one_hot_mat_text_features.shape))\n",
        "  print(\"tfidf_mat_text_features: {}\".format(tfidf_mat_text_features.shape))\n",
        "\n",
        "  distinct_n_grams = {\"fn\": one_hot_mat_for_file_name.shape[1],\n",
        "                      \"dn\": one_hot_mat_for_domain.shape[1],\n",
        "                      \"hn\": one_hot_mat_for_hostname.shape[1]}  \n",
        "\n",
        "  return distinct_n_grams,one_hot_mat_text_features,tfidf_mat_text_features,tfidf_vectorizers, one_hot_vectorizers"
      ],
      "execution_count": 0,
      "outputs": []
    },
    {
      "cell_type": "code",
      "metadata": {
        "id": "bdewPfaos5aK",
        "colab_type": "code",
        "colab": {}
      },
      "source": [
        "from sklearn.preprocessing import normalize\n",
        "\n",
        "def extract_normalize_feature(df,column_name):\n",
        "  x = df[column_name].values #returns a numpy array\n",
        "  x_scaled = (x - x.min()) / (x.max() - x.min())\n",
        "  return x_scaled\n"
      ],
      "execution_count": 0,
      "outputs": []
    },
    {
      "cell_type": "code",
      "metadata": {
        "id": "MWYskD2UuER4",
        "colab_type": "code",
        "colab": {
          "base_uri": "https://localhost:8080/",
          "height": 34
        },
        "outputId": "a45dc952-7e0b-469b-bc38-01f88d448040"
      },
      "source": [
        "x_scaled = extract_normalize_feature(df,\"ThreatNameID\")\n",
        "x_scaled[:10]"
      ],
      "execution_count": 32,
      "outputs": [
        {
          "output_type": "execute_result",
          "data": {
            "text/plain": [
              "array([1., 1., 1., 1., 1., 1., 1., 1., 1., 1.])"
            ]
          },
          "metadata": {
            "tags": []
          },
          "execution_count": 32
        }
      ]
    },
    {
      "cell_type": "markdown",
      "metadata": {
        "id": "wnHVhYmMCoX9",
        "colab_type": "text"
      },
      "source": [
        "Aggregating the data:\n",
        "Some files might appear on few entries in the dataset, using the sha1ID,\n",
        "we can recongize them along the dataset and extract a list of names which this file was known for."
      ]
    },
    {
      "cell_type": "markdown",
      "metadata": {
        "id": "4G32wBesfidd",
        "colab_type": "text"
      },
      "source": [
        "# **Splitting the data-set into train,test randomly:**"
      ]
    },
    {
      "cell_type": "code",
      "metadata": {
        "id": "gqBqG6x_e0GL",
        "colab_type": "code",
        "colab": {}
      },
      "source": [
        "from sklearn.model_selection import train_test_split\n",
        "\n",
        "train, test = train_test_split(df, test_size=0.2)"
      ],
      "execution_count": 0,
      "outputs": []
    },
    {
      "cell_type": "code",
      "metadata": {
        "id": "Yg6YRu1j66wL",
        "colab_type": "code",
        "outputId": "082d43f2-7444-4da3-d69c-bd0362389a53",
        "colab": {
          "base_uri": "https://localhost:8080/",
          "height": 182
        }
      },
      "source": [
        "train.head(2)"
      ],
      "execution_count": 34,
      "outputs": [
        {
          "output_type": "execute_result",
          "data": {
            "text/html": [
              "<div>\n",
              "<style scoped>\n",
              "    .dataframe tbody tr th:only-of-type {\n",
              "        vertical-align: middle;\n",
              "    }\n",
              "\n",
              "    .dataframe tbody tr th {\n",
              "        vertical-align: top;\n",
              "    }\n",
              "\n",
              "    .dataframe thead th {\n",
              "        text-align: right;\n",
              "    }\n",
              "</style>\n",
              "<table border=\"1\" class=\"dataframe\">\n",
              "  <thead>\n",
              "    <tr style=\"text-align: right;\">\n",
              "      <th></th>\n",
              "      <th>FileNameID</th>\n",
              "      <th>Sha256ID</th>\n",
              "      <th>Md5ID</th>\n",
              "      <th>Sha1ID</th>\n",
              "      <th>IssuerID</th>\n",
              "      <th>SignerID</th>\n",
              "      <th>PublisherID</th>\n",
              "      <th>WebFileIpID</th>\n",
              "      <th>WebFileUrlID</th>\n",
              "      <th>ThreatFamilyID</th>\n",
              "      <th>ThreatNameID</th>\n",
              "      <th>SigSeqID</th>\n",
              "      <th>SignatureNameID</th>\n",
              "      <th>MachineGuidID</th>\n",
              "      <th>RowNumber</th>\n",
              "      <th>PeAttributesString</th>\n",
              "      <th>WebFileUrlDomain</th>\n",
              "      <th>WebFileUrlHostname</th>\n",
              "      <th>Ctph</th>\n",
              "      <th>LsHash</th>\n",
              "      <th>ThreatCategory</th>\n",
              "      <th>ReportTime</th>\n",
              "      <th>SpynetReportGuid</th>\n",
              "      <th>Firewall</th>\n",
              "      <th>Size</th>\n",
              "      <th>Version</th>\n",
              "      <th>Type</th>\n",
              "      <th>SignerHash</th>\n",
              "      <th>IssuerHash</th>\n",
              "      <th>IsValidCertificate</th>\n",
              "      <th>CertInvalidDetails</th>\n",
              "      <th>Checksum</th>\n",
              "      <th>IsRuntimePacked</th>\n",
              "      <th>FileAccess</th>\n",
              "      <th>Screensaver</th>\n",
              "      <th>StartupUserFolder</th>\n",
              "      <th>MarkOfTheWeb</th>\n",
              "      <th>UsnTimestamp</th>\n",
              "      <th>IsInContainer</th>\n",
              "      <th>IsContainer</th>\n",
              "      <th>IsPEFile</th>\n",
              "      <th>IsAutoRunInf</th>\n",
              "      <th>PeTimestamp</th>\n",
              "    </tr>\n",
              "  </thead>\n",
              "  <tbody>\n",
              "    <tr>\n",
              "      <th>88181</th>\n",
              "      <td>Setup_WinThruster_2016.exe</td>\n",
              "      <td>7425725</td>\n",
              "      <td>18837236</td>\n",
              "      <td>9555401</td>\n",
              "      <td>79</td>\n",
              "      <td>31432</td>\n",
              "      <td>128046</td>\n",
              "      <td>980957</td>\n",
              "      <td>15780873</td>\n",
              "      <td>2720</td>\n",
              "      <td>5644</td>\n",
              "      <td>1038558</td>\n",
              "      <td>384</td>\n",
              "      <td>17198816</td>\n",
              "      <td>13663830</td>\n",
              "      <td>1,3,5,21,23,25,37,45,46,60,69,73,85,94,98,106,...</td>\n",
              "      <td>solvusoft.com</td>\n",
              "      <td>www.solvusoft.com</td>\n",
              "      <td>196608:gyvkAUrdOYWLvp68DpIPjWjWjPJAGmJmNe5P1rA...</td>\n",
              "      <td>fbfff55f979dedaee67e79da6756a9979dad557e5aad69...</td>\n",
              "      <td>NaN</td>\n",
              "      <td>2017-01-01</td>\n",
              "      <td>859b7d11-46c9-418e-b22a-f465845d47cf</td>\n",
              "      <td>True</td>\n",
              "      <td>8932000</td>\n",
              "      <td>1.16.8.0</td>\n",
              "      <td>APP</td>\n",
              "      <td>4d684d6d595f2c32381a7b1bf27903933f8d79a6</td>\n",
              "      <td>b64771392538d1eb7a9281998791c14afd0c5035</td>\n",
              "      <td>True</td>\n",
              "      <td>NaN</td>\n",
              "      <td>00886727</td>\n",
              "      <td>1.0</td>\n",
              "      <td>2</td>\n",
              "      <td>NaN</td>\n",
              "      <td>NaN</td>\n",
              "      <td>restricted_sites</td>\n",
              "      <td>NaN</td>\n",
              "      <td>NaN</td>\n",
              "      <td>NaN</td>\n",
              "      <td>True</td>\n",
              "      <td>NaN</td>\n",
              "      <td>9/8/2015 10:01:54 PM</td>\n",
              "    </tr>\n",
              "    <tr>\n",
              "      <th>132220</th>\n",
              "      <td>Xaeros_Minimap_1.10.9_Forge_1.10.2.jar</td>\n",
              "      <td>12899750</td>\n",
              "      <td>536047</td>\n",
              "      <td>15779919</td>\n",
              "      <td>9641</td>\n",
              "      <td>46623</td>\n",
              "      <td>188146</td>\n",
              "      <td>412758</td>\n",
              "      <td>2609633</td>\n",
              "      <td>2720</td>\n",
              "      <td>5644</td>\n",
              "      <td>848</td>\n",
              "      <td>1210</td>\n",
              "      <td>6113487</td>\n",
              "      <td>4697990</td>\n",
              "      <td>NaN</td>\n",
              "      <td>chocolateminecraft.com</td>\n",
              "      <td>chocolateminecraft.com</td>\n",
              "      <td>48:SgWsTmCrtCCEM6o1vBECFn6ZgIkjC3F1X5CLl3KLW5Y...</td>\n",
              "      <td>b7eb7bf6fd59a7f99b5ddd6ab7bf59a5d65a5ab7b9ab55...</td>\n",
              "      <td>NaN</td>\n",
              "      <td>2017-01-01</td>\n",
              "      <td>e939be9b-794f-4e81-9d94-4ef276d5db99</td>\n",
              "      <td>True</td>\n",
              "      <td>2692</td>\n",
              "      <td>NaN</td>\n",
              "      <td>NaN</td>\n",
              "      <td>NaN</td>\n",
              "      <td>NaN</td>\n",
              "      <td>NaN</td>\n",
              "      <td>NaN</td>\n",
              "      <td>NaN</td>\n",
              "      <td>NaN</td>\n",
              "      <td>2</td>\n",
              "      <td>NaN</td>\n",
              "      <td>NaN</td>\n",
              "      <td>internet</td>\n",
              "      <td>NaN</td>\n",
              "      <td>True</td>\n",
              "      <td>NaN</td>\n",
              "      <td>False</td>\n",
              "      <td>NaN</td>\n",
              "      <td>NaN</td>\n",
              "    </tr>\n",
              "  </tbody>\n",
              "</table>\n",
              "</div>"
            ],
            "text/plain": [
              "                                    FileNameID  ...           PeTimestamp\n",
              "88181               Setup_WinThruster_2016.exe  ...  9/8/2015 10:01:54 PM\n",
              "132220  Xaeros_Minimap_1.10.9_Forge_1.10.2.jar  ...                   NaN\n",
              "\n",
              "[2 rows x 43 columns]"
            ]
          },
          "metadata": {
            "tags": []
          },
          "execution_count": 34
        }
      ]
    },
    {
      "cell_type": "code",
      "metadata": {
        "id": "hyC6dZfSm5KE",
        "colab_type": "code",
        "colab": {}
      },
      "source": [
        "# Train : the dataframe that is used to determine which files are clean and which are malicious\n",
        "#is the dataframe itself of the train.\n",
        "#Test : the dataframe that is used to determine which files are clean and which malicious\n",
        "#is the the whole dataset.\n",
        "\n",
        "sha1_for_train = train.Sha1ID.value_counts()\n",
        "sha1_for_test = df.Sha1ID.value_counts()\n",
        "\n",
        "d_sha1_for_train = dict(sha1_for_train)\n",
        "d_sha1_for_test = dict(sha1_for_test)\n"
      ],
      "execution_count": 0,
      "outputs": []
    },
    {
      "cell_type": "code",
      "metadata": {
        "id": "ojGHbIoCqYx4",
        "colab_type": "code",
        "colab": {}
      },
      "source": [
        "#Lets define : Sha1Counter(dict of sha1 - how many times it appeared) in a given dataframe.\n",
        "#Input : Given a group of examples known as the data frame.\n",
        "#Output: Sha1Counter for cleans , Sha1Counter for malicious, list of labels for a given data frame.\n",
        "def split_to_clean_and_mal(sha1_dict,df,threshold=100):\n",
        "  sha1_clean = []\n",
        "  sha1_mal = []\n",
        "  for k,v in sha1_dict.items():\n",
        "    if v > threshold:\n",
        "      sha1_clean.append(k)\n",
        "    else:\n",
        "      sha1_mal.append(k)\n",
        "\n",
        "  Y = []\n",
        "  df_clean = pd.DataFrame()\n",
        "  df_malicious = pd.DataFrame()\n",
        "  for i,(ind,row) in enumerate(df.iterrows()):\n",
        "    sha1 = df.Sha1ID[ind]\n",
        "    if sha1_dict[sha1] > threshold:\n",
        "      Y.append(0)\n",
        "    elif sha1_dict[sha1] <= threshold:\n",
        "      Y.append(1)\n",
        "\n",
        "  return df[df.Sha1ID.isin(sha1_clean)],df[df.Sha1ID.isin(sha1_mal)],Y"
      ],
      "execution_count": 0,
      "outputs": []
    },
    {
      "cell_type": "markdown",
      "metadata": {
        "id": "uOHxnnrkgGSw",
        "colab_type": "text"
      },
      "source": [
        "### **Tagging the data-set with malicious and clean (threshold=100):**"
      ]
    },
    {
      "cell_type": "code",
      "metadata": {
        "id": "-sXnGj1Gq5Pz",
        "colab_type": "code",
        "outputId": "0f462c1f-d1d7-4eb8-90b0-39482ec6aa5e",
        "colab": {
          "base_uri": "https://localhost:8080/",
          "height": 136
        }
      },
      "source": [
        "train_df_clean,train_df_mal,Y_train = split_to_clean_and_mal(d_sha1_for_train,train)\n",
        "\n",
        "test_df_clean,test_df_mal,Y_test = split_to_clean_and_mal(d_sha1_for_test,test)\n",
        "\n",
        "train_counted_clean_f = train_df_clean.shape[0]\n",
        "train_counted_malicious_f = train_df_mal.shape[0]\n",
        "test_counted_clean_f = test_df_clean.shape[0]\n",
        "test_counted_malicious_f = test_df_mal.shape[0]\n",
        "\n",
        "\n",
        "print(\"-----------------Train---------------------\")\n",
        "\n",
        "print(\"Based on train only : Number of clean files: {} , Number of malicious files: {}\".format(train_counted_clean_f,train_counted_malicious_f))\n",
        "\n",
        "print(\"-----------------Test---------------------\")\n",
        "\n",
        "print(\"Based of train+test : Number of clean files: {} , Number of malicious files: {}\".format(test_counted_clean_f,test_counted_malicious_f))\n",
        "\n",
        "print(\"-------------------------------------------\")\n",
        "\n",
        "print(\"Counted labeled examples in train : {}\".format(len(Y_train)))\n",
        "print(\"Counted labeled examples in test : {}\".format(len(Y_test)))\n"
      ],
      "execution_count": 37,
      "outputs": [
        {
          "output_type": "stream",
          "text": [
            "-----------------Train---------------------\n",
            "Based on train only : Number of clean files: 10360 , Number of malicious files: 50510\n",
            "-----------------Test---------------------\n",
            "Based of train+test : Number of clean files: 3131 , Number of malicious files: 12087\n",
            "-------------------------------------------\n",
            "Counted labeled examples in train : 60870\n",
            "Counted labeled examples in test : 15218\n"
          ],
          "name": "stdout"
        }
      ]
    },
    {
      "cell_type": "code",
      "metadata": {
        "id": "dnAKCe_TCC4k",
        "colab_type": "code",
        "colab": {}
      },
      "source": [
        "train_df_clean_400_thresh,train_df_mal_400_thresh,Y_train_400_thresh = split_to_clean_and_mal(d_sha1_for_train,train,threshold=400)"
      ],
      "execution_count": 0,
      "outputs": []
    },
    {
      "cell_type": "code",
      "metadata": {
        "id": "PGmy8WW-P0tM",
        "colab_type": "code",
        "colab": {}
      },
      "source": [
        "test_df_clean_400_thresh,test_df_mal_400_thresh,Y_test_400_thresh = split_to_clean_and_mal(d_sha1_for_test,test,threshold=400)"
      ],
      "execution_count": 0,
      "outputs": []
    },
    {
      "cell_type": "markdown",
      "metadata": {
        "id": "oEoLriQ26Em1",
        "colab_type": "text"
      },
      "source": [
        "# **Textual features analysis:**\n",
        "We present few statistics of the whole data-set after filtering."
      ]
    },
    {
      "cell_type": "code",
      "metadata": {
        "id": "1APp-KnLsAK7",
        "colab_type": "code",
        "colab": {
          "base_uri": "https://localhost:8080/",
          "height": 442
        },
        "outputId": "b43e6fd3-b1b2-40e6-fd1c-dcfd12fe2e48"
      },
      "source": [
        "total_distinct_n_grams,_,_,_,_ = generate_text_features_matrices(df)"
      ],
      "execution_count": 40,
      "outputs": [
        {
          "output_type": "stream",
          "text": [
            "------\n",
            "['aaa', 'aab', 'aac', 'aad', 'aae']\n",
            "------\n",
            "['000', '001', '002', '00c', '00d']\n",
            "------\n",
            "['000', '001', '002', '003', '004']\n",
            "Shapes:\n",
            "one_hot_mat_for_file_name: (76088, 12750)\n",
            "one_hot_mat_for_domain: (76088, 7097)\n",
            "one_hot_mat_for_hostname: (76088, 13697)\n",
            "------\n",
            "['aaa', 'aab', 'aac', 'aad', 'aae']\n",
            "------\n",
            "['000', '001', '002', '00c', '00d']\n",
            "------\n",
            "['000', '001', '002', '003', '004']\n",
            "--------\n",
            "Shapes:\n",
            "tfidf_mat_for_file_name: (76088, 12750)\n",
            "tfidf_mat_for_domain: (76088, 7097)\n",
            "tfidf_mat_for_hostname: (76088, 13697)\n",
            "--------\n",
            "Total shapes:\n",
            "one_hot_mat_text_features: (76088, 33544)\n",
            "tfidf_mat_text_features: (76088, 33544)\n"
          ],
          "name": "stdout"
        }
      ]
    },
    {
      "cell_type": "code",
      "metadata": {
        "id": "tfP7ya_zVN-M",
        "colab_type": "code",
        "colab": {
          "base_uri": "https://localhost:8080/",
          "height": 68
        },
        "outputId": "4b146dfe-c27d-4f16-b936-3d35e2aee48c"
      },
      "source": [
        "\n",
        "print(\"Number of distinct 3-grams in the corpus of the file-name : {}\".format(total_distinct_n_grams[\"fn\"]))\n",
        "print(\"Number of distinct 3-grams in the corpus of the domain-names : {}\".format(total_distinct_n_grams[\"dn\"]))\n",
        "print(\"Number of distinct 3-grams in the corpus of the host-names : {}\".format(total_distinct_n_grams[\"hn\"]))"
      ],
      "execution_count": 41,
      "outputs": [
        {
          "output_type": "stream",
          "text": [
            "Number of distinct 3-grams in the corpus of the file-name : 12750\n",
            "Number of distinct 3-grams in the corpus of the domain-names : 7097\n",
            "Number of distinct 3-grams in the corpus of the host-names : 13697\n"
          ],
          "name": "stdout"
        }
      ]
    },
    {
      "cell_type": "code",
      "metadata": {
        "id": "vJ1p4-p_OVrk",
        "colab_type": "code",
        "colab": {}
      },
      "source": [
        "\n",
        "from collections import Counter\n",
        "import statistics \n",
        "import numpy as np\n",
        "import matplotlib.pyplot as plt\n",
        "from collections import defaultdict\n",
        "\n",
        "\n",
        "\n",
        "def plot_counter(cr):\n",
        "  labels, values = zip(*cr.items())\n",
        "\n",
        "  indexes = np.arange(len(labels))\n",
        "  width = 1\n",
        "  plt.figure(figsize=(70,5))\n",
        "  plt.bar(indexes, values, width)\n",
        "  plt.xticks(indexes + width * 0.5, labels)\n",
        "  plt.show()\n",
        "\n",
        "def print_statistics_per_df(df,graphs=False):\n",
        "  file_names = [x for x in df.FileNameID]\n",
        "  domain_names = replace_nans([x for x in df.WebFileUrlDomain])\n",
        "  hostname_names = replace_nans([x for x in df.WebFileUrlHostname])\n",
        "\n",
        "  file_names_after_pipeline = [pipeline_for_filename(x) for x in file_names]\n",
        "  domain_names_after_pipeline = [pipeline_for_domain(x) for x in domain_names]\n",
        "  hostname_names_after_pipeline = [pipeline_for_hostname(x) for x in hostname_names]\n",
        "\n",
        "\n",
        "  fn_c = Counter(file_names_after_pipeline)\n",
        "  dn_c = Counter(domain_names_after_pipeline)\n",
        "  hn_c = Counter(hostname_names_after_pipeline)\n",
        "\n",
        "  print(\"Number of distinct file-names after pipeline : {}\".format(len(fn_c.keys())))\n",
        "  print(\"Number of distinct domain-names after pipeline : {}\".format(len(dn_c.keys())))\n",
        "  print(\"Number of distinct hostname-names after pipeline : {}\".format(len(hn_c.keys())))\n",
        "\n",
        "  print(\"-------------------------------------------------------\")\n",
        "  print(\"Average number of repetative file-names after pipeline : {}\".format(statistics.mean(fn_c.values())))\n",
        "  print(\"Average number of repetative domain-names after pipeline : {}\".format(statistics.mean(dn_c.values())))\n",
        "  print(\"Average number of repetative hostname-names after pipeline : {}\".format(statistics.mean(hn_c.values())))\n",
        "\n",
        "\n",
        "  print(\"-------------------------------------------------------\")\n",
        "  print(\"Median number of repetative file-names after pipeline : {}\".format(statistics.median(fn_c.values())))\n",
        "  print(\"Median number of repetative domain-names after pipeline : {}\".format(statistics.median(dn_c.values())))\n",
        "  print(\"Median number of repetative hostname-names after pipeline : {}\".format(statistics.median(hn_c.values())))\n",
        "\n",
        "  print(\"-------------------------------------------------------\")\n",
        "\n",
        "\n",
        "  sha1s = [x for x in df.Sha1ID]\n",
        "  fn_to_sha1 = {k:v for (k,v) in zip(file_names,sha1s)}\n",
        "  sha1_distinct = Counter(fn_to_sha1.values())\n",
        "\n",
        "  fn_to_how_many_times_it_appeared = {k:sha1_distinct[v] for (k,v) in fn_to_sha1.items()}\n",
        "\n",
        "  print(\"Average number of appearances for each file-name according to the sha1 : {}\".format(statistics.mean(fn_to_how_many_times_it_appeared.values())))\n",
        "  print(\"Median number of appearances for each file-name according to the sha1 : {}\".format(statistics.median(fn_to_how_many_times_it_appeared.values())))\n",
        "\n",
        "\n",
        "  if graphs:\n",
        "    plot_counter(fn_c)\n",
        "    plot_counter(dn_c)\n",
        "    plot_counter(hn_c)\n",
        "    "
      ],
      "execution_count": 0,
      "outputs": []
    },
    {
      "cell_type": "code",
      "metadata": {
        "id": "rsyObKHX5PDy",
        "colab_type": "code",
        "colab": {}
      },
      "source": [
        "######Just tools\n",
        "\n",
        "\n",
        "def check_suffix_of_files_dist(df):\n",
        "  file_names = [x.split(\".\")[-1] for x in df.FileNameID]\n",
        "  print(len(file_names))\n",
        "  print(df.shape)\n",
        "  return Counter(file_names), {k: (v/df.shape[0])*100 for (k,v) in sorted(Counter(file_names).items(), key=lambda item: item[1], reverse=True)}\n",
        "\n",
        "def print_stats_for_given_columns(df):\n",
        "  domain_names = [pipeline_for_domain(y) for y in replace_nans([x for x in df.WebFileUrlDomain])]\n",
        "  sha1s = [x for x in df.Sha1ID]\n",
        "  if len(domain_names) != len(sha1s):\n",
        "    print(\"length error\")\n",
        "  else:\n",
        "    mapper = defaultdict(list)\n",
        "    for k, v in zip(domain_names,sha1s):\n",
        "      mapper[k].append(v)\n",
        "    \n",
        "    print(mapper)\n",
        "    \n",
        "    return {k:len(Counter(v).values()) for (k,v) in mapper.items()}"
      ],
      "execution_count": 0,
      "outputs": []
    },
    {
      "cell_type": "code",
      "metadata": {
        "id": "y_DoTEZXeTR1",
        "colab_type": "code",
        "colab": {
          "base_uri": "https://localhost:8080/",
          "height": 255
        },
        "outputId": "a8dd52cf-74f6-4027-a7ec-52c8f91e1932"
      },
      "source": [
        "print_statistics_per_df(df)"
      ],
      "execution_count": 44,
      "outputs": [
        {
          "output_type": "stream",
          "text": [
            "Number of distinct file-names after pipeline : 14775\n",
            "Number of distinct domain-names after pipeline : 5513\n",
            "Number of distinct hostname-names after pipeline : 8920\n",
            "-------------------------------------------------------\n",
            "Average number of repetative file-names after pipeline : 5.149780033840948\n",
            "Average number of repetative domain-names after pipeline : 13.801559949210956\n",
            "Average number of repetative hostname-names after pipeline : 8.530044843049327\n",
            "-------------------------------------------------------\n",
            "Median number of repetative file-names after pipeline : 1\n",
            "Median number of repetative domain-names after pipeline : 2\n",
            "Median number of repetative hostname-names after pipeline : 2.0\n",
            "-------------------------------------------------------\n",
            "Average number of appearances for each file-name according to the sha1 : 1.7676733592036444\n",
            "Median number of appearances for each file-name according to the sha1 : 1\n"
          ],
          "name": "stdout"
        }
      ]
    },
    {
      "cell_type": "markdown",
      "metadata": {
        "id": "Dc-nSNCHiGmj",
        "colab_type": "text"
      },
      "source": [
        "### **Statistics of the train data-set with tagging clean-malicious with threshold=100:**"
      ]
    },
    {
      "cell_type": "markdown",
      "metadata": {
        "id": "IuazUWWDvG2n",
        "colab_type": "text"
      },
      "source": [
        "1."
      ]
    },
    {
      "cell_type": "code",
      "metadata": {
        "id": "BM-rcywqegF8",
        "colab_type": "code",
        "colab": {
          "base_uri": "https://localhost:8080/",
          "height": 272
        },
        "outputId": "3c5851f7-0007-47df-d9d7-78b8a550c0a2"
      },
      "source": [
        "print(\"Size of train_df_clean : {}\".format(train_df_clean.shape))\n",
        "print_statistics_per_df(train_df_clean)"
      ],
      "execution_count": 45,
      "outputs": [
        {
          "output_type": "stream",
          "text": [
            "Size of train_df_clean : (10360, 43)\n",
            "Number of distinct file-names after pipeline : 171\n",
            "Number of distinct domain-names after pipeline : 100\n",
            "Number of distinct hostname-names after pipeline : 257\n",
            "-------------------------------------------------------\n",
            "Average number of repetative file-names after pipeline : 60.58479532163743\n",
            "Average number of repetative domain-names after pipeline : 103.6\n",
            "Average number of repetative hostname-names after pipeline : 40.311284046692606\n",
            "-------------------------------------------------------\n",
            "Median number of repetative file-names after pipeline : 4\n",
            "Median number of repetative domain-names after pipeline : 7.0\n",
            "Median number of repetative hostname-names after pipeline : 3\n",
            "-------------------------------------------------------\n",
            "Average number of appearances for each file-name according to the sha1 : 22.134328358208954\n",
            "Median number of appearances for each file-name according to the sha1 : 20\n"
          ],
          "name": "stdout"
        }
      ]
    },
    {
      "cell_type": "markdown",
      "metadata": {
        "id": "0r2ypQklvIRs",
        "colab_type": "text"
      },
      "source": [
        "2."
      ]
    },
    {
      "cell_type": "code",
      "metadata": {
        "id": "EdwFaTC8e1LK",
        "colab_type": "code",
        "colab": {
          "base_uri": "https://localhost:8080/",
          "height": 272
        },
        "outputId": "566eb93e-bce7-4bb4-e897-2a2778b9b640"
      },
      "source": [
        "print(\"Size of train_df_mal : {}\".format(train_df_mal.shape))\n",
        "print_statistics_per_df(train_df_mal)"
      ],
      "execution_count": 46,
      "outputs": [
        {
          "output_type": "stream",
          "text": [
            "Size of train_df_mal : (50510, 43)\n",
            "Number of distinct file-names after pipeline : 13120\n",
            "Number of distinct domain-names after pipeline : 4950\n",
            "Number of distinct hostname-names after pipeline : 7928\n",
            "-------------------------------------------------------\n",
            "Average number of repetative file-names after pipeline : 3.8498475609756095\n",
            "Average number of repetative domain-names after pipeline : 10.204040404040404\n",
            "Average number of repetative hostname-names after pipeline : 6.37108980827447\n",
            "-------------------------------------------------------\n",
            "Median number of repetative file-names after pipeline : 1.0\n",
            "Median number of repetative domain-names after pipeline : 2.0\n",
            "Median number of repetative hostname-names after pipeline : 1.0\n",
            "-------------------------------------------------------\n",
            "Average number of appearances for each file-name according to the sha1 : 1.4962145515205953\n",
            "Median number of appearances for each file-name according to the sha1 : 1.0\n"
          ],
          "name": "stdout"
        }
      ]
    },
    {
      "cell_type": "markdown",
      "metadata": {
        "id": "woTqeIYMTQa6",
        "colab_type": "text"
      },
      "source": [
        "### **Statistics of the train data-set with tagging clean-malicious with threshold=400:**"
      ]
    },
    {
      "cell_type": "markdown",
      "metadata": {
        "id": "k4f-245qvJmY",
        "colab_type": "text"
      },
      "source": [
        "3."
      ]
    },
    {
      "cell_type": "code",
      "metadata": {
        "id": "NPHscJF0iSPb",
        "colab_type": "code",
        "colab": {
          "base_uri": "https://localhost:8080/",
          "height": 1000
        },
        "outputId": "3f07f01b-1cf5-47b4-9d38-4a252013fa8f"
      },
      "source": [
        "\n",
        "print(\"Size of train_df_clean_400_thresh : {}\".format(train_df_clean_400_thresh.shape))\n",
        "print_statistics_per_df(train_df_clean_400_thresh,graphs=True)"
      ],
      "execution_count": 47,
      "outputs": [
        {
          "output_type": "stream",
          "text": [
            "Size of train_df_clean_400_thresh : (3605, 43)\n",
            "Number of distinct file-names after pipeline : 7\n",
            "Number of distinct domain-names after pipeline : 7\n",
            "Number of distinct hostname-names after pipeline : 53\n",
            "-------------------------------------------------------\n",
            "Average number of repetative file-names after pipeline : 515\n",
            "Average number of repetative domain-names after pipeline : 515\n",
            "Average number of repetative hostname-names after pipeline : 68.01886792452831\n",
            "-------------------------------------------------------\n",
            "Median number of repetative file-names after pipeline : 429\n",
            "Median number of repetative domain-names after pipeline : 116\n",
            "Median number of repetative hostname-names after pipeline : 8\n",
            "-------------------------------------------------------\n",
            "Average number of appearances for each file-name according to the sha1 : 30.855072463768117\n",
            "Median number of appearances for each file-name according to the sha1 : 32\n"
          ],
          "name": "stdout"
        },
        {
          "output_type": "stream",
          "text": [
            "/usr/local/lib/python3.6/dist-packages/matplotlib/backends/backend_agg.py:214: RuntimeWarning: Glyph 23157 missing from current font.\n",
            "  font.set_text(s, 0.0, flags=flags)\n",
            "/usr/local/lib/python3.6/dist-packages/matplotlib/backends/backend_agg.py:214: RuntimeWarning: Glyph 23090 missing from current font.\n",
            "  font.set_text(s, 0.0, flags=flags)\n",
            "/usr/local/lib/python3.6/dist-packages/matplotlib/backends/backend_agg.py:214: RuntimeWarning: Glyph 35826 missing from current font.\n",
            "  font.set_text(s, 0.0, flags=flags)\n",
            "/usr/local/lib/python3.6/dist-packages/matplotlib/backends/backend_agg.py:214: RuntimeWarning: Glyph 20240 missing from current font.\n",
            "  font.set_text(s, 0.0, flags=flags)\n",
            "/usr/local/lib/python3.6/dist-packages/matplotlib/backends/backend_agg.py:214: RuntimeWarning: Glyph 37711 missing from current font.\n",
            "  font.set_text(s, 0.0, flags=flags)\n",
            "/usr/local/lib/python3.6/dist-packages/matplotlib/backends/backend_agg.py:214: RuntimeWarning: Glyph 28608 missing from current font.\n",
            "  font.set_text(s, 0.0, flags=flags)\n",
            "/usr/local/lib/python3.6/dist-packages/matplotlib/backends/backend_agg.py:214: RuntimeWarning: Glyph 27963 missing from current font.\n",
            "  font.set_text(s, 0.0, flags=flags)\n",
            "/usr/local/lib/python3.6/dist-packages/matplotlib/backends/backend_agg.py:214: RuntimeWarning: Glyph 24037 missing from current font.\n",
            "  font.set_text(s, 0.0, flags=flags)\n",
            "/usr/local/lib/python3.6/dist-packages/matplotlib/backends/backend_agg.py:214: RuntimeWarning: Glyph 20855 missing from current font.\n",
            "  font.set_text(s, 0.0, flags=flags)\n",
            "/usr/local/lib/python3.6/dist-packages/matplotlib/backends/backend_agg.py:183: RuntimeWarning: Glyph 23157 missing from current font.\n",
            "  font.set_text(s, 0, flags=flags)\n",
            "/usr/local/lib/python3.6/dist-packages/matplotlib/backends/backend_agg.py:183: RuntimeWarning: Glyph 23090 missing from current font.\n",
            "  font.set_text(s, 0, flags=flags)\n",
            "/usr/local/lib/python3.6/dist-packages/matplotlib/backends/backend_agg.py:183: RuntimeWarning: Glyph 35826 missing from current font.\n",
            "  font.set_text(s, 0, flags=flags)\n",
            "/usr/local/lib/python3.6/dist-packages/matplotlib/backends/backend_agg.py:183: RuntimeWarning: Glyph 20240 missing from current font.\n",
            "  font.set_text(s, 0, flags=flags)\n",
            "/usr/local/lib/python3.6/dist-packages/matplotlib/backends/backend_agg.py:183: RuntimeWarning: Glyph 37711 missing from current font.\n",
            "  font.set_text(s, 0, flags=flags)\n",
            "/usr/local/lib/python3.6/dist-packages/matplotlib/backends/backend_agg.py:183: RuntimeWarning: Glyph 28608 missing from current font.\n",
            "  font.set_text(s, 0, flags=flags)\n",
            "/usr/local/lib/python3.6/dist-packages/matplotlib/backends/backend_agg.py:183: RuntimeWarning: Glyph 27963 missing from current font.\n",
            "  font.set_text(s, 0, flags=flags)\n",
            "/usr/local/lib/python3.6/dist-packages/matplotlib/backends/backend_agg.py:183: RuntimeWarning: Glyph 24037 missing from current font.\n",
            "  font.set_text(s, 0, flags=flags)\n",
            "/usr/local/lib/python3.6/dist-packages/matplotlib/backends/backend_agg.py:183: RuntimeWarning: Glyph 20855 missing from current font.\n",
            "  font.set_text(s, 0, flags=flags)\n"
          ],
          "name": "stderr"
        },
        {
          "output_type": "display_data",
          "data": {
            "image/png": "[encoded data removed]",
            "text/plain": [
              "<Figure size 5040x360 with 1 Axes>"
            ]
          },
          "metadata": {
            "tags": [],
            "needs_background": "light"
          }
        },
        {
          "output_type": "display_data",
          "data": {
            "image/png": "[encoded data removed]",
            "text/plain": [
              "<Figure size 5040x360 with 1 Axes>"
            ]
          },
          "metadata": {
            "tags": [],
            "needs_background": "light"
          }
        },
        {
          "output_type": "display_data",
          "data": {
            "image/png": "[encoded data removed]",
            "text/plain": [
              "<Figure size 5040x360 with 1 Axes>"
            ]
          },
          "metadata": {
            "tags": [],
            "needs_background": "light"
          }
        }
      ]
    },
    {
      "cell_type": "markdown",
      "metadata": {
        "id": "s-Am71ihvLUO",
        "colab_type": "text"
      },
      "source": [
        "4."
      ]
    },
    {
      "cell_type": "code",
      "metadata": {
        "id": "FJ9Rqs3TiW9L",
        "colab_type": "code",
        "colab": {
          "base_uri": "https://localhost:8080/",
          "height": 272
        },
        "outputId": "8c6cfe56-12d1-492f-a272-ba6fcb19b50d"
      },
      "source": [
        "print(\"Size of train_df_mal_400_thresh : {}\".format(train_df_mal_400_thresh.shape))\n",
        "print_statistics_per_df(train_df_mal_400_thresh)"
      ],
      "execution_count": 48,
      "outputs": [
        {
          "output_type": "stream",
          "text": [
            "Size of train_df_mal_400_thresh : (57265, 43)\n",
            "Number of distinct file-names after pipeline : 13177\n",
            "Number of distinct domain-names after pipeline : 4963\n",
            "Number of distinct hostname-names after pipeline : 7987\n",
            "-------------------------------------------------------\n",
            "Average number of repetative file-names after pipeline : 4.345829855050467\n",
            "Average number of repetative domain-names after pipeline : 11.538384041910135\n",
            "Average number of repetative hostname-names after pipeline : 7.169775885814449\n",
            "-------------------------------------------------------\n",
            "Median number of repetative file-names after pipeline : 1\n",
            "Median number of repetative domain-names after pipeline : 2\n",
            "Median number of repetative hostname-names after pipeline : 1\n",
            "-------------------------------------------------------\n",
            "Average number of appearances for each file-name according to the sha1 : 1.6761547747633267\n",
            "Median number of appearances for each file-name according to the sha1 : 1\n"
          ],
          "name": "stdout"
        }
      ]
    },
    {
      "cell_type": "markdown",
      "metadata": {
        "id": "GYH3Snqe0T3k",
        "colab_type": "text"
      },
      "source": [
        ""
      ]
    },
    {
      "cell_type": "markdown",
      "metadata": {
        "id": "v-13yzirjIrb",
        "colab_type": "text"
      },
      "source": [
        "# **Insights:**\n",
        "\n"
      ]
    },
    {
      "cell_type": "markdown",
      "metadata": {
        "id": "RDRYUnaS4HGc",
        "colab_type": "text"
      },
      "source": [
        "### **Claim:**\n",
        "We noticed that the clean files came from much more frequently used domains. As you can see the average appreances for each domain name in the clean files is 515 while the average apperances for each domain name in the malicios file is only 11.\n",
        "We claim that the domain of each entry in the clean subset of the train data frame is frequently used among that subset.\n",
        "In order to test this claim, so we will search for each entry in the clean subset, different entries that has different sha1 and the same domain name."
      ]
    },
    {
      "cell_type": "code",
      "metadata": {
        "id": "F-r6WxtgyISo",
        "colab_type": "code",
        "colab": {
          "base_uri": "https://localhost:8080/",
          "height": 71
        },
        "outputId": "09652741-f176-450d-fd3c-81fdc7a63d0e"
      },
      "source": [
        "domains_to_num_of_sha1s = print_stats_for_given_columns(train_df_clean_400_thresh)\n",
        "# print(\"Average number of sha1s to domain-name after pipeline : {}\".format(statistics.mean(domains_to_num_of_sha1s.values())))\n",
        "print(domains_to_num_of_sha1s)"
      ],
      "execution_count": 49,
      "outputs": [
        {
          "output_type": "stream",
          "text": [
            "defaultdict(<class 'list'>, {'': [4092115, 4092115, 4092115, 4092115, 4092115, 4092115, 4092115, 4092115, 4092115, 4092115, 4092115, 4092115, 4092115, 4092115, 4092115, 4092115, 4092115, 4092115, 4092115, 4092115, 4092115, 4092115, 4092115, 4092115, 4092115, 4092115, 4092115, 4092115, 4092115, 4092115, 4092115, 4092115, 4092115, 4092115, 4092115, 4092115, 4092115, 4092115, 4092115, 4092115, 4092115, 4092115, 4092115, 4092115, 4092115, 4092115, 4092115, 4092115, 4092115, 4092115, 4092115, 4092115, 4092115, 4092115, 4092115, 4092115, 4092115, 4092115, 4092115, 4092115, 4092115, 4092115, 4092115, 4092115, 4092115, 4092115, 4092115, 4092115, 4092115, 4092115, 4092115, 4092115, 4092115, 4092115, 4092115, 4092115, 4092115, 4092115, 4092115, 4092115, 4092115, 4092115, 4092115, 4092115, 4092115, 4092115, 4092115, 4092115, 4092115, 4092115, 4092115, 4092115, 4092115, 4092115, 4092115, 4092115, 4092115, 4092115, 4092115, 4092115, 4092115, 4092115, 4092115, 4092115, 4092115, 4092115, 4092115, 4092115, 4092115, 4092115, 4092115, 4092115, 4092115, 4092115, 4092115, 4092115, 4092115, 4092115, 4092115, 4092115, 4092115, 4092115, 4092115, 4092115, 4092115, 4092115, 4092115, 4092115, 4092115, 4092115, 4092115, 4092115, 4092115, 4092115, 4092115, 4092115, 4092115, 4092115, 4092115, 4092115, 4092115, 4092115, 4092115, 4092115, 4092115, 4092115, 4092115, 4092115, 4092115, 4092115, 4092115, 4092115, 4092115, 4092115, 4092115, 4092115, 4092115, 4092115, 4092115, 4092115, 4092115, 4092115, 4092115, 4092115, 4092115, 4092115, 4092115, 4092115, 4092115, 4092115, 4092115, 4092115, 4092115, 4092115, 4092115, 4092115, 4092115, 4092115, 4092115, 4092115, 4092115, 4092115, 4092115, 4092115, 4092115, 4092115, 4092115, 4092115, 4092115, 4092115, 4092115, 4092115, 4092115, 4092115, 4092115, 4092115, 4092115, 4092115, 4092115, 4092115, 4092115, 4092115, 4092115, 4092115, 4092115, 4092115, 4092115, 4092115, 4092115, 4092115, 4092115, 4092115, 4092115, 4092115, 4092115, 4092115, 4092115, 4092115, 4092115, 4092115, 4092115, 4092115, 4092115, 4092115, 4092115, 4092115, 4092115, 4092115, 4092115, 4092115, 4092115, 4092115, 4092115, 4092115, 4092115, 4092115, 4092115, 4092115, 4092115, 4092115, 4092115, 4092115, 4092115, 4092115, 4092115, 4092115, 4092115, 4092115, 4092115, 4092115, 4092115, 4092115, 4092115, 4092115, 4092115, 4092115, 4092115, 4092115, 4092115, 4092115, 4092115, 4092115, 4092115, 4092115, 4092115, 4092115, 4092115, 4092115, 4092115, 4092115, 4092115, 4092115, 4092115, 4092115, 4092115, 4092115, 4092115, 4092115, 4092115, 4092115, 4092115, 4092115, 4092115, 4092115, 4092115, 4092115, 4092115, 4092115, 4092115, 4092115, 4092115, 4092115, 4092115, 4092115, 4092115, 4092115, 4092115, 4092115, 4092115, 4092115, 4092115, 4092115, 4092115, 4092115, 4092115, 4092115, 4092115, 4092115, 4092115, 4092115, 4092115, 4092115, 4092115, 4092115, 4092115, 4092115, 4092115, 4092115, 4092115, 4092115, 4092115, 4092115, 4092115, 4092115, 4092115, 4092115, 4092115, 4092115, 4092115, 4092115, 4092115, 4092115, 4092115, 4092115, 4092115, 4092115, 4092115, 4092115, 4092115, 4092115, 4092115, 4092115, 4092115, 4092115, 4092115, 4092115, 4092115, 4092115, 4092115, 4092115, 4092115, 4092115, 4092115, 4092115, 4092115, 4092115, 4092115, 4092115, 4092115, 4092115, 4092115, 4092115, 4092115, 4092115, 4092115, 4092115, 4092115, 4092115, 4092115, 4092115, 4092115, 4092115, 4092115, 4092115, 4092115, 4092115, 4092115, 4092115, 4092115, 4092115, 4092115, 4092115, 4092115, 4092115, 4092115, 4092115, 4092115, 4092115, 4092115, 4092115, 4092115, 4092115, 4092115, 4092115, 4092115, 4092115, 4092115, 4092115, 4092115, 4092115, 4092115, 4092115, 4092115, 4092115, 4092115, 4092115, 4092115, 4092115, 4092115, 4092115, 4092115, 4092115, 4092115, 4092115, 4092115, 4092115, 4092115, 4092115, 4092115, 4092115, 4092115, 4092115, 4092115, 4092115, 4092115, 4092115, 4092115, 4092115, 4092115, 4092115, 4092115, 4092115, 4092115, 4092115, 4092115, 4092115, 4092115, 4092115, 4092115, 4092115, 4092115, 4092115, 4092115, 4092115, 4092115, 4092115, 4092115, 4092115, 4092115, 4092115, 4092115, 4092115, 4092115, 4092115, 4092115, 4092115, 4092115, 4092115, 4092115, 4092115, 4092115, 4092115, 4092115, 4092115, 4092115, 4092115, 4092115, 4092115, 4092115, 4092115, 4092115, 4092115, 4092115, 4092115, 4092115, 4092115, 4092115, 4092115, 4092115, 4092115, 4092115, 4092115, 4092115, 4092115, 4092115, 4092115, 4092115, 4092115, 4092115, 4092115, 4092115, 4092115, 4092115, 4092115, 4092115, 4092115, 4092115, 4092115, 4092115, 4092115, 4092115, 4092115, 4092115, 4092115, 4092115, 4092115, 4092115, 4092115, 4092115, 4092115, 4092115, 4092115, 4092115, 4092115, 4092115, 4092115, 4092115, 4092115, 4092115, 4092115, 4092115, 4092115, 4092115, 4092115, 4092115, 4092115, 4092115, 4092115, 4092115, 4092115, 4092115, 4092115, 4092115, 4092115, 4092115, 4092115, 4092115, 4092115, 4092115, 4092115, 4092115, 4092115, 4092115, 4092115, 4092115, 4092115, 4092115, 4092115, 4092115, 4092115, 4092115, 4092115, 4092115, 4092115, 4092115, 4092115, 4092115, 4092115, 4092115, 4092115, 4092115, 4092115, 4092115, 4092115, 4092115, 4092115, 4092115, 4092115, 4092115, 4092115, 4092115, 4092115, 4092115, 4092115, 4092115, 4092115, 4092115, 4092115, 4092115, 4092115, 4092115, 4092115, 4092115, 4092115, 4092115, 4092115, 4092115, 4092115, 4092115, 4092115, 4092115, 4092115, 4092115, 4092115, 4092115, 4092115, 4092115, 4092115, 4092115, 4092115, 4092115, 4092115, 4092115, 4092115, 4092115, 4092115, 4092115, 4092115, 4092115, 4092115, 4092115, 4092115, 4092115, 4092115, 4092115, 4092115, 4092115, 4092115, 4092115, 4092115, 4092115, 4092115, 4092115, 4092115, 4092115, 4092115, 4092115, 4092115, 4092115, 4092115, 4092115, 4092115, 4092115, 4092115, 4092115, 4092115, 4092115, 4092115, 4092115, 4092115, 4092115, 4092115, 4092115, 4092115, 4092115, 4092115, 4092115, 4092115, 4092115, 4092115, 4092115, 4092115, 4092115, 4092115, 4092115, 4092115, 4092115, 4092115, 4092115, 4092115, 4092115, 4092115, 4092115, 4092115, 4092115, 4092115, 4092115, 4092115, 4092115, 4092115, 4092115, 4092115, 4092115, 4092115, 4092115, 4092115, 4092115, 4092115, 4092115, 4092115, 4092115, 4092115, 4092115, 4092115, 4092115, 4092115, 4092115, 4092115, 4092115, 4092115, 4092115, 4092115, 4092115, 4092115, 4092115, 4092115, 4092115, 4092115, 4092115, 4092115, 4092115, 4092115, 4092115, 4092115, 4092115, 4092115, 4092115, 4092115, 4092115, 4092115, 4092115, 4092115, 4092115, 4092115, 4092115, 4092115, 4092115, 4092115, 4092115, 4092115, 4092115, 4092115, 4092115, 4092115, 4092115, 4092115, 4092115, 4092115, 4092115, 4092115, 4092115, 4092115, 4092115, 4092115, 4092115, 4092115, 4092115, 4092115, 4092115, 4092115, 4092115, 4092115, 4092115, 4092115, 4092115, 4092115, 4092115, 4092115, 4092115, 4092115, 4092115, 4092115, 4092115, 4092115, 4092115, 4092115, 4092115, 4092115, 4092115, 4092115, 4092115, 4092115, 4092115, 4092115, 4092115, 4092115, 4092115, 4092115, 4092115, 4092115, 4092115, 4092115, 4092115, 4092115, 4092115, 4092115, 4092115, 4092115, 4092115, 4092115, 4092115, 4092115, 4092115, 4092115, 4092115, 4092115, 4092115, 4092115, 4092115, 4092115, 4092115, 4092115, 4092115, 4092115, 4092115, 4092115, 4092115, 4092115, 4092115, 4092115, 4092115, 4092115, 4092115, 4092115, 4092115, 4092115, 4092115, 4092115, 4092115, 4092115, 4092115, 4092115, 4092115, 4092115, 4092115, 4092115, 4092115, 4092115, 4092115, 4092115, 4092115, 4092115, 4092115, 4092115, 4092115, 4092115, 4092115, 4092115, 4092115, 4092115, 4092115, 4092115, 4092115, 4092115, 4092115, 4092115, 4092115, 4092115, 4092115, 4092115, 4092115, 4092115, 4092115, 4092115, 4092115, 4092115, 4092115, 4092115, 4092115, 4092115, 4092115, 4092115, 4092115, 4092115, 4092115, 4092115, 4092115, 4092115, 4092115, 4092115, 4092115, 4092115, 4092115, 4092115, 4092115, 4092115, 4092115, 4092115, 4092115, 4092115, 4092115, 4092115, 4092115, 4092115, 4092115, 4092115, 4092115, 4092115, 4092115, 4092115, 4092115, 4092115, 4092115, 4092115, 4092115, 4092115, 4092115, 4092115, 4092115, 4092115, 4092115, 4092115, 4092115, 4092115, 4092115, 4092115, 4092115, 4092115, 4092115, 4092115, 4092115, 4092115, 4092115, 4092115, 4092115, 4092115, 4092115, 4092115, 4092115, 4092115, 4092115, 4092115, 4092115, 4092115, 4092115, 4092115, 4092115, 4092115, 4092115, 4092115, 4092115, 4092115, 4092115, 4092115, 4092115, 4092115, 4092115, 4092115, 4092115, 4092115, 4092115, 4092115, 4092115, 4092115, 4092115, 4092115, 4092115, 4092115, 4092115, 4092115, 4092115, 4092115, 4092115, 4092115, 4092115, 4092115, 4092115, 4092115, 4092115, 4092115, 4092115, 4092115, 4092115, 4092115, 4092115, 4092115, 4092115, 4092115, 4092115, 4092115, 4092115, 4092115, 4092115, 4092115, 4092115, 4092115, 4092115, 4092115, 4092115, 4092115, 4092115, 4092115, 4092115, 4092115, 4092115, 4092115, 4092115, 4092115, 4092115, 4092115, 4092115, 4092115, 4092115, 4092115, 4092115, 4092115, 4092115, 4092115, 4092115, 4092115, 4092115, 4092115, 4092115, 4092115, 4092115, 4092115, 4092115, 4092115, 4092115, 4092115, 4092115, 4092115, 4092115, 4092115, 4092115, 4092115, 4092115, 4092115, 4092115, 4092115, 4092115, 4092115, 4092115, 4092115, 4092115, 4092115, 4092115, 4092115, 4092115, 4092115, 4092115, 4092115, 4092115, 4092115, 4092115, 4092115, 4092115, 4092115, 4092115, 4092115, 4092115, 4092115, 4092115, 4092115, 4092115, 4092115, 4092115, 4092115, 4092115, 4092115, 4092115, 4092115, 4092115, 4092115, 4092115, 4092115, 4092115, 4092115, 4092115, 4092115, 4092115, 4092115, 4092115, 4092115, 4092115, 4092115, 4092115, 4092115, 4092115, 4092115, 4092115, 4092115, 4092115, 4092115, 4092115, 4092115, 4092115, 4092115, 4092115, 4092115, 4092115, 4092115, 4092115, 4092115, 4092115, 4092115, 4092115, 4092115, 4092115, 4092115, 4092115, 4092115, 4092115, 4092115, 4092115, 4092115, 4092115, 4092115, 4092115, 4092115, 4092115, 4092115, 4092115, 4092115, 4092115, 4092115, 4092115, 4092115, 4092115, 4092115, 4092115, 4092115, 4092115, 4092115, 4092115, 4092115, 4092115, 4092115, 4092115, 4092115, 4092115, 4092115, 4092115, 4092115, 4092115, 4092115, 4092115, 4092115, 4092115, 4092115, 4092115, 4092115, 4092115, 4092115, 4092115, 4092115, 4092115, 4092115, 4092115, 4092115, 4092115, 4092115, 4092115, 4092115, 4092115, 4092115, 4092115, 4092115, 4092115, 4092115, 4092115, 4092115, 4092115, 4092115, 4092115, 4092115, 4092115, 4092115, 4092115, 4092115, 4092115, 4092115, 4092115, 4092115, 4092115, 4092115, 4092115, 4092115, 4092115, 4092115, 4092115, 4092115, 4092115, 4092115, 4092115, 4092115, 4092115, 4092115, 4092115, 4092115, 4092115, 4092115, 4092115, 4092115, 4092115, 4092115, 4092115, 4092115, 4092115, 4092115, 4092115, 4092115, 4092115, 4092115, 4092115, 4092115, 3987064, 4092115, 4092115, 4092115, 4092115, 4092115, 4092115, 4092115, 4092115, 4092115, 4092115, 4092115, 4092115, 4092115, 4092115, 4092115, 4092115, 4092115, 4092115, 4092115, 4092115, 4092115, 4092115, 4092115, 4092115, 4092115, 4092115, 4092115, 4092115, 4092115, 4092115, 4092115, 4092115, 4092115, 4092115, 4092115, 4092115, 4092115, 4092115, 4092115, 4092115, 4092115, 4092115, 4092115, 4092115, 4092115, 4092115, 4092115, 4092115, 4092115, 4092115, 4092115, 4092115, 4092115, 4092115, 4092115, 4092115, 4092115, 4092115, 4092115, 4092115, 4092115, 4092115, 4092115, 4092115, 4092115, 4092115, 4092115, 4092115, 4092115, 4092115, 4092115, 4092115, 4092115, 4092115, 4092115, 4092115, 4092115, 4092115, 4092115, 4092115, 4092115, 4092115, 4092115, 4092115, 4092115, 4092115, 4092115, 4092115, 4092115, 4092115, 4092115, 4092115, 4092115, 4092115, 4092115, 4092115, 4092115, 4092115, 4092115, 4092115, 4092115, 4092115, 4092115, 4092115, 4092115, 4092115, 4092115, 4092115, 4092115, 4092115, 4092115, 4092115, 4092115, 4092115, 4092115, 4092115, 4092115, 4092115, 4092115, 4092115, 4092115, 4092115, 4092115, 4092115, 4092115, 4092115, 4092115, 4092115, 4092115, 4092115, 4092115, 4092115, 4092115, 4092115, 4092115, 4092115, 4092115, 4092115, 4092115, 4092115, 4092115, 4092115, 4092115, 4092115, 4092115, 4092115, 4092115, 4092115, 4092115, 4092115, 4092115, 4092115, 4092115, 4092115, 4092115], 'rbxcdn': [2862513, 2862513, 2862513, 2862513, 2862513, 2862513, 2862513, 2862513, 2862513, 2862513, 2862513, 2862513, 2862513, 2862513, 2862513, 2862513, 2862513, 2862513, 2862513, 2862513, 2862513, 2862513, 2862513, 2862513, 2862513, 2862513, 2862513, 2862513, 2862513, 2862513, 2862513, 2862513, 2862513, 2862513, 2862513, 2862513, 2862513, 2862513, 2862513, 2862513, 2862513, 2862513, 2862513, 2862513, 2862513, 2862513, 2862513, 2862513, 2862513, 2862513, 2862513, 2862513, 2862513, 2862513, 2862513, 2862513, 2862513, 2862513, 2862513, 2862513, 2862513, 2862513, 2862513, 2862513, 2862513, 2862513, 2862513, 2862513, 2862513, 2862513, 2862513, 2862513, 2862513, 2862513, 2862513, 2862513, 2862513, 2862513, 2862513, 2862513, 2862513, 2862513, 2862513, 2862513, 2862513, 2862513, 2862513, 2862513, 2862513, 2862513, 2862513, 2862513, 2862513, 2862513, 2862513, 2862513, 2862513, 2862513, 2862513, 2862513, 2862513, 2862513, 2862513, 2862513, 2862513, 2862513, 2862513, 2862513, 2862513, 2862513, 2862513, 2862513, 2862513, 2862513, 2862513, 2862513, 2862513, 2862513, 2862513, 2862513, 2862513, 2862513, 2862513, 2862513, 2862513, 2862513, 2862513, 2862513, 2862513, 2862513, 2862513, 2862513, 2862513, 2862513, 2862513, 2862513, 2862513, 2862513, 2862513, 2862513, 2862513, 2862513, 2862513, 2862513, 2862513, 2862513, 2862513, 2862513, 2862513, 2862513, 2862513, 2862513, 2862513, 2862513, 2862513, 2862513, 2862513, 2862513, 2862513, 2862513, 2862513, 2862513, 2862513, 2862513, 2862513, 2862513, 2862513, 2862513, 2862513, 2862513, 2862513, 2862513, 2862513, 2862513, 2862513, 2862513, 2862513, 2862513, 2862513, 2862513, 2862513, 2862513, 2862513, 2862513, 2862513, 2862513, 2862513, 2862513, 2862513, 2862513, 2862513, 2862513, 2862513, 2862513, 2862513, 2862513, 2862513, 2862513, 2862513, 2862513, 2862513, 2862513, 2862513, 2862513, 2862513, 2862513, 2862513, 2862513, 2862513, 2862513, 2862513, 2862513, 2862513, 2862513, 2862513, 2862513, 2862513, 2862513, 2862513, 2862513, 2862513, 2862513, 2862513, 2862513, 2862513, 2862513, 2862513, 2862513, 2862513, 2862513, 2862513, 2862513, 2862513, 2862513, 2862513, 2862513, 2862513, 2862513, 2862513, 2862513, 2862513, 2862513, 2862513, 2862513, 2862513, 2862513, 2862513, 2862513, 2862513, 2862513, 2862513, 2862513, 2862513, 2862513, 2862513, 2862513, 2862513, 2862513, 2862513, 2862513, 2862513, 2862513, 2862513, 2862513, 2862513, 2862513, 2862513, 2862513, 2862513, 2862513, 2862513, 2862513, 2862513, 2862513, 2862513, 2862513, 2862513, 2862513, 2862513, 2862513, 2862513, 2862513, 2862513, 2862513, 2862513, 2862513, 2862513, 2862513, 2862513, 2862513, 2862513, 2862513, 2862513, 2862513, 2862513, 2862513, 2862513, 2862513, 2862513, 2862513, 2862513, 2862513, 2862513, 2862513, 2862513, 2862513, 2862513, 2862513, 2862513, 2862513, 2862513, 2862513, 2862513, 2862513, 2862513, 2862513, 2862513, 2862513, 2862513, 2862513, 2862513, 2862513, 2862513, 2862513, 2862513, 2862513, 2862513, 2862513, 2862513, 2862513, 2862513, 2862513, 2862513, 2862513, 2862513, 2862513, 2862513, 2862513, 2862513, 2862513, 2862513, 2862513, 2862513, 2862513, 2862513, 2862513, 2862513, 2862513, 2862513, 2862513, 2862513, 2862513, 2862513, 2862513, 2862513, 2862513, 2862513, 2862513, 2862513, 2862513, 2862513, 2862513, 2862513, 2862513, 2862513, 2862513, 2862513, 2862513, 2862513, 2862513, 2862513, 2862513, 2862513, 2862513, 2862513, 2862513, 2862513, 2862513, 2862513, 2862513, 2862513, 2862513, 2862513, 2862513, 2862513, 2862513, 2862513, 2862513, 2862513, 2862513, 2862513, 2862513, 2862513, 2862513, 2862513, 2862513, 2862513, 2862513, 2862513, 2862513, 2862513, 2862513, 2862513, 2862513, 2862513, 2862513, 2862513, 2862513, 2862513, 2862513, 2862513, 2862513, 2862513, 2862513, 2862513, 2862513, 2862513, 2862513, 2862513, 2862513, 2862513, 2862513, 2862513, 2862513, 2862513, 2862513, 2862513, 2862513, 2862513, 2862513, 2862513, 2862513, 2862513, 2862513, 2862513, 2862513, 2862513, 2862513, 2862513, 2862513, 2862513, 2862513, 2862513, 2862513, 2862513, 2862513, 2862513, 2862513, 2862513, 2862513, 2862513, 2862513, 2862513, 2862513, 2862513, 2862513, 2862513, 2862513, 2862513, 2862513, 2862513, 2862513, 2862513, 2862513, 2862513, 2862513, 2862513, 2862513, 2862513, 2862513, 2862513, 2862513, 2862513, 2862513, 2862513, 2862513, 2862513, 2862513, 2862513, 2862513, 2862513, 2862513, 2862513, 2862513, 2862513, 2862513, 2862513, 2862513, 2862513, 2862513, 2862513, 2862513, 2862513, 2862513, 2862513, 2862513, 2862513, 2862513, 2862513, 2862513, 2862513, 2862513, 2862513, 2862513, 2862513, 2862513, 2862513, 2862513, 2862513, 2862513, 2862513, 2862513, 2862513, 2862513, 2862513, 2862513, 2862513, 2862513, 2862513, 2862513, 2862513, 2862513, 2862513, 2862513, 2862513, 2862513, 2862513, 2862513, 2862513, 2862513, 2862513, 2862513, 2862513, 2862513, 2862513, 2862513, 2862513, 2862513, 2862513, 2862513, 2862513, 2862513, 2862513, 2862513, 2862513, 2862513, 2862513, 2862513, 2862513, 2862513, 2862513, 2862513, 2862513, 2862513, 2862513, 2862513, 2862513, 2862513, 2862513, 2862513, 2862513, 2862513, 2862513, 2862513, 2862513, 2862513, 2862513, 2862513, 2862513, 2862513, 2862513, 2862513, 2862513, 2862513, 2862513, 2862513, 2862513, 2862513, 2862513, 2862513, 2862513, 2862513, 2862513, 2862513, 2862513, 2862513, 2862513, 2862513, 2862513, 2862513, 2862513, 2862513, 2862513, 2862513, 2862513, 2862513, 2862513, 2862513, 2862513, 2862513, 2862513, 2862513, 2862513, 2862513, 2862513, 2862513, 2862513, 2862513, 2862513, 2862513, 2862513, 2862513, 2862513, 2862513, 2862513, 2862513, 2862513, 2862513, 2862513, 2862513, 2862513, 2862513, 2862513, 2862513, 2862513, 2862513, 2862513, 2862513, 2862513, 2862513, 2862513, 2862513, 2862513, 2862513, 2862513, 2862513, 2862513, 2862513, 2862513, 2862513, 2862513, 2862513, 2862513, 2862513, 2862513, 2862513, 2862513, 2862513, 2862513, 2862513, 2862513, 2862513, 2862513, 2862513, 2862513, 2862513, 2862513, 2862513, 2862513, 2862513, 2862513, 2862513, 2862513, 2862513, 2862513, 2862513, 2862513, 2862513, 2862513, 2862513, 2862513, 2862513, 2862513, 2862513, 2862513, 2862513, 2862513, 2862513, 2862513, 2862513, 2862513, 2862513, 2862513, 2862513, 2862513, 2862513, 2862513, 2862513, 2862513, 2862513, 2862513, 2862513, 2862513, 2862513, 2862513, 2862513, 2862513, 2862513, 2862513, 2862513, 2862513, 2862513, 2862513, 2862513, 2862513, 2862513, 2862513, 2862513, 2862513, 2862513, 2862513, 2862513, 2862513, 2862513, 2862513, 2862513, 2862513, 2862513, 2862513, 2862513, 2862513, 2862513, 2862513, 2862513, 2862513, 2862513, 2862513, 2862513, 2862513, 2862513, 2862513, 2862513, 2862513, 2862513, 2862513, 2862513, 2862513, 2862513, 2862513, 2862513, 2862513, 2862513, 2862513, 2862513, 2862513, 2862513, 2862513, 2862513, 2862513, 2862513, 2862513, 2862513, 2862513, 2862513, 2862513, 2862513, 2862513, 2862513, 2862513, 2862513, 2862513, 2862513, 2862513, 2862513, 2862513, 2862513, 2862513, 2862513, 2862513, 2862513, 2862513, 2862513, 2862513, 2862513, 2862513, 2862513, 2862513, 2862513, 2862513, 2862513, 2862513, 2862513, 2862513, 2862513, 2862513, 2862513, 2862513, 2862513, 2862513, 2862513, 2862513, 2862513, 2862513, 2862513, 2862513, 2862513, 2862513, 2862513, 2862513, 2862513, 2862513, 2862513, 2862513, 2862513, 2862513, 2862513, 2862513, 2862513, 2862513, 2862513, 2862513, 2862513, 2862513, 2862513, 2862513, 2862513, 2862513, 2862513, 2862513, 2862513, 2862513, 2862513, 2862513, 2862513, 2862513, 2862513, 2862513, 2862513, 2862513, 2862513, 2862513, 2862513, 2862513, 2862513, 2862513, 2862513, 2862513, 2862513, 2862513, 2862513, 2862513, 2862513, 2862513, 2862513, 2862513, 2862513, 2862513, 2862513, 2862513, 2862513, 2862513, 2862513, 2862513, 2862513, 2862513, 2862513, 2862513, 2862513, 2862513, 2862513, 2862513, 2862513, 2862513, 2862513, 2862513, 2862513, 2862513, 2862513, 2862513, 2862513, 2862513, 2862513, 2862513, 2862513, 2862513, 2862513, 2862513, 2862513, 2862513, 2862513, 2862513, 2862513, 2862513, 2862513, 2862513, 2862513, 2862513, 2862513, 2862513, 2862513, 2862513, 2862513, 2862513, 2862513, 2862513, 2862513, 2862513, 2862513, 2862513, 2862513, 2862513, 2862513, 2862513, 2862513, 2862513, 2862513, 2862513, 2862513, 2862513, 2862513, 2862513, 2862513, 2862513, 2862513, 2862513, 2862513, 2862513, 2862513, 2862513, 2862513, 2862513, 2862513, 2862513, 2862513, 2862513, 2862513, 2862513, 2862513, 2862513, 2862513, 2862513, 2862513, 2862513, 2862513, 2862513, 2862513, 2862513, 2862513, 2862513, 2862513, 2862513, 2862513, 2862513, 2862513, 2862513, 2862513, 2862513, 2862513, 2862513, 2862513, 2862513, 2862513, 2862513, 2862513, 2862513, 2862513, 2862513, 2862513, 2862513, 2862513, 2862513, 2862513, 2862513, 2862513, 2862513, 2862513, 2862513, 2862513, 2862513, 2862513, 2862513, 2862513, 2862513, 2862513, 2862513, 2862513, 2862513, 2862513, 2862513, 2862513, 2862513, 2862513, 2862513, 2862513, 2862513, 2862513, 2862513, 2862513, 2862513, 2862513, 2862513, 2862513, 2862513, 2862513, 2862513, 2862513, 2862513, 2862513, 2862513, 2862513, 2862513, 2862513, 2862513, 2862513, 2862513, 2862513, 2862513, 2862513, 2862513, 2862513, 2862513, 2862513, 2862513, 2862513, 2862513, 2862513, 2862513, 2862513, 2862513, 2862513, 2862513, 2862513, 2862513, 2862513, 2862513, 2862513, 2862513, 2862513, 2862513, 2862513, 2862513, 2862513, 2862513, 2862513, 2862513, 2862513, 2862513, 2862513, 2862513, 2862513, 2862513, 2862513, 2862513, 2862513, 2862513, 2862513, 2862513, 2862513, 2862513, 2862513, 2862513, 2862513, 2862513, 2862513, 2862513, 2862513, 2862513, 2862513, 2862513, 2862513, 2862513, 2862513, 2862513, 2862513, 2862513, 2862513, 2862513, 2862513, 2862513, 2862513, 2862513, 2862513, 2862513, 2862513, 2862513, 2862513, 2862513, 2862513, 2862513, 2862513, 2862513, 2862513, 2862513, 2862513, 2862513, 2862513, 2862513, 2862513, 2862513, 2862513, 2862513, 2862513, 2862513, 2862513, 2862513, 2862513, 2862513, 2862513, 2862513, 2862513, 2862513, 2862513, 2862513, 2862513, 2862513, 2862513, 2862513, 2862513, 2862513, 2862513, 2862513, 2862513, 2862513, 2862513, 2862513, 2862513, 2862513, 2862513, 2862513, 2862513, 2862513, 2862513, 2862513, 2862513, 2862513, 2862513, 2862513, 2862513, 2862513, 2862513, 2862513, 2862513, 2862513, 2862513, 2862513, 2862513, 2862513, 2862513, 2862513, 2862513, 2862513, 2862513, 2862513, 2862513, 2862513, 2862513, 2862513, 2862513, 2862513, 2862513, 2862513, 2862513, 2862513, 2862513, 2862513, 2862513, 2862513, 2862513, 2862513, 2862513, 2862513, 2862513, 2862513, 2862513, 2862513, 2862513, 2862513, 2862513, 2862513, 2862513, 2862513, 2862513, 2862513, 2862513, 2862513, 2862513, 2862513, 2862513, 2862513, 2862513, 2862513, 2862513, 2862513, 2862513, 2862513, 2862513, 2862513, 2862513, 2862513, 2862513, 2862513, 2862513, 2862513, 2862513, 2862513, 2862513, 2862513, 2862513, 2862513, 2862513, 2862513, 2862513, 2862513, 2862513, 2862513, 2862513, 2862513, 2862513, 2862513, 2862513, 2862513, 2862513, 2862513, 2862513, 2862513, 2862513, 2862513, 2862513, 2862513, 2862513, 2862513, 2862513, 2862513, 2862513], 'reimage': [3987064, 3987064, 3987064, 3987064, 3987064, 3987064, 3987064, 3987064, 3987064, 3987064, 3987064, 3987064, 3987064, 3987064, 3987064, 3987064, 3987064, 3987064, 3987064, 3987064, 3987064, 3987064, 3987064, 3987064, 3987064, 3987064, 3987064, 3987064, 3987064, 3987064, 3987064, 3987064, 3987064, 3987064, 3987064, 3987064, 3987064, 3987064, 3987064, 3987064, 3987064, 3987064, 3987064, 3987064, 3987064, 3987064, 3987064, 3987064, 3987064, 3987064, 3987064, 3987064, 3987064, 3987064, 3987064, 3987064, 3987064, 3987064, 3987064, 3987064, 3987064, 3987064, 3987064, 3987064, 3987064, 3987064, 3987064, 3987064, 3987064, 3987064, 3987064, 3987064, 3987064, 3987064, 3987064, 3987064, 3987064, 3987064, 3987064, 3987064, 3987064, 3987064, 3987064, 3987064, 3987064, 3987064, 3987064, 3987064, 3987064, 3987064, 3987064, 3987064, 3987064, 3987064, 3987064, 3987064, 3987064, 3987064, 3987064, 3987064, 3987064, 3987064, 3987064, 3987064, 3987064, 3987064, 3987064, 3987064, 3987064, 3987064, 3987064, 3987064, 3987064, 3987064, 3987064, 3987064, 3987064, 3987064, 3987064, 3987064, 3987064, 3987064, 3987064, 3987064, 3987064, 3987064, 3987064, 3987064, 3987064, 3987064, 3987064, 3987064, 3987064, 3987064, 3987064, 3987064, 3987064, 3987064, 3987064, 3987064, 3987064, 3987064, 3987064, 3987064, 3987064, 3987064, 3987064, 3987064, 3987064, 3987064, 3987064, 3987064, 3987064, 3987064, 3987064, 3987064, 3987064, 3987064, 3987064, 3987064, 3987064, 3987064, 3987064, 3987064, 3987064, 3987064, 3987064, 3987064, 3987064, 3987064, 3987064, 3987064, 3987064, 3987064, 3987064, 3987064, 3987064, 3987064, 3987064, 3987064, 3987064, 3987064, 3987064, 3987064, 3987064, 3987064, 3987064, 3987064, 3987064, 3987064, 3987064, 3987064, 3987064, 3987064, 3987064, 3987064, 3987064, 3987064, 3987064, 3987064, 3987064, 3987064, 3987064, 3987064, 3987064, 3987064, 3987064, 3987064, 3987064, 3987064, 3987064, 3987064, 3987064, 3987064, 3987064, 3987064, 3987064, 3987064, 3987064, 3987064, 3987064, 3987064, 3987064, 3987064, 3987064, 3987064, 3987064, 3987064, 3987064, 3987064, 3987064, 3987064, 3987064, 3987064, 3987064, 3987064, 3987064, 3987064, 3987064, 3987064, 3987064, 3987064, 3987064, 3987064, 3987064, 3987064, 3987064, 3987064, 3987064, 3987064, 3987064, 3987064, 3987064, 3987064, 3987064, 3987064, 3987064, 3987064, 3987064, 3987064, 3987064, 3987064, 3987064, 3987064, 3987064, 3987064, 3987064, 3987064, 3987064, 3987064, 3987064, 3987064, 3987064, 3987064, 3987064, 3987064, 3987064, 3987064, 3987064, 3987064, 3987064, 3987064, 3987064, 3987064, 3987064, 3987064, 3987064, 3987064, 3987064, 3987064, 3987064, 3987064, 3987064, 3987064, 3987064, 3987064, 3987064, 3987064, 3987064, 3987064, 3987064, 3987064, 3987064, 3987064, 3987064, 3987064, 3987064, 3987064, 3987064, 3987064, 3987064, 3987064, 3987064, 3987064, 3987064, 3987064, 3987064, 3987064, 3987064, 3987064, 3987064, 3987064, 3987064, 3987064, 3987064, 3987064, 3987064, 3987064, 3987064, 3987064, 3987064, 3987064, 3987064, 3987064, 3987064, 3987064, 3987064, 3987064, 3987064, 3987064, 3987064, 3987064, 3987064, 3987064, 3987064, 3987064, 3987064, 3987064, 3987064, 3987064, 3987064, 3987064, 3987064, 3987064, 3987064, 3987064, 3987064, 3987064, 3987064, 3987064, 3987064, 3987064, 3987064, 3987064, 3987064, 3987064, 3987064, 3987064, 3987064, 3987064, 3987064, 3987064, 3987064, 3987064, 3987064, 3987064, 3987064, 3987064, 3987064, 3987064, 3987064, 3987064, 3987064, 3987064, 3987064, 3987064, 3987064, 3987064, 3987064, 3987064, 3987064, 3987064, 3987064, 3987064, 3987064, 3987064, 3987064, 3987064, 3987064, 3987064, 3987064, 3987064, 3987064, 3987064, 3987064, 3987064, 3987064, 3987064, 3987064, 3987064, 3987064, 3987064, 3987064, 3987064, 3987064, 3987064, 3987064, 3987064, 3987064, 3987064, 3987064, 3987064, 3987064, 3987064, 3987064, 3987064, 3987064, 3987064, 3987064, 3987064, 3987064, 3987064, 3987064, 3987064, 3987064, 3987064, 3987064, 3987064, 3987064, 3987064, 3987064, 3987064, 3987064, 3987064, 3987064, 3987064, 3987064, 3987064, 3987064, 3987064, 3987064, 3987064, 3987064, 3987064, 3987064, 3987064, 3987064, 3987064, 3987064, 3987064, 3987064, 3987064, 3987064, 3987064, 3987064, 3987064, 3987064, 3987064, 3987064, 3987064, 3987064, 3987064, 3987064, 3987064, 3987064, 3987064, 3987064, 3987064, 3987064, 3987064, 3987064, 3987064, 3987064, 3987064, 3987064, 3987064, 3987064, 3987064, 3987064, 3987064, 3987064, 3987064, 3987064, 3987064, 3987064, 3987064, 3987064, 3987064, 3987064, 3987064, 3987064, 3987064, 3987064, 3987064, 3987064, 3987064, 3987064, 3987064, 3987064, 3987064, 3987064, 3987064, 3987064, 3987064, 3987064, 3987064, 3987064, 3987064, 3987064, 3987064, 3987064, 3987064, 3987064, 3987064, 3987064, 3987064, 3987064, 3987064, 3987064, 3987064, 3987064, 3987064, 3987064, 3987064, 3987064, 3987064, 3987064, 3987064, 3987064, 3987064, 3987064, 3987064, 3987064, 3987064, 3987064, 3987064, 3987064, 3987064, 3987064, 3987064, 3987064, 3987064, 3987064, 3987064, 3987064, 3987064, 3987064, 3987064, 3987064, 3987064, 3987064, 3987064, 3987064, 3987064, 3987064, 3987064, 3987064, 3987064, 3987064, 3987064, 3987064, 3987064, 3987064, 3987064, 3987064, 3987064, 3987064, 3987064, 3987064, 3987064, 3987064, 3987064, 3987064, 3987064, 3987064, 3987064, 3987064, 3987064, 3987064, 3987064, 3987064, 3987064, 3987064, 3987064, 3987064, 3987064, 3987064, 3987064, 3987064, 3987064, 3987064, 3987064, 3987064, 3987064, 3987064, 3987064, 3987064, 3987064, 3987064, 3987064, 3987064, 3987064, 3987064, 3987064, 3987064, 3987064, 3987064, 3987064, 3987064, 3987064, 3987064, 3987064, 3987064, 3987064, 3987064, 3987064, 3987064, 3987064, 3987064, 3987064, 3987064, 3987064, 3987064, 3987064, 3987064, 3987064, 3987064, 3987064, 3987064, 3987064, 3987064, 3987064, 3987064, 3987064, 3987064, 3987064, 3987064, 3987064, 3987064, 3987064, 3987064, 3987064, 3987064, 3987064, 3987064, 3987064, 3987064, 3987064, 3987064, 3987064, 3987064, 3987064, 3987064, 3987064, 3987064, 3987064, 3987064, 3987064, 3987064, 3987064, 3987064, 3987064, 3987064, 3987064, 3987064, 3987064, 3987064, 3987064, 3987064, 3987064, 3987064, 3987064, 3987064, 3987064, 3987064, 3987064, 3987064, 3987064, 3987064, 3987064, 3987064, 3987064, 3987064, 3987064, 3987064, 3987064, 3987064, 3987064, 3987064, 3987064, 3987064, 3987064, 3987064, 3987064, 3987064, 3987064, 3987064, 3987064, 3987064, 3987064, 3987064, 3987064, 3987064, 3987064, 3987064, 3987064, 3987064, 3987064, 3987064, 3987064, 3987064, 3987064, 3987064, 3987064, 3987064, 3987064, 3987064, 3987064, 3987064, 3987064, 3987064, 3987064, 3987064, 3987064, 3987064, 3987064, 3987064, 3987064, 3987064, 3987064, 3987064, 3987064, 3987064, 3987064, 3987064, 3987064, 3987064, 3987064, 3987064, 3987064, 3987064, 3987064, 3987064, 3987064, 3987064, 3987064, 3987064, 3987064, 3987064, 3987064, 3987064, 3987064, 3987064, 3987064, 3987064, 3987064, 3987064, 3987064, 3987064, 3987064, 3987064, 3987064, 3987064, 3987064, 3987064, 3987064, 3987064, 3987064, 3987064, 3987064, 3987064, 3987064, 3987064, 3987064, 3987064, 3987064, 3987064, 3987064, 3987064, 3987064, 3987064, 3987064, 3987064, 3987064, 3987064, 3987064, 3987064, 3987064, 3987064, 3987064, 3987064, 3987064, 3987064, 3987064, 3987064, 3987064, 3987064, 3987064, 3987064, 3987064, 3987064, 3987064, 3987064, 3987064, 3987064, 3987064, 3987064, 3987064, 3987064, 3987064, 3987064, 3987064, 3987064, 3987064, 3987064, 3987064, 3987064, 3987064, 3987064, 3987064, 3987064, 3987064, 3987064, 3987064, 3987064, 3987064, 3987064, 3987064, 3987064, 3987064, 3987064, 3987064, 3987064, 3987064, 3987064, 3987064, 3987064, 3987064, 3987064, 3987064, 3987064, 3987064, 3987064, 3987064, 3987064, 3987064, 3987064, 3987064, 3987064, 3987064, 3987064, 3987064, 3987064, 3987064, 3987064, 3987064, 3987064, 3987064, 3987064, 3987064, 3987064, 3987064, 3987064, 3987064, 3987064, 3987064, 3987064, 3987064, 3987064, 3987064, 3987064, 3987064, 3987064, 3987064, 3987064, 3987064, 3987064, 3987064, 3987064, 3987064, 3987064, 3987064, 3987064, 3987064, 3987064, 3987064, 3987064, 3987064, 3987064, 3987064, 3987064, 3987064, 3987064, 3987064, 3987064], 'baijincdn': [4092115, 4092115, 4092115, 4092115, 4092115, 4092115, 4092115, 4092115, 4092115, 4092115, 4092115, 4092115, 4092115, 4092115, 4092115, 4092115, 4092115, 4092115, 4092115, 4092115, 4092115, 4092115, 4092115, 4092115, 4092115, 4092115, 4092115, 4092115, 4092115, 4092115, 4092115, 4092115, 4092115, 4092115, 4092115, 4092115, 4092115, 4092115, 4092115, 4092115, 4092115, 4092115, 4092115, 4092115, 4092115, 4092115, 4092115, 4092115, 4092115, 4092115, 4092115, 4092115, 4092115, 4092115, 4092115, 4092115, 4092115, 4092115, 4092115, 4092115, 4092115, 4092115, 4092115, 4092115, 4092115, 4092115, 4092115, 4092115, 4092115, 4092115, 4092115, 4092115, 4092115, 4092115, 4092115, 4092115, 4092115, 4092115, 4092115, 4092115, 4092115, 4092115, 4092115, 4092115, 4092115, 4092115, 4092115, 4092115, 4092115, 4092115, 4092115, 4092115, 4092115, 4092115, 4092115, 4092115, 4092115, 4092115, 4092115, 4092115, 4092115, 4092115, 4092115, 4092115, 4092115, 4092115, 4092115, 4092115, 4092115, 4092115, 4092115, 4092115, 4092115, 4092115, 4092115, 4092115], 'ourdvsss': [4092115, 4092115, 4092115, 4092115, 4092115, 4092115, 4092115, 4092115, 4092115, 4092115, 4092115, 4092115, 4092115], 'mediafire': [2862513], 'c4hcdn': [4092115, 4092115, 4092115, 4092115]})\n",
            "{'': 2, 'rbxcdn': 1, 'reimage': 1, 'baijincdn': 1, 'ourdvsss': 1, 'mediafire': 1, 'c4hcdn': 1}\n"
          ],
          "name": "stdout"
        }
      ]
    },
    {
      "cell_type": "markdown",
      "metadata": {
        "id": "yM2OD-rg4M0V",
        "colab_type": "text"
      },
      "source": [
        "### **Conclusion:**\n",
        "The claim has derived from the division to clean and malicious, thus\n",
        "the claim couldn't be fortified."
      ]
    },
    {
      "cell_type": "markdown",
      "metadata": {
        "id": "Xs6Mxks43QvJ",
        "colab_type": "text"
      },
      "source": [
        "### **Claim:**\n",
        "We claim that there are frequent suffixes in the malicious files. "
      ]
    },
    {
      "cell_type": "code",
      "metadata": {
        "id": "6iTzSXLF0Y_U",
        "colab_type": "code",
        "colab": {
          "base_uri": "https://localhost:8080/",
          "height": 207
        },
        "outputId": "beea433f-efb8-4faf-fae4-369ba5c7d871"
      },
      "source": [
        "file_names_suffix_counter_mal, file_names_suffix_counter_mal_percent = check_suffix_of_files_dist(train_df_mal_400_thresh)\n",
        "file_names_suffix_counter_clean, file_names_suffix_counter_clean_percent = check_suffix_of_files_dist(train_df_clean_400_thresh)\n",
        "print(\"-----------------------------\")\n",
        "print(file_names_suffix_counter_mal)\n",
        "print(file_names_suffix_counter_mal_percent)\n",
        "print(\"-----------------------------\")\n",
        "print(file_names_suffix_counter_clean)\n",
        "print(file_names_suffix_counter_clean_percent)"
      ],
      "execution_count": 50,
      "outputs": [
        {
          "output_type": "stream",
          "text": [
            "57265\n",
            "(57265, 43)\n",
            "3605\n",
            "(3605, 43)\n",
            "-----------------------------\n",
            "Counter({'exe': 36274, 'zip': 8009, 'rar': 6350, '7z': 1211, 'themepack': 1082, 'cab': 611, 'dll': 571, 'js': 454, 'iso': 453, 'diagcab': 348, 'msi': 301, 'jar': 252, 'EXE': 222, 'apk': 218, 'deskthemepack': 137, 'hta': 125, 'xpi': 48, 'tar': 47, 'pdf': 42, 'jpg': 42, 'ipa': 39, 'ZIPd': 38, 'cmd': 30, 'gz': 29, 'htm': 24, 'CAB': 21, 'vbs': 18, 'lzh': 17, 'ZIP': 15, 'md5': 14, 'vsix': 13, 'txt': 12, 'JPG': 11, 'imf': 11, 'scr': 9, 'asi': 9, 'xls': 8, 'vbox-extpack': 7, 'tmp': 7, 'tgz': 6, 'DLL': 6, 'ISO': 6, '婵€娲诲伐鍏_rar': 6, 'MSI': 5, 'bc!': 5, 'r03': 5, 'RAR': 5, 'bz2': 5, 'rbz': 4, 'gadget': 4, 'chm': 4, 'rmskin': 4, 'aspx': 4, 'bin': 3, 'DriverDownloader': 3, 'docx': 3, 'mmip': 3, 'html': 3, 'mlc': 2, 'LZH': 2, 'xlsm': 2, 'com': 2, 'noname': 2, 'ax': 2, 'jpeg': 2, 'Exe': 2, 'msu': 2, '7Z': 2, 'p7s': 2, 'xlsx': 2, 'uue': 1, 'Untitled': 1, 'rhi': 1, 'download': 1, 'MOV': 1, 'vdf': 1, '001': 1, 'ppam': 1, 'nupkg': 1, 'appxbundle': 1, 'air': 1, 'adguardInstaller': 1, 'Winrar': 1, 'file': 1, 'doc': 1, 'solitairetheme8': 1, 'Msi': 1, 'zxp': 1, 'appx': 1, 'office 2016婵€娲诲伐鍏_zip': 1, 'efi': 1, 'Cab': 1, 'php': 1, 'HPPSdr': 1, 'pbiviz': 1, 'imc': 1, 'PDF': 1, 'ics': 1})\n",
            "{'exe': 63.34410198201345, 'zip': 13.985855234436393, 'rar': 11.088797694927093, '7z': 2.114729765127041, 'themepack': 1.8894612765214356, 'cab': 1.0669693530079456, 'dll': 0.9971186588666725, 'js': 0.7928053785034488, 'iso': 0.7910591111499171, 'diagcab': 0.6077010390290754, 'msi': 0.5256264734130796, 'jar': 0.4400593730900201, 'EXE': 0.3876713524840653, 'apk': 0.380686283069938, 'deskthemepack': 0.23923862743386012, 'hta': 0.2182834191914782, 'xpi': 0.08382083296952764, 'tar': 0.08207456561599581, 'pdf': 0.07334322884833668, 'jpg': 0.07334322884833668, 'ipa': 0.0681044267877412, 'ZIPd': 0.06635815943420938, 'cmd': 0.052388020605954766, 'gz': 0.05064175325242295, 'htm': 0.04191041648476382, 'CAB': 0.03667161442416834, 'vbs': 0.031432812363572864, 'lzh': 0.02968654501004104, 'ZIP': 0.026194010302977383, 'md5': 0.024447742949445562, 'vsix': 0.022701475595913734, 'txt': 0.02095520824238191, 'JPG': 0.01920894088885008, 'imf': 0.01920894088885008, 'scr': 0.015716406181786432, 'asi': 0.015716406181786432, 'xls': 0.013970138828254606, 'vbox-extpack': 0.012223871474722781, 'tmp': 0.012223871474722781, 'tgz': 0.010477604121190955, 'DLL': 0.010477604121190955, 'ISO': 0.010477604121190955, '婵€娲诲伐鍏_rar': 0.010477604121190955, 'MSI': 0.008731336767659128, 'bc!': 0.008731336767659128, 'r03': 0.008731336767659128, 'RAR': 0.008731336767659128, 'bz2': 0.008731336767659128, 'rbz': 0.006985069414127303, 'gadget': 0.006985069414127303, 'chm': 0.006985069414127303, 'rmskin': 0.006985069414127303, 'aspx': 0.006985069414127303, 'bin': 0.005238802060595477, 'DriverDownloader': 0.005238802060595477, 'docx': 0.005238802060595477, 'mmip': 0.005238802060595477, 'html': 0.005238802060595477, 'mlc': 0.0034925347070636514, 'LZH': 0.0034925347070636514, 'xlsm': 0.0034925347070636514, 'com': 0.0034925347070636514, 'noname': 0.0034925347070636514, 'ax': 0.0034925347070636514, 'jpeg': 0.0034925347070636514, 'Exe': 0.0034925347070636514, 'msu': 0.0034925347070636514, '7Z': 0.0034925347070636514, 'p7s': 0.0034925347070636514, 'xlsx': 0.0034925347070636514, 'uue': 0.0017462673535318257, 'Untitled': 0.0017462673535318257, 'rhi': 0.0017462673535318257, 'download': 0.0017462673535318257, 'MOV': 0.0017462673535318257, 'vdf': 0.0017462673535318257, '001': 0.0017462673535318257, 'ppam': 0.0017462673535318257, 'nupkg': 0.0017462673535318257, 'appxbundle': 0.0017462673535318257, 'air': 0.0017462673535318257, 'adguardInstaller': 0.0017462673535318257, 'Winrar': 0.0017462673535318257, 'file': 0.0017462673535318257, 'doc': 0.0017462673535318257, 'solitairetheme8': 0.0017462673535318257, 'Msi': 0.0017462673535318257, 'zxp': 0.0017462673535318257, 'appx': 0.0017462673535318257, 'office 2016婵€娲诲伐鍏_zip': 0.0017462673535318257, 'efi': 0.0017462673535318257, 'Cab': 0.0017462673535318257, 'php': 0.0017462673535318257, 'HPPSdr': 0.0017462673535318257, 'pbiviz': 0.0017462673535318257, 'imc': 0.0017462673535318257, 'PDF': 0.0017462673535318257, 'ics': 0.0017462673535318257}\n",
            "-----------------------------\n",
            "Counter({'exe': 2131, 'rar': 695, '婵€娲诲伐鍏_rar': 429, 'txt': 350})\n",
            "{'exe': 59.1123439667129, 'rar': 19.27877947295423, '婵€娲诲伐鍏_rar': 11.900138696255201, 'txt': 9.70873786407767}\n"
          ],
          "name": "stdout"
        }
      ]
    },
    {
      "cell_type": "markdown",
      "metadata": {
        "id": "D71wzkLg3y0_",
        "colab_type": "text"
      },
      "source": [
        "### **Conclusion:**\n",
        "The suffix 'exe' is very frequent in malicious files and therefore the 3-gram choice is the right one in order to capture that 3-gram.\n",
        "In addition, 'zip' is very frequent in the malicious dataframe with ~14% of the files in the data-frame having 'zip' as suffix in contrast to the clean files which have 0%."
      ]
    },
    {
      "cell_type": "markdown",
      "metadata": {
        "id": "zGAeWKtO3fFv",
        "colab_type": "text"
      },
      "source": [
        "### **Claim:**\n",
        "We claimed before that sometimes the domain (the network itself) might be non-suspicious, but a machine through this domain (the hostname) can produce a lot of malicious files."
      ]
    },
    {
      "cell_type": "code",
      "metadata": {
        "id": "KQ06se475gT9",
        "colab_type": "code",
        "colab": {
          "base_uri": "https://localhost:8080/",
          "height": 289
        },
        "outputId": "69600515-a8bc-461f-ab67-9116a51a78e0"
      },
      "source": [
        "train_df_mal_400_thresh.WebFileUrlHostname.value_counts()[:15]"
      ],
      "execution_count": 51,
      "outputs": [
        {
          "output_type": "execute_result",
          "data": {
            "text/plain": [
              "canonicalizer.ucsuri.tcs         4465\n",
              "download.microsoft.com           1608\n",
              "www.chip.de                       799\n",
              "github-cloud.s3.amazonaws.com     701\n",
              "www.towerbitscenter.com           452\n",
              "www.solvusoft.com                 450\n",
              "cdnrep.reimage.com                441\n",
              "www.conecptmegacenter.com         437\n",
              "downloadmirror.intel.com          427\n",
              "ftp.hp.com                        401\n",
              "subsunacs.net                     394\n",
              "download.ap.bittorrent.com        388\n",
              "download.fosshub.com              382\n",
              "www.sorubak.com                   352\n",
              "filedelivery.nexusmods.com        327\n",
              "Name: WebFileUrlHostname, dtype: int64"
            ]
          },
          "metadata": {
            "tags": []
          },
          "execution_count": 51
        }
      ]
    },
    {
      "cell_type": "markdown",
      "metadata": {
        "id": "USieZieSt3mr",
        "colab_type": "text"
      },
      "source": [
        "### **Conclusion:**\n",
        "By examining the malicious data-frame we can see few domains that are very popular, such as 'microsoft' and 'amazonaws', but those files are tagged as malicious, therefore we are strengthing our claim that attackers might hide behind those machines on very popular domains."
      ]
    },
    {
      "cell_type": "markdown",
      "metadata": {
        "id": "6zGgbIjy6spY",
        "colab_type": "text"
      },
      "source": [
        "As we know, the sha1 is hash function working on the content of the file,\n",
        "so here is the histogram in order to see which files are the most frequent (maybe with different names with the same sha1) in the dataset reports."
      ]
    },
    {
      "cell_type": "markdown",
      "metadata": {
        "id": "KKtfglEH9rMz",
        "colab_type": "text"
      },
      "source": [
        "### **Claim:**\n",
        "We claim that there are file-names that are naturally suspicious,\n",
        "for example, torrents, setups, drivers, etc."
      ]
    },
    {
      "cell_type": "code",
      "metadata": {
        "id": "incrde6w-c0T",
        "colab_type": "code",
        "colab": {
          "base_uri": "https://localhost:8080/",
          "height": 289
        },
        "outputId": "2fc6faed-a743-4f4e-a159-ea78543af064"
      },
      "source": [
        "train_df_mal_400_thresh.FileNameID.apply(pipeline_for_filename).value_counts()[:15]"
      ],
      "execution_count": 52,
      "outputs": [
        {
          "output_type": "execute_result",
          "data": {
            "text/plain": [
              "setupexe                                964\n",
              "utorrentexe                             641\n",
              "reimagerepairexe                        440\n",
              "adobeflashsetupexe                      423\n",
              "idmanbuildexe                           414\n",
              "inteldriverupdateutilityinstallerexe    385\n",
              "vcredistxexe                            338\n",
              "cheatengineexe                          316\n",
              "rapidfilesidzip                         289\n",
              "flashplayerproexe                       287\n",
              "hpeasystartexe                          254\n",
              "setupdriverdocexe                       243\n",
              "chromesetupexe                          236\n",
              "qbittorrentsetupexe                     222\n",
              "yandexexe                               210\n",
              "Name: FileNameID, dtype: int64"
            ]
          },
          "metadata": {
            "tags": []
          },
          "execution_count": 52
        }
      ]
    },
    {
      "cell_type": "markdown",
      "metadata": {
        "id": "SHbG2Nqk_ijI",
        "colab_type": "text"
      },
      "source": [
        "### **Conclusion:**\n",
        "As we said above, by producing the file-names value_counts list of the malicious data-frame,\n",
        "we can see that file names containing the word 'setup' and also 'driver' are very frequent."
      ]
    },
    {
      "cell_type": "markdown",
      "metadata": {
        "id": "tEaMX44U7QMm",
        "colab_type": "text"
      },
      "source": [
        "## **Explain of one-hot encoding and tf-idf:**"
      ]
    },
    {
      "cell_type": "markdown",
      "metadata": {
        "id": "N9KpoxHWezCD",
        "colab_type": "text"
      },
      "source": [
        "1)This is sparta\n",
        "2)This is garta\n",
        "3)This marta\n",
        "\n",
        "D1 - Cow , The\n",
        "D2 - Dog, is, no\n",
        "TF - Term Frequency.  -----> 1000\n",
        "IDF - Inverse Document Frequency ---> 3 --> inverse \n",
        "\n",
        "Vocab - Document\n",
        "\n",
        "\n",
        "cow ---> 0-1 ----> This - 0.01 , Cow - 0.99\n",
        "\n",
        "Thi, his, isi, sis, iss, ssp, spa, part, art, rta\n",
        "\n",
        "bsplayer_free.exe\n",
        "bsplayer_pro270.1080.exe\n",
        "\n",
        "BoW -----> Tokenize ----> \"This is sparta\" -> This, is, Sparta. 200,000 -> [...]\n",
        "\n",
        "\n",
        "100 -> [.....] onehot vector ---> 100 [0, 1,0 ,1...] "
      ]
    },
    {
      "cell_type": "markdown",
      "metadata": {
        "id": "Fu5syl0hF51a",
        "colab_type": "text"
      },
      "source": [
        ""
      ]
    },
    {
      "cell_type": "markdown",
      "metadata": {
        "id": "_jN9sTRy_pJ9",
        "colab_type": "text"
      },
      "source": [
        "# **Global Features Extraction**"
      ]
    },
    {
      "cell_type": "markdown",
      "metadata": {
        "id": "LVi2eGnoCrEo",
        "colab_type": "text"
      },
      "source": [
        "**Examination of ThreatFamilyID feature:**\n",
        "\n"
      ]
    },
    {
      "cell_type": "code",
      "metadata": {
        "id": "RMcvVHfXBViD",
        "colab_type": "code",
        "colab": {
          "base_uri": "https://localhost:8080/",
          "height": 285
        },
        "outputId": "c501097a-5725-4443-f81c-9643ebfa942d"
      },
      "source": [
        "train_df_clean.ThreatFamilyID.hist(bins=50)\n"
      ],
      "execution_count": 53,
      "outputs": [
        {
          "output_type": "execute_result",
          "data": {
            "text/plain": [
              "<matplotlib.axes._subplots.AxesSubplot at 0x7fb9f2c5c438>"
            ]
          },
          "metadata": {
            "tags": []
          },
          "execution_count": 53
        },
        {
          "output_type": "display_data",
          "data": {
            "image/png": "[encoded data removed]",
            "text/plain": [
              "<Figure size 432x288 with 1 Axes>"
            ]
          },
          "metadata": {
            "tags": [],
            "needs_background": "light"
          }
        }
      ]
    },
    {
      "cell_type": "code",
      "metadata": {
        "id": "ZwNdlLc5CPX1",
        "colab_type": "code",
        "colab": {
          "base_uri": "https://localhost:8080/",
          "height": 282
        },
        "outputId": "7a26610c-caff-479a-b5c1-3f6c69206e24"
      },
      "source": [
        "train_df_mal.ThreatFamilyID.hist(bins=50)"
      ],
      "execution_count": 54,
      "outputs": [
        {
          "output_type": "execute_result",
          "data": {
            "text/plain": [
              "<matplotlib.axes._subplots.AxesSubplot at 0x7fb9f2c5ce10>"
            ]
          },
          "metadata": {
            "tags": []
          },
          "execution_count": 54
        },
        {
          "output_type": "display_data",
          "data": {
            "image/png": "[encoded data removed]",
            "text/plain": [
              "<Figure size 432x288 with 1 Axes>"
            ]
          },
          "metadata": {
            "tags": [],
            "needs_background": "light"
          }
        }
      ]
    },
    {
      "cell_type": "markdown",
      "metadata": {
        "id": "ortdjSriCos7",
        "colab_type": "text"
      },
      "source": [
        "- As we can see in the graphs, most of the malicious tagged entries has ThreatFamilyID that is bigger than 2700.\n",
        "Thus, we wanted to see the distribution of the sha1ID that their ThreatFamilyID\n",
        "is bigger than 2700 and tagged as clean."
      ]
    },
    {
      "cell_type": "code",
      "metadata": {
        "id": "ll8pLMsa_2fb",
        "colab_type": "code",
        "colab": {
          "base_uri": "https://localhost:8080/",
          "height": 295
        },
        "outputId": "9a0cd1c2-9528-4022-85f0-5878c64f9d5b"
      },
      "source": [
        "df_of_27xx = train_df_clean[train_df_clean.ThreatFamilyID > 2700]\n",
        "df_of_27xx.Sha1ID.hist(bins=100)"
      ],
      "execution_count": 55,
      "outputs": [
        {
          "output_type": "execute_result",
          "data": {
            "text/plain": [
              "<matplotlib.axes._subplots.AxesSubplot at 0x7fb9f2743a20>"
            ]
          },
          "metadata": {
            "tags": []
          },
          "execution_count": 55
        },
        {
          "output_type": "display_data",
          "data": {
            "image/png": "[encoded data removed]",
            "text/plain": [
              "<Figure size 432x288 with 1 Axes>"
            ]
          },
          "metadata": {
            "tags": [],
            "needs_background": "light"
          }
        }
      ]
    },
    {
      "cell_type": "markdown",
      "metadata": {
        "id": "akqcafOmDLGK",
        "colab_type": "text"
      },
      "source": [
        "As we can see, most of the files that has ThreatFamilyID > 2700 appear in the dataset with sha1ID between 100-400 (excluding extreme values)\n",
        "We claim that:\n",
        "- Our threshold is lower, thus there might be some files that are labeled as clean instead of malicious.\n",
        "\n",
        "**Lets examine this claim after increasing the threshold to 400:**"
      ]
    },
    {
      "cell_type": "code",
      "metadata": {
        "id": "smbNQ9XlEYYV",
        "colab_type": "code",
        "colab": {
          "base_uri": "https://localhost:8080/",
          "height": 282
        },
        "outputId": "2edbc016-d581-4384-cad8-195e29cdcd6e"
      },
      "source": [
        "train_df_clean_400_thresh.ThreatFamilyID.hist(bins=50)"
      ],
      "execution_count": 56,
      "outputs": [
        {
          "output_type": "execute_result",
          "data": {
            "text/plain": [
              "<matplotlib.axes._subplots.AxesSubplot at 0x7fb9f2d9ffd0>"
            ]
          },
          "metadata": {
            "tags": []
          },
          "execution_count": 56
        },
        {
          "output_type": "display_data",
          "data": {
            "image/png": "[encoded data removed]",
            "text/plain": [
              "<Figure size 432x288 with 1 Axes>"
            ]
          },
          "metadata": {
            "tags": [],
            "needs_background": "light"
          }
        }
      ]
    },
    {
      "cell_type": "code",
      "metadata": {
        "id": "o9rzV2wMEdJL",
        "colab_type": "code",
        "colab": {
          "base_uri": "https://localhost:8080/",
          "height": 282
        },
        "outputId": "dd27e779-95d1-45ee-a742-daa4d62186c5"
      },
      "source": [
        "train_df_mal_400_thresh.ThreatFamilyID.hist(bins=50)"
      ],
      "execution_count": 57,
      "outputs": [
        {
          "output_type": "execute_result",
          "data": {
            "text/plain": [
              "<matplotlib.axes._subplots.AxesSubplot at 0x7fb9f2e2b160>"
            ]
          },
          "metadata": {
            "tags": []
          },
          "execution_count": 57
        },
        {
          "output_type": "display_data",
          "data": {
            "image/png": "[encoded data removed]",
            "text/plain": [
              "<Figure size 432x288 with 1 Axes>"
            ]
          },
          "metadata": {
            "tags": [],
            "needs_background": "light"
          }
        }
      ]
    },
    {
      "cell_type": "markdown",
      "metadata": {
        "id": "hV2LjGKHE0oo",
        "colab_type": "text"
      },
      "source": [
        "We can see that almost all of the malicious files (above 50K) belongs to the ThreatFamilyID that is bigger than 2700.\n",
        "Even though there are still 2000+ files tagged as clean and they belong to the ThreatFamilyID that is bigger than 2700, this might be a good feature overall."
      ]
    },
    {
      "cell_type": "markdown",
      "metadata": {
        "id": "cA0FWlUUGPWd",
        "colab_type": "text"
      },
      "source": [
        "**Examination of ThreatNameID feature:**"
      ]
    },
    {
      "cell_type": "code",
      "metadata": {
        "id": "CgMSFXFaFgQP",
        "colab_type": "code",
        "colab": {
          "base_uri": "https://localhost:8080/",
          "height": 285
        },
        "outputId": "f667e93b-811a-462c-f54e-aff091d9be40"
      },
      "source": [
        "train_df_clean.ThreatNameID.hist()"
      ],
      "execution_count": 58,
      "outputs": [
        {
          "output_type": "execute_result",
          "data": {
            "text/plain": [
              "<matplotlib.axes._subplots.AxesSubplot at 0x7fb9f2c18208>"
            ]
          },
          "metadata": {
            "tags": []
          },
          "execution_count": 58
        },
        {
          "output_type": "display_data",
          "data": {
            "image/png": "[encoded data removed]",
            "text/plain": [
              "<Figure size 432x288 with 1 Axes>"
            ]
          },
          "metadata": {
            "tags": [],
            "needs_background": "light"
          }
        }
      ]
    },
    {
      "cell_type": "code",
      "metadata": {
        "id": "pE1VaMeKFjSm",
        "colab_type": "code",
        "colab": {
          "base_uri": "https://localhost:8080/",
          "height": 282
        },
        "outputId": "36401f93-13a9-4615-a397-e590f071d857"
      },
      "source": [
        "train_df_mal.ThreatNameID.hist()"
      ],
      "execution_count": 59,
      "outputs": [
        {
          "output_type": "execute_result",
          "data": {
            "text/plain": [
              "<matplotlib.axes._subplots.AxesSubplot at 0x7fb9f2f438d0>"
            ]
          },
          "metadata": {
            "tags": []
          },
          "execution_count": 59
        },
        {
          "output_type": "display_data",
          "data": {
            "image/png": "[encoded data removed]",
            "text/plain": [
              "<Figure size 432x288 with 1 Axes>"
            ]
          },
          "metadata": {
            "tags": [],
            "needs_background": "light"
          }
        }
      ]
    },
    {
      "cell_type": "code",
      "metadata": {
        "id": "qIuImxSCF2DB",
        "colab_type": "code",
        "colab": {
          "base_uri": "https://localhost:8080/",
          "height": 295
        },
        "outputId": "3020b440-eb64-4a86-8ea5-7cbbf24fc4aa"
      },
      "source": [
        "df_of_tn = train_df_clean[train_df_clean.ThreatNameID > 5000]\n",
        "df_of_tn.Sha1ID.hist(bins=100)"
      ],
      "execution_count": 60,
      "outputs": [
        {
          "output_type": "execute_result",
          "data": {
            "text/plain": [
              "<matplotlib.axes._subplots.AxesSubplot at 0x7fb9f220d3c8>"
            ]
          },
          "metadata": {
            "tags": []
          },
          "execution_count": 60
        },
        {
          "output_type": "display_data",
          "data": {
            "image/png": "[encoded data removed]",
            "text/plain": [
              "<Figure size 432x288 with 1 Axes>"
            ]
          },
          "metadata": {
            "tags": [],
            "needs_background": "light"
          }
        }
      ]
    },
    {
      "cell_type": "code",
      "metadata": {
        "id": "dg6krXzBFpyh",
        "colab_type": "code",
        "colab": {
          "base_uri": "https://localhost:8080/",
          "height": 282
        },
        "outputId": "d19949fb-ed70-4b11-f45f-24c1d765c3b2"
      },
      "source": [
        "train_df_clean_400_thresh.ThreatNameID.hist()"
      ],
      "execution_count": 61,
      "outputs": [
        {
          "output_type": "execute_result",
          "data": {
            "text/plain": [
              "<matplotlib.axes._subplots.AxesSubplot at 0x7fb9f2b88da0>"
            ]
          },
          "metadata": {
            "tags": []
          },
          "execution_count": 61
        },
        {
          "output_type": "display_data",
          "data": {
            "image/png": "[encoded data removed]",
            "text/plain": [
              "<Figure size 432x288 with 1 Axes>"
            ]
          },
          "metadata": {
            "tags": [],
            "needs_background": "light"
          }
        }
      ]
    },
    {
      "cell_type": "code",
      "metadata": {
        "id": "InXBxkL-Fvdu",
        "colab_type": "code",
        "colab": {
          "base_uri": "https://localhost:8080/",
          "height": 282
        },
        "outputId": "6a9db387-ecb3-48fd-ec57-c3f4099eb933"
      },
      "source": [
        "train_df_mal_400_thresh.ThreatNameID.hist()"
      ],
      "execution_count": 62,
      "outputs": [
        {
          "output_type": "execute_result",
          "data": {
            "text/plain": [
              "<matplotlib.axes._subplots.AxesSubplot at 0x7fb9f2b3acf8>"
            ]
          },
          "metadata": {
            "tags": []
          },
          "execution_count": 62
        },
        {
          "output_type": "display_data",
          "data": {
            "image/png": "[encoded data removed]",
            "text/plain": [
              "<Figure size 432x288 with 1 Axes>"
            ]
          },
          "metadata": {
            "tags": [],
            "needs_background": "light"
          }
        }
      ]
    },
    {
      "cell_type": "markdown",
      "metadata": {
        "id": "HP3Qy21CGZbJ",
        "colab_type": "text"
      },
      "source": [
        "##***Conclusion :*** \n",
        "The examination of ThreatNameID and ThreatFamilyID has shown us that increasing the threshold to 400, might lead to better results."
      ]
    },
    {
      "cell_type": "markdown",
      "metadata": {
        "id": "A6lEip7sIyVh",
        "colab_type": "text"
      },
      "source": [
        "**Examination of Size feature:**\n"
      ]
    },
    {
      "cell_type": "code",
      "metadata": {
        "id": "LbE8W80HIRgj",
        "colab_type": "code",
        "colab": {
          "base_uri": "https://localhost:8080/",
          "height": 295
        },
        "outputId": "1644bb74-a211-4805-9988-1903c504fa07"
      },
      "source": [
        "train_df_clean_400_thresh.Size.hist()"
      ],
      "execution_count": 63,
      "outputs": [
        {
          "output_type": "execute_result",
          "data": {
            "text/plain": [
              "<matplotlib.axes._subplots.AxesSubplot at 0x7fb9f2ad98d0>"
            ]
          },
          "metadata": {
            "tags": []
          },
          "execution_count": 63
        },
        {
          "output_type": "display_data",
          "data": {
            "image/png": "[encoded data removed]",
            "text/plain": [
              "<Figure size 432x288 with 1 Axes>"
            ]
          },
          "metadata": {
            "tags": [],
            "needs_background": "light"
          }
        }
      ]
    },
    {
      "cell_type": "code",
      "metadata": {
        "id": "V6YPYRhhIVsA",
        "colab_type": "code",
        "colab": {
          "base_uri": "https://localhost:8080/",
          "height": 295
        },
        "outputId": "9c36e775-cbd7-4221-9306-e799b3e578c6"
      },
      "source": [
        "train_df_mal_400_thresh.Size.hist()"
      ],
      "execution_count": 64,
      "outputs": [
        {
          "output_type": "execute_result",
          "data": {
            "text/plain": [
              "<matplotlib.axes._subplots.AxesSubplot at 0x7fb9f2afb4e0>"
            ]
          },
          "metadata": {
            "tags": []
          },
          "execution_count": 64
        },
        {
          "output_type": "display_data",
          "data": {
            "image/png": "[encoded data removed]",
            "text/plain": [
              "<Figure size 432x288 with 1 Axes>"
            ]
          },
          "metadata": {
            "tags": [],
            "needs_background": "light"
          }
        }
      ]
    },
    {
      "cell_type": "markdown",
      "metadata": {
        "id": "4YFLyYk-KCEG",
        "colab_type": "text"
      },
      "source": [
        "## **Conclusion:**\n",
        "Most of the tagged malicious files in the dataset are bigger than the clean. (Assuming threshold 400)\n",
        "Thus, allowing us to use this as a global feature. "
      ]
    },
    {
      "cell_type": "markdown",
      "metadata": {
        "id": "HGzlfG5hyR8R",
        "colab_type": "text"
      },
      "source": [
        "# **Machine learning**\n"
      ]
    },
    {
      "cell_type": "markdown",
      "metadata": {
        "id": "YLii9y_XyYON",
        "colab_type": "text"
      },
      "source": [
        "### **Training part:**"
      ]
    },
    {
      "cell_type": "code",
      "metadata": {
        "id": "PHmPtqLP1nW1",
        "colab_type": "code",
        "colab": {
          "base_uri": "https://localhost:8080/",
          "height": 442
        },
        "outputId": "22e518ad-6915-4319-85c5-e04d97443538"
      },
      "source": [
        "_,X_train_one_hot,X_train_tf_idf,tfidf_vecs,onehot_vecs = generate_text_features_matrices(train)"
      ],
      "execution_count": 65,
      "outputs": [
        {
          "output_type": "stream",
          "text": [
            "------\n",
            "['aaa', 'aab', 'aac', 'aad', 'aae']\n",
            "------\n",
            "['000', '001', '002', '00m', '00t']\n",
            "------\n",
            "['000', '001', '002', '003', '004']\n",
            "Shapes:\n",
            "one_hot_mat_for_file_name: (60870, 12387)\n",
            "one_hot_mat_for_domain: (60870, 6733)\n",
            "one_hot_mat_for_hostname: (60870, 13080)\n",
            "------\n",
            "['aaa', 'aab', 'aac', 'aad', 'aae']\n",
            "------\n",
            "['000', '001', '002', '00m', '00t']\n",
            "------\n",
            "['000', '001', '002', '003', '004']\n",
            "--------\n",
            "Shapes:\n",
            "tfidf_mat_for_file_name: (60870, 12387)\n",
            "tfidf_mat_for_domain: (60870, 6733)\n",
            "tfidf_mat_for_hostname: (60870, 13080)\n",
            "--------\n",
            "Total shapes:\n",
            "one_hot_mat_text_features: (60870, 32200)\n",
            "tfidf_mat_text_features: (60870, 32200)\n"
          ],
          "name": "stdout"
        }
      ]
    },
    {
      "cell_type": "code",
      "metadata": {
        "id": "5o0glO75AocQ",
        "colab_type": "code",
        "colab": {
          "base_uri": "https://localhost:8080/",
          "height": 425
        },
        "outputId": "d3dcec95-a83e-42e2-c03b-93f18f4dd96b"
      },
      "source": [
        ""
      ],
      "execution_count": 110,
      "outputs": [
        {
          "output_type": "execute_result",
          "data": {
            "text/plain": [
              "{'dn': CountVectorizer(analyzer='char', binary=False, decode_error='strict',\n",
              "                 dtype=<class 'numpy.int64'>, encoding='utf-8', input='content',\n",
              "                 lowercase=True, max_df=1.0, max_features=None, min_df=1,\n",
              "                 ngram_range=(3, 3),\n",
              "                 preprocessor=<function pipeline_for_domain at 0x7fb9ff8c9c80>,\n",
              "                 stop_words=None, strip_accents=None,\n",
              "                 token_pattern='(?u)\\\\b\\\\w\\\\w+\\\\b', tokenizer=None,\n",
              "                 vocabulary=None),\n",
              " 'fn': CountVectorizer(analyzer='char', binary=False, decode_error='strict',\n",
              "                 dtype=<class 'numpy.int64'>, encoding='utf-8', input='content',\n",
              "                 lowercase=True, max_df=1.0, max_features=None, min_df=1,\n",
              "                 ngram_range=(3, 3),\n",
              "                 preprocessor=<function pipeline_for_filename at 0x7fb9ff8d6048>,\n",
              "                 stop_words=None, strip_accents=None,\n",
              "                 token_pattern='(?u)\\\\b\\\\w\\\\w+\\\\b', tokenizer=None,\n",
              "                 vocabulary=None),\n",
              " 'hn': CountVectorizer(analyzer='char', binary=False, decode_error='strict',\n",
              "                 dtype=<class 'numpy.int64'>, encoding='utf-8', input='content',\n",
              "                 lowercase=True, max_df=1.0, max_features=None, min_df=1,\n",
              "                 ngram_range=(3, 3),\n",
              "                 preprocessor=<function pipeline_for_hostname at 0x7fb9ff8c9d08>,\n",
              "                 stop_words=None, strip_accents=None,\n",
              "                 token_pattern='(?u)\\\\b\\\\w\\\\w+\\\\b', tokenizer=None,\n",
              "                 vocabulary=None)}"
            ]
          },
          "metadata": {
            "tags": []
          },
          "execution_count": 110
        }
      ]
    },
    {
      "cell_type": "code",
      "metadata": {
        "id": "q1wBNJYS3vla",
        "colab_type": "code",
        "colab": {
          "base_uri": "https://localhost:8080/",
          "height": 34
        },
        "outputId": "907a5d4a-2ed8-48d6-fa58-63edac232ef0"
      },
      "source": [
        "type(X_train_one_hot)"
      ],
      "execution_count": 66,
      "outputs": [
        {
          "output_type": "execute_result",
          "data": {
            "text/plain": [
              "scipy.sparse.coo.coo_matrix"
            ]
          },
          "metadata": {
            "tags": []
          },
          "execution_count": 66
        }
      ]
    },
    {
      "cell_type": "code",
      "metadata": {
        "id": "v83H_ctH2Xf2",
        "colab_type": "code",
        "colab": {
          "base_uri": "https://localhost:8080/",
          "height": 85
        },
        "outputId": "1acb5d3a-737a-461c-ede0-b1dabda7c596"
      },
      "source": [
        "vec_for_threat_name = coo_matrix(extract_normalize_feature(train,\"ThreatNameID\")).reshape(-1,1)\n",
        "vec_for_threat_family = coo_matrix(extract_normalize_feature(train,\"ThreatFamilyID\")).reshape(-1,1)\n",
        "vec_for_size = coo_matrix(extract_normalize_feature(train,\"Size\")).reshape(-1,1)\n",
        "print(\"Shapes:\")\n",
        "print(\"Threat-name : {}\".format(vec_for_threat_name.shape))\n",
        "print(\"Threat-family : {}\".format(vec_for_threat_family.shape))\n",
        "print(\"Size : {}\".format(vec_for_size.shape))"
      ],
      "execution_count": 67,
      "outputs": [
        {
          "output_type": "stream",
          "text": [
            "Shapes:\n",
            "Threat-name : (60870, 1)\n",
            "Threat-family : (60870, 1)\n",
            "Size : (60870, 1)\n"
          ],
          "name": "stdout"
        }
      ]
    },
    {
      "cell_type": "code",
      "metadata": {
        "id": "Sxkc7rX-3TzN",
        "colab_type": "code",
        "colab": {
          "base_uri": "https://localhost:8080/",
          "height": 85
        },
        "outputId": "0f988836-72d1-4e34-b849-3674b2b28c8e"
      },
      "source": [
        "X_train_one_hot = hstack([X_train_one_hot,vec_for_threat_name,vec_for_threat_family,vec_for_size])\n",
        "X_train_tf_idf = hstack([X_train_tf_idf,vec_for_threat_name,vec_for_threat_family,vec_for_size])\n",
        "Y_train = np.asarray(Y_train)\n",
        "\n",
        "\n",
        "print(\"Matrices final shape:\")\n",
        "print(\"X_train_one_hot : {}\".format(X_train_one_hot.shape))\n",
        "print(\"X_train_tf_idf : {}\".format(X_train_tf_idf.shape))\n",
        "print(\"Y_train : {}\".format(Y_train.shape))"
      ],
      "execution_count": 68,
      "outputs": [
        {
          "output_type": "stream",
          "text": [
            "Matrices final shape:\n",
            "X_train_one_hot : (60870, 32203)\n",
            "X_train_tf_idf : (60870, 32203)\n",
            "Y_train : (60870,)\n"
          ],
          "name": "stdout"
        }
      ]
    },
    {
      "cell_type": "markdown",
      "metadata": {
        "id": "kIt-9ON7_4J3",
        "colab_type": "text"
      },
      "source": [
        "We use **F1 score** because the distribution of the clean and malicious files within the data-set is imbalanced, thus we want to evaluate the model according to the it's false predicitions.\n",
        "\n",
        "- False Positive: The model predicted it is a malicious it is clean.\n",
        "- False Negative: The model predicted it is a clean and it is malicious."
      ]
    },
    {
      "cell_type": "code",
      "metadata": {
        "id": "V-aQLt_OBL5X",
        "colab_type": "code",
        "colab": {}
      },
      "source": [
        "scoring = ['precision', 'recall','accuracy','f1']"
      ],
      "execution_count": 0,
      "outputs": []
    },
    {
      "cell_type": "code",
      "metadata": {
        "id": "_VPm1B3ZqlI8",
        "colab_type": "code",
        "colab": {}
      },
      "source": [
        "from sklearn.model_selection import cross_validate\n",
        "from sklearn.metrics import recall_score\n",
        "from sklearn.metrics import precision_score\n",
        "from sklearn.metrics import accuracy_score\n",
        "from sklearn import svm\n",
        "\n",
        "def train(X,Y,kernel='rbf',deg=3):\n",
        "  clf = svm.SVC(kernel=kernel,degree=deg, C=1, gamma='scale')\n",
        "  scores = cross_validate(clf, X, Y, scoring=scoring,return_estimator=True,)\n",
        "  sorted(scores.keys())\n",
        "  return scores\n"
      ],
      "execution_count": 0,
      "outputs": []
    },
    {
      "cell_type": "code",
      "metadata": {
        "id": "XZB42YYk1mE4",
        "colab_type": "code",
        "colab": {}
      },
      "source": [
        "cv_one_hot_scores_rbf = train(X_train_one_hot,Y_train)\n"
      ],
      "execution_count": 0,
      "outputs": []
    },
    {
      "cell_type": "code",
      "metadata": {
        "id": "4_Zchm4k2zM_",
        "colab_type": "code",
        "colab": {}
      },
      "source": [
        "# cv_one_hot_scores_poly = train(X_train_one_hot,Y_train,kernel='poly',deg=4)\n"
      ],
      "execution_count": 0,
      "outputs": []
    },
    {
      "cell_type": "code",
      "metadata": {
        "id": "K_oF9F_OK_y8",
        "colab_type": "code",
        "colab": {}
      },
      "source": [
        "cv_one_hot_scores_linear = train(X_train_one_hot,Y_train,kernel='linear')"
      ],
      "execution_count": 0,
      "outputs": []
    },
    {
      "cell_type": "code",
      "metadata": {
        "id": "xlctCe6X2xPX",
        "colab_type": "code",
        "colab": {}
      },
      "source": [
        "cv_tfidf_scores_rbf = train(X_train_tf_idf,Y_train)\n"
      ],
      "execution_count": 0,
      "outputs": []
    },
    {
      "cell_type": "code",
      "metadata": {
        "id": "lNof5M6k2ujk",
        "colab_type": "code",
        "colab": {}
      },
      "source": [
        "# cv_tfidf_scores_poly = train(X_train_tf_idf,Y_train,kernel='poly',deg=4)"
      ],
      "execution_count": 0,
      "outputs": []
    },
    {
      "cell_type": "code",
      "metadata": {
        "id": "GJ_3-KbEBDb8",
        "colab_type": "code",
        "colab": {}
      },
      "source": [
        "cv_tfidf_scores_linear = train(X_train_tf_idf,Y_train,kernel='linear')"
      ],
      "execution_count": 0,
      "outputs": []
    },
    {
      "cell_type": "code",
      "metadata": {
        "id": "OZR498lY8Jv1",
        "colab_type": "code",
        "colab": {
          "base_uri": "https://localhost:8080/",
          "height": 459
        },
        "outputId": "124ac4fe-1dd9-4d97-9949-40b6f18eb3e6"
      },
      "source": [
        "cv_tfidf_scores_linear"
      ],
      "execution_count": 93,
      "outputs": [
        {
          "output_type": "execute_result",
          "data": {
            "text/plain": [
              "{'estimator': (SVC(C=1, break_ties=False, cache_size=200, class_weight=None, coef0=0.0,\n",
              "      decision_function_shape='ovr', degree=3, gamma='scale', kernel='linear',\n",
              "      max_iter=-1, probability=False, random_state=None, shrinking=True,\n",
              "      tol=0.001, verbose=False),\n",
              "  SVC(C=1, break_ties=False, cache_size=200, class_weight=None, coef0=0.0,\n",
              "      decision_function_shape='ovr', degree=3, gamma='scale', kernel='linear',\n",
              "      max_iter=-1, probability=False, random_state=None, shrinking=True,\n",
              "      tol=0.001, verbose=False),\n",
              "  SVC(C=1, break_ties=False, cache_size=200, class_weight=None, coef0=0.0,\n",
              "      decision_function_shape='ovr', degree=3, gamma='scale', kernel='linear',\n",
              "      max_iter=-1, probability=False, random_state=None, shrinking=True,\n",
              "      tol=0.001, verbose=False),\n",
              "  SVC(C=1, break_ties=False, cache_size=200, class_weight=None, coef0=0.0,\n",
              "      decision_function_shape='ovr', degree=3, gamma='scale', kernel='linear',\n",
              "      max_iter=-1, probability=False, random_state=None, shrinking=True,\n",
              "      tol=0.001, verbose=False),\n",
              "  SVC(C=1, break_ties=False, cache_size=200, class_weight=None, coef0=0.0,\n",
              "      decision_function_shape='ovr', degree=3, gamma='scale', kernel='linear',\n",
              "      max_iter=-1, probability=False, random_state=None, shrinking=True,\n",
              "      tol=0.001, verbose=False)),\n",
              " 'fit_time': array([45.80871105, 43.93090224, 42.85761952, 44.73975563, 46.00290442]),\n",
              " 'score_time': array([6.83335423, 6.98659062, 6.73142147, 7.09949088, 7.11197352]),\n",
              " 'test_accuracy': array([0.98841794, 0.98850008, 0.98899294, 0.98726795, 0.9904715 ]),\n",
              " 'test_f1': array([0.99300352, 0.99304797, 0.99334327, 0.99228971, 0.99423917]),\n",
              " 'test_precision': array([0.99552283, 0.99631327, 0.99700838, 0.99730027, 0.99760813]),\n",
              " 'test_recall': array([0.99049693, 0.989804  , 0.98970501, 0.98732924, 0.99089289])}"
            ]
          },
          "metadata": {
            "tags": []
          },
          "execution_count": 93
        }
      ]
    },
    {
      "cell_type": "code",
      "metadata": {
        "id": "A5RPK8WL3W_Q",
        "colab_type": "code",
        "colab": {}
      },
      "source": [
        "def extract_best_model(scores):\n",
        "  max_f1_score = max(scores[\"test_f1\"])\n",
        "  best_idx = list(scores[\"test_f1\"]).index(max_f1_score)\n",
        "  print(best_idx)\n",
        "  best_model = scores[\"estimator\"][best_idx]\n",
        "  return best_model,max_f1_score"
      ],
      "execution_count": 0,
      "outputs": []
    },
    {
      "cell_type": "code",
      "metadata": {
        "id": "7gj7sXJt2xOX",
        "colab_type": "code",
        "colab": {
          "base_uri": "https://localhost:8080/",
          "height": 306
        },
        "outputId": "2446b648-42ff-44c6-a4cd-d4f3c45bd23b"
      },
      "source": [
        "models_obj = [cv_one_hot_scores_rbf,cv_one_hot_scores_linear,cv_tfidf_scores_rbf,cv_tfidf_scores_linear]\n",
        "models_obj = [extract_best_model(x) for x in models_obj]\n",
        "print(models_obj)\n"
      ],
      "execution_count": 104,
      "outputs": [
        {
          "output_type": "stream",
          "text": [
            "4\n",
            "4\n",
            "4\n",
            "4\n",
            "[(SVC(C=1, break_ties=False, cache_size=200, class_weight=None, coef0=0.0,\n",
            "    decision_function_shape='ovr', degree=3, gamma='scale', kernel='rbf',\n",
            "    max_iter=-1, probability=False, random_state=None, shrinking=True,\n",
            "    tol=0.001, verbose=False), 0.9942483141610472), (SVC(C=1, break_ties=False, cache_size=200, class_weight=None, coef0=0.0,\n",
            "    decision_function_shape='ovr', degree=3, gamma='scale', kernel='linear',\n",
            "    max_iter=-1, probability=False, random_state=None, shrinking=True,\n",
            "    tol=0.001, verbose=False), 0.9942391736193882), (SVC(C=1, break_ties=False, cache_size=200, class_weight=None, coef0=0.0,\n",
            "    decision_function_shape='ovr', degree=3, gamma='scale', kernel='rbf',\n",
            "    max_iter=-1, probability=False, random_state=None, shrinking=True,\n",
            "    tol=0.001, verbose=False), 0.9942483141610472), (SVC(C=1, break_ties=False, cache_size=200, class_weight=None, coef0=0.0,\n",
            "    decision_function_shape='ovr', degree=3, gamma='scale', kernel='linear',\n",
            "    max_iter=-1, probability=False, random_state=None, shrinking=True,\n",
            "    tol=0.001, verbose=False), 0.9942391736193882)]\n"
          ],
          "name": "stdout"
        }
      ]
    },
    {
      "cell_type": "markdown",
      "metadata": {
        "id": "Nd5O4H_POeet",
        "colab_type": "text"
      },
      "source": [
        "# **Best model:**"
      ]
    },
    {
      "cell_type": "code",
      "metadata": {
        "id": "VV0G8yYPOg1z",
        "colab_type": "code",
        "colab": {
          "base_uri": "https://localhost:8080/",
          "height": 102
        },
        "outputId": "5e9ed806-afe9-4e60-e849-28f32e4a5ff2"
      },
      "source": [
        "best_model = max(models_obj,key=lambda x:x[1])\n",
        "print(best_model[0])\n",
        "print(\"Training F1_Score of {}\".format(best_model[1]))"
      ],
      "execution_count": 107,
      "outputs": [
        {
          "output_type": "stream",
          "text": [
            "SVC(C=1, break_ties=False, cache_size=200, class_weight=None, coef0=0.0,\n",
            "    decision_function_shape='ovr', degree=3, gamma='scale', kernel='rbf',\n",
            "    max_iter=-1, probability=False, random_state=None, shrinking=True,\n",
            "    tol=0.001, verbose=False)\n",
            "Training F1_Score of 0.9942483141610472\n"
          ],
          "name": "stdout"
        }
      ]
    },
    {
      "cell_type": "markdown",
      "metadata": {
        "id": "NUk325ngLT47",
        "colab_type": "text"
      },
      "source": [
        "# **Test and evaluation part:**"
      ]
    },
    {
      "cell_type": "code",
      "metadata": {
        "id": "6HqFp396LZBQ",
        "colab_type": "code",
        "colab": {
          "base_uri": "https://localhost:8080/",
          "height": 51
        },
        "outputId": "12070992-5197-4b7a-ef0c-0dc773006637"
      },
      "source": [
        "def convert_col_in_df_to_mat(df,vectorizer,col,rep_nans=False,pipe=None):\n",
        "  list_of_vals = replace_nans([x for x in df[col]])\n",
        "  list_of_vals = [pipe(x) if pipe else x for x in list_of_vals]\n",
        "  X = vectorizer.transform(list_of_vals)\n",
        "  return X\n",
        "\n",
        "def transform_df_to_mat(df,vecs,cols,pipe=None):\n",
        "  list_of_mats = []\n",
        "  for vec,col in zip(vecs,cols):\n",
        "    list_of_mats.append(convert_col_in_df_to_mat(df,vec,col,pipe=pipe))\n",
        "  return hstack(list_of_mats)\n",
        "\n",
        "cols = ['FileNameID','WebFileUrlDomain','WebFileUrlHostname']\n",
        "\n",
        "X_test_one_hot_file_name = convert_col_in_df_to_mat(test,onehot_vecs[\"fn\"],cols[0],pipe=pipeline_for_filename)\n",
        "X_test_one_hot_domain_name = convert_col_in_df_to_mat(test,onehot_vecs[\"dn\"],cols[1],rep_nans=True,pipe=pipeline_for_domain)\n",
        "X_test_one_hot_hostname_name = convert_col_in_df_to_mat(test,onehot_vecs[\"hn\"],cols[2],rep_nans=True,pipe=pipeline_for_hostname)\n",
        "\n",
        "list_test_one_hot = [X_test_one_hot_file_name,X_test_one_hot_domain_name,X_test_one_hot_hostname_name]\n",
        "test_one_hot = hstack(list_test_one_hot)\n",
        "\n",
        "\n",
        "X_test_tfidf_file_name = convert_col_in_df_to_mat(test,tfidf_vecs[\"fn\"],cols[0],pipe=pipeline_for_filename)\n",
        "X_test_tfidf_domain_name = convert_col_in_df_to_mat(test,tfidf_vecs[\"dn\"],cols[1],rep_nans=True,pipe=pipeline_for_domain)\n",
        "X_test_tfidf_hostname_name = convert_col_in_df_to_mat(test,tfidf_vecs[\"hn\"],cols[2],rep_nans=True,pipe=pipeline_for_hostname)\n",
        "\n",
        "list_test_tf_idf = [X_test_tfidf_file_name,X_test_tfidf_domain_name,X_test_tfidf_hostname_name]\n",
        "test_tf_idf = hstack(list_test_tf_idf)\n",
        "\n",
        "\n",
        "print(\"test_one_hot shapes : {}\".format(test_one_hot.shape))\n",
        "print(\"test_tf_idf shapes : {}\".format(test_tf_idf.shape))\n",
        "#TODO: \n",
        "# 1. Select the best model from above.\n",
        "# 2. Asses the test-set.\n",
        "  "
      ],
      "execution_count": 128,
      "outputs": [
        {
          "output_type": "stream",
          "text": [
            "test_one_hot shapes : (15218, 32200)\n",
            "test_tf_idf shapes : (15218, 32200)\n"
          ],
          "name": "stdout"
        }
      ]
    }
  ]
}
{
  "nbformat": 4,
  "nbformat_minor": 0,
  "metadata": {
    "colab": {
      "name": "Big Data Analysis for Cyber Security - Text Analysis.ipynb",
      "provenance": [],
      "toc_visible": true,
      "mount_file_id": "1j4-6Hwy7qAEhOmq5Xno9egT6C4cHQAFV",
      "authorship_tag": "ABX9TyOouHGNdbw8NQKlCIMBa8DP",
      "include_colab_link": true
    },
    "kernelspec": {
      "name": "python3",
      "display_name": "Python 3"
    }
  },
  "cells": [
    {
      "cell_type": "markdown",
      "metadata": {
        "id": "view-in-github",
        "colab_type": "text"
      },
      "source": [
        "<a href=\"https://colab.research.google.com/github/NitCoh/TextAnalysisForBigData/blob/master/Big_Data_Analysis_for_Cyber_Security_Text_Analysis.ipynb\" target=\"_parent\"><img src=\"https://colab.research.google.com/assets/colab-badge.svg\" alt=\"Open In Colab\"/></a>"
      ]
    },
    {
      "cell_type": "code",
      "metadata": {
        "id": "QmvtCKSGU-no",
        "colab_type": "code",
        "colab": {}
      },
      "source": [
        "import re\n",
        "import pandas as pd\n",
        "import numpy as np"
      ],
      "execution_count": 0,
      "outputs": []
    },
    {
      "cell_type": "markdown",
      "metadata": {
        "id": "LZ5WGjbD-0HL",
        "colab_type": "text"
      },
      "source": [
        "# **Initial Data Exploration**"
      ]
    },
    {
      "cell_type": "markdown",
      "metadata": {
        "id": "gaSO-UedXcDn",
        "colab_type": "text"
      },
      "source": [
        "DATA_COLS:\n",
        "Columns:\n",
        "FileNameID,Sha256ID,Md5ID,Sha1ID,IssuerID,SignerID,PublisherID,WebFileIpID,WebFileUrlID,ThreatFamilyID,ThreatNameID,SigSeqID,SignatureNameID,MachineGuidID,RowNumber,PeAttributesString,WebFileUrlDomain,WebFileUrlHostname,Ctph,LsHash,ThreatCategory,ReportTime,SpynetReportGuid,Firewall,Size,Version,Type,SignerHash,IssuerHash,IsValidCertificate,CertInvalidDetails,Checksum,IsRuntimePacked,FileAccess,Screensaver,StartupUserFolder,MarkOfTheWeb,UsnTimestamp,IsInContainer,IsContainer,IsPEFile,IsAutoRunInf,PeTimestamp"
      ]
    },
    {
      "cell_type": "markdown",
      "metadata": {
        "id": "i78snPeSX5zO",
        "colab_type": "text"
      },
      "source": [
        "Upload the data file!"
      ]
    },
    {
      "cell_type": "code",
      "metadata": {
        "id": "HH870zENar6E",
        "colab_type": "code",
        "outputId": "7acb57d5-9761-42c1-c1c8-9065687b4fbe",
        "colab": {
          "base_uri": "https://localhost:8080/",
          "height": 34
        }
      },
      "source": [
        "COLS = \"FileNameID,Sha256ID,Md5ID,Sha1ID,IssuerID,SignerID,PublisherID,WebFileIpID,WebFileUrlID,ThreatFamilyID,ThreatNameID,SigSeqID,SignatureNameID,MachineGuidID,RowNumber,PeAttributesString,WebFileUrlDomain,WebFileUrlHostname,Ctph,LsHash,ThreatCategory,ReportTime,SpynetReportGuid,Firewall,Size,Version,Type,SignerHash,IssuerHash,IsValidCertificate,CertInvalidDetails,Checksum,IsRuntimePacked,FileAccess,Screensaver,StartupUserFolder,MarkOfTheWeb,UsnTimestamp,IsInContainer,IsContainer,IsPEFile,IsAutoRunInf,PeTimestamp\"\n",
        "cols_names = COLS.split(\",\")\n",
        "cols_names\n",
        "len(cols_names)"
      ],
      "execution_count": 95,
      "outputs": [
        {
          "output_type": "execute_result",
          "data": {
            "text/plain": [
              "43"
            ]
          },
          "metadata": {
            "tags": []
          },
          "execution_count": 95
        }
      ]
    },
    {
      "cell_type": "code",
      "metadata": {
        "id": "5_tfqLZvX3kT",
        "colab_type": "code",
        "outputId": "0493f770-9505-4d5c-bbe8-be1b00c1c4f9",
        "colab": {
          "base_uri": "https://localhost:8080/",
          "height": 425
        }
      },
      "source": [
        "## Upload the data file first!\n",
        "data_path = '/content/Obf_oneInTenWeek1_d1.tsv'\n",
        "\n",
        "df = pd.read_csv(data_path,sep='\\t', names=cols_names)\n",
        "df.head(n=6)"
      ],
      "execution_count": 96,
      "outputs": [
        {
          "output_type": "stream",
          "text": [
            "/usr/local/lib/python3.6/dist-packages/IPython/core/interactiveshell.py:2718: DtypeWarning: Columns (41) have mixed types.Specify dtype option on import or set low_memory=False.\n",
            "  interactivity=interactivity, compiler=compiler, result=result)\n"
          ],
          "name": "stderr"
        },
        {
          "output_type": "execute_result",
          "data": {
            "text/html": [
              "<div>\n",
              "<style scoped>\n",
              "    .dataframe tbody tr th:only-of-type {\n",
              "        vertical-align: middle;\n",
              "    }\n",
              "\n",
              "    .dataframe tbody tr th {\n",
              "        vertical-align: top;\n",
              "    }\n",
              "\n",
              "    .dataframe thead th {\n",
              "        text-align: right;\n",
              "    }\n",
              "</style>\n",
              "<table border=\"1\" class=\"dataframe\">\n",
              "  <thead>\n",
              "    <tr style=\"text-align: right;\">\n",
              "      <th></th>\n",
              "      <th>FileNameID</th>\n",
              "      <th>Sha256ID</th>\n",
              "      <th>Md5ID</th>\n",
              "      <th>Sha1ID</th>\n",
              "      <th>IssuerID</th>\n",
              "      <th>SignerID</th>\n",
              "      <th>PublisherID</th>\n",
              "      <th>WebFileIpID</th>\n",
              "      <th>WebFileUrlID</th>\n",
              "      <th>ThreatFamilyID</th>\n",
              "      <th>ThreatNameID</th>\n",
              "      <th>SigSeqID</th>\n",
              "      <th>SignatureNameID</th>\n",
              "      <th>MachineGuidID</th>\n",
              "      <th>RowNumber</th>\n",
              "      <th>PeAttributesString</th>\n",
              "      <th>WebFileUrlDomain</th>\n",
              "      <th>WebFileUrlHostname</th>\n",
              "      <th>Ctph</th>\n",
              "      <th>LsHash</th>\n",
              "      <th>ThreatCategory</th>\n",
              "      <th>ReportTime</th>\n",
              "      <th>SpynetReportGuid</th>\n",
              "      <th>Firewall</th>\n",
              "      <th>Size</th>\n",
              "      <th>Version</th>\n",
              "      <th>Type</th>\n",
              "      <th>SignerHash</th>\n",
              "      <th>IssuerHash</th>\n",
              "      <th>IsValidCertificate</th>\n",
              "      <th>CertInvalidDetails</th>\n",
              "      <th>Checksum</th>\n",
              "      <th>IsRuntimePacked</th>\n",
              "      <th>FileAccess</th>\n",
              "      <th>Screensaver</th>\n",
              "      <th>StartupUserFolder</th>\n",
              "      <th>MarkOfTheWeb</th>\n",
              "      <th>UsnTimestamp</th>\n",
              "      <th>IsInContainer</th>\n",
              "      <th>IsContainer</th>\n",
              "      <th>IsPEFile</th>\n",
              "      <th>IsAutoRunInf</th>\n",
              "      <th>PeTimestamp</th>\n",
              "    </tr>\n",
              "  </thead>\n",
              "  <tbody>\n",
              "    <tr>\n",
              "      <th>0</th>\n",
              "      <td>7689280</td>\n",
              "      <td>17046923</td>\n",
              "      <td>10489946</td>\n",
              "      <td>9382543</td>\n",
              "      <td>9641</td>\n",
              "      <td>46623</td>\n",
              "      <td>188146</td>\n",
              "      <td>462213</td>\n",
              "      <td>5905091</td>\n",
              "      <td>2720</td>\n",
              "      <td>5644</td>\n",
              "      <td>1036378</td>\n",
              "      <td>227</td>\n",
              "      <td>18220780</td>\n",
              "      <td>14467170</td>\n",
              "      <td>NaN</td>\n",
              "      <td>mediafire.com</td>\n",
              "      <td>download2089.mediafire.com</td>\n",
              "      <td>98304:H5y4BLvb5sTOKPg6JqJTkIMMUaVlebVwaccuyPNA...</td>\n",
              "      <td>77e66aabaf5adeaf55b5adb95f5bdfbdb6bf66eefd7d99...</td>\n",
              "      <td>NaN</td>\n",
              "      <td>1/1/2017 7:18:01 PM</td>\n",
              "      <td>528e69bc-405f-4713-a1f6-36c1903116d0</td>\n",
              "      <td>NaN</td>\n",
              "      <td>7041700</td>\n",
              "      <td>NaN</td>\n",
              "      <td>NaN</td>\n",
              "      <td>NaN</td>\n",
              "      <td>NaN</td>\n",
              "      <td>NaN</td>\n",
              "      <td>NaN</td>\n",
              "      <td>NaN</td>\n",
              "      <td>NaN</td>\n",
              "      <td>5</td>\n",
              "      <td>NaN</td>\n",
              "      <td>NaN</td>\n",
              "      <td>internet</td>\n",
              "      <td>NaN</td>\n",
              "      <td>NaN</td>\n",
              "      <td>NaN</td>\n",
              "      <td>False</td>\n",
              "      <td>NaN</td>\n",
              "      <td>NaN</td>\n",
              "    </tr>\n",
              "    <tr>\n",
              "      <th>1</th>\n",
              "      <td>7689292</td>\n",
              "      <td>1024138</td>\n",
              "      <td>18599752</td>\n",
              "      <td>17052884</td>\n",
              "      <td>9641</td>\n",
              "      <td>46623</td>\n",
              "      <td>188146</td>\n",
              "      <td>100848</td>\n",
              "      <td>15003067</td>\n",
              "      <td>2720</td>\n",
              "      <td>5644</td>\n",
              "      <td>24632</td>\n",
              "      <td>616</td>\n",
              "      <td>20983989</td>\n",
              "      <td>16606030</td>\n",
              "      <td>1,5,21,23,45,84,85,89,94,98,106,109,110,113,11...</td>\n",
              "      <td>mpgh.net</td>\n",
              "      <td>www.mpgh.net</td>\n",
              "      <td>3072:Gnw+4gXWKP0XzBwWZzqZBcsmhVnxC3eClBFydr:6J...</td>\n",
              "      <td>b7bafa5fa7a5d5ee77bee55f6765e55faee6e96b5f95f5...</td>\n",
              "      <td>NaN</td>\n",
              "      <td>1/1/2017 10:22:19 PM</td>\n",
              "      <td>fd4ef558-8f17-4366-9d5f-abc625582d7f</td>\n",
              "      <td>NaN</td>\n",
              "      <td>101888</td>\n",
              "      <td>NaN</td>\n",
              "      <td>NaN</td>\n",
              "      <td>NaN</td>\n",
              "      <td>NaN</td>\n",
              "      <td>NaN</td>\n",
              "      <td>NaN</td>\n",
              "      <td>0001fb8f</td>\n",
              "      <td>0.0</td>\n",
              "      <td>2</td>\n",
              "      <td>NaN</td>\n",
              "      <td>NaN</td>\n",
              "      <td>internet</td>\n",
              "      <td>1/1/2017 11:22:22 PM</td>\n",
              "      <td>True</td>\n",
              "      <td>NaN</td>\n",
              "      <td>True</td>\n",
              "      <td>NaN</td>\n",
              "      <td>3/6/2016 3:43:13 AM</td>\n",
              "    </tr>\n",
              "    <tr>\n",
              "      <th>2</th>\n",
              "      <td>14661295</td>\n",
              "      <td>3242391</td>\n",
              "      <td>4079241</td>\n",
              "      <td>7856388</td>\n",
              "      <td>9641</td>\n",
              "      <td>46623</td>\n",
              "      <td>188146</td>\n",
              "      <td>570877</td>\n",
              "      <td>4648460</td>\n",
              "      <td>2720</td>\n",
              "      <td>5644</td>\n",
              "      <td>1036485</td>\n",
              "      <td>632</td>\n",
              "      <td>26901046</td>\n",
              "      <td>21310830</td>\n",
              "      <td>1,5,21,23,25,31,45,63,73,94,106,109,110,112,11...</td>\n",
              "      <td>pcinspector.de</td>\n",
              "      <td>download.pcinspector.de</td>\n",
              "      <td>12288:FfOSr3qnux6sHMfQFbN7RaWUH56yRebvnIJ94U22...</td>\n",
              "      <td>77e6da7f57bd9dbafdeea65bb7559d6efd56eba76e5555...</td>\n",
              "      <td>NaN</td>\n",
              "      <td>1/1/2017 1:14:55 PM</td>\n",
              "      <td>a371233e-a97c-4a6f-b032-a53403a949ac</td>\n",
              "      <td>NaN</td>\n",
              "      <td>767771</td>\n",
              "      <td>6.10.0.6100</td>\n",
              "      <td>APP</td>\n",
              "      <td>NaN</td>\n",
              "      <td>NaN</td>\n",
              "      <td>NaN</td>\n",
              "      <td>NaN</td>\n",
              "      <td>00000000</td>\n",
              "      <td>1.0</td>\n",
              "      <td>2</td>\n",
              "      <td>NaN</td>\n",
              "      <td>NaN</td>\n",
              "      <td>unknown</td>\n",
              "      <td>1/1/2017 1:14:39 PM</td>\n",
              "      <td>NaN</td>\n",
              "      <td>NaN</td>\n",
              "      <td>True</td>\n",
              "      <td>NaN</td>\n",
              "      <td>9/23/2002 11:55:47 AM</td>\n",
              "    </tr>\n",
              "    <tr>\n",
              "      <th>3</th>\n",
              "      <td>7689292</td>\n",
              "      <td>1024138</td>\n",
              "      <td>18599752</td>\n",
              "      <td>17052884</td>\n",
              "      <td>9641</td>\n",
              "      <td>46623</td>\n",
              "      <td>188146</td>\n",
              "      <td>100848</td>\n",
              "      <td>15003067</td>\n",
              "      <td>2720</td>\n",
              "      <td>5644</td>\n",
              "      <td>24632</td>\n",
              "      <td>616</td>\n",
              "      <td>9649625</td>\n",
              "      <td>7582810</td>\n",
              "      <td>1,5,21,23,45,84,85,89,94,98,106,109,110,113,11...</td>\n",
              "      <td>mpgh.net</td>\n",
              "      <td>www.mpgh.net</td>\n",
              "      <td>3072:Gnw+4gXWKP0XzBwWZzqZBcsmhVnxC3eClBFydr:6J...</td>\n",
              "      <td>b7bafa5fa7a5d5ee77bee55f6765e55faee6e96b5f95f5...</td>\n",
              "      <td>NaN</td>\n",
              "      <td>1/1/2017 11:06:32 PM</td>\n",
              "      <td>65605608-5145-4c86-b76c-573d1b56819a</td>\n",
              "      <td>True</td>\n",
              "      <td>101888</td>\n",
              "      <td>NaN</td>\n",
              "      <td>NaN</td>\n",
              "      <td>NaN</td>\n",
              "      <td>NaN</td>\n",
              "      <td>NaN</td>\n",
              "      <td>NaN</td>\n",
              "      <td>0001fb8f</td>\n",
              "      <td>0.0</td>\n",
              "      <td>2</td>\n",
              "      <td>NaN</td>\n",
              "      <td>NaN</td>\n",
              "      <td>internet</td>\n",
              "      <td>NaN</td>\n",
              "      <td>True</td>\n",
              "      <td>NaN</td>\n",
              "      <td>True</td>\n",
              "      <td>NaN</td>\n",
              "      <td>3/6/2016 3:43:13 AM</td>\n",
              "    </tr>\n",
              "    <tr>\n",
              "      <th>4</th>\n",
              "      <td>7689305</td>\n",
              "      <td>1012018</td>\n",
              "      <td>8180486</td>\n",
              "      <td>14860251</td>\n",
              "      <td>9641</td>\n",
              "      <td>46623</td>\n",
              "      <td>188146</td>\n",
              "      <td>955856</td>\n",
              "      <td>2641005</td>\n",
              "      <td>2720</td>\n",
              "      <td>5644</td>\n",
              "      <td>1036641</td>\n",
              "      <td>221</td>\n",
              "      <td>21896518</td>\n",
              "      <td>17330640</td>\n",
              "      <td>NaN</td>\n",
              "      <td>forumprofi.de</td>\n",
              "      <td>clan-z.forumprofi.de</td>\n",
              "      <td>196608:skgNapTLYtSXzUaUykAmSs5iMKrbgdA50eQEvZP...</td>\n",
              "      <td>796a9fb765fbaea5e59e6ff56ea9be67b7a95afd9fe6b5...</td>\n",
              "      <td>NaN</td>\n",
              "      <td>1/1/2017 9:51:00 AM</td>\n",
              "      <td>3c5719d9-8fc9-46c1-b874-c5803cb93b13</td>\n",
              "      <td>True</td>\n",
              "      <td>8254731</td>\n",
              "      <td>NaN</td>\n",
              "      <td>NaN</td>\n",
              "      <td>NaN</td>\n",
              "      <td>NaN</td>\n",
              "      <td>NaN</td>\n",
              "      <td>NaN</td>\n",
              "      <td>NaN</td>\n",
              "      <td>NaN</td>\n",
              "      <td>2</td>\n",
              "      <td>NaN</td>\n",
              "      <td>NaN</td>\n",
              "      <td>internet</td>\n",
              "      <td>NaN</td>\n",
              "      <td>NaN</td>\n",
              "      <td>NaN</td>\n",
              "      <td>False</td>\n",
              "      <td>NaN</td>\n",
              "      <td>NaN</td>\n",
              "    </tr>\n",
              "    <tr>\n",
              "      <th>5</th>\n",
              "      <td>bsplayer_free.exe</td>\n",
              "      <td>6879724</td>\n",
              "      <td>67197</td>\n",
              "      <td>6545231</td>\n",
              "      <td>9618</td>\n",
              "      <td>43582</td>\n",
              "      <td>34</td>\n",
              "      <td>778924</td>\n",
              "      <td>14124668</td>\n",
              "      <td>2720</td>\n",
              "      <td>5644</td>\n",
              "      <td>37</td>\n",
              "      <td>1291</td>\n",
              "      <td>10479025</td>\n",
              "      <td>8249640</td>\n",
              "      <td>1,5,21,23,25,30,45,46,49,51,60,73,84,86,89,90,...</td>\n",
              "      <td>deliverynowsend.com</td>\n",
              "      <td>www.deliverynowsend.com</td>\n",
              "      <td>24576:5QvY1H02hJ/X99M3suMBWom0cOGNrOhR35qjrmKy...</td>\n",
              "      <td>ebd5b97a77eeeab77aeed66b97d56d7adea77a7d7db9a5...</td>\n",
              "      <td>NaN</td>\n",
              "      <td>1/1/2017 5:48:40 PM</td>\n",
              "      <td>413e9be0-4214-4855-bc79-0ad424ca156d</td>\n",
              "      <td>True</td>\n",
              "      <td>1274648</td>\n",
              "      <td>0.0.0.0</td>\n",
              "      <td>APP</td>\n",
              "      <td>7c3b2769a9c1f667aec9e680f2b144b32edc4f4a</td>\n",
              "      <td>d00cfdbf46c98a838bc10dc4e097ae0152c461bc</td>\n",
              "      <td>True</td>\n",
              "      <td>NaN</td>\n",
              "      <td>9e22bfbd</td>\n",
              "      <td>1.0</td>\n",
              "      <td>2</td>\n",
              "      <td>NaN</td>\n",
              "      <td>NaN</td>\n",
              "      <td>unknown</td>\n",
              "      <td>NaN</td>\n",
              "      <td>NaN</td>\n",
              "      <td>NaN</td>\n",
              "      <td>True</td>\n",
              "      <td>NaN</td>\n",
              "      <td>6/19/1992 10:22:17 PM</td>\n",
              "    </tr>\n",
              "  </tbody>\n",
              "</table>\n",
              "</div>"
            ],
            "text/plain": [
              "          FileNameID  Sha256ID  ...  IsAutoRunInf            PeTimestamp\n",
              "0            7689280  17046923  ...           NaN                    NaN\n",
              "1            7689292   1024138  ...           NaN    3/6/2016 3:43:13 AM\n",
              "2           14661295   3242391  ...           NaN  9/23/2002 11:55:47 AM\n",
              "3            7689292   1024138  ...           NaN    3/6/2016 3:43:13 AM\n",
              "4            7689305   1012018  ...           NaN                    NaN\n",
              "5  bsplayer_free.exe   6879724  ...           NaN  6/19/1992 10:22:17 PM\n",
              "\n",
              "[6 rows x 43 columns]"
            ]
          },
          "metadata": {
            "tags": []
          },
          "execution_count": 96
        }
      ]
    },
    {
      "cell_type": "code",
      "metadata": {
        "id": "wzXN2OMaCy3l",
        "colab_type": "code",
        "colab": {
          "base_uri": "https://localhost:8080/",
          "height": 34
        },
        "outputId": "13797ec1-e583-4b81-fe01-4a7c8e6318cb"
      },
      "source": [
        "df.shape"
      ],
      "execution_count": 97,
      "outputs": [
        {
          "output_type": "execute_result",
          "data": {
            "text/plain": [
              "(205791, 43)"
            ]
          },
          "metadata": {
            "tags": []
          },
          "execution_count": 97
        }
      ]
    },
    {
      "cell_type": "markdown",
      "metadata": {
        "id": "A1Oe1p-V5D__",
        "colab_type": "text"
      },
      "source": [
        "Textual features:\n",
        "FileNameID, WebFuleUrlDomain, WebFileUrlHostname.\n",
        "\n",
        "***FileNameID:***\n",
        "This column should be used, because it can indicate couple of things about the file itself.\n",
        "First, the suffix of the file might imply about the maliciousness of the file, for example, 'exe' files are surely more suspicious, because a malicious code might run while executing those files.\n",
        "Second, the file name itself can raise the suspicious. Common knowledge from surfing the web indicates that attackers might use well-known software names for their malicious files for example \"bsplayer_pro270.1080.exe\". (entry number 8 at the dataset)\n",
        "\n",
        "***WebFuleUrlDomain:***\n",
        "Suspicious domains might lead to rais the probability that the file is malicious, even though attackers sometimes use common well-known domains to upload their files, such as Dropbox, GoogleDrive, MediaFire in order to pass some security checks.\n",
        "\n",
        "***WebFileUrlHostname***\n",
        "Sometimes the domain (the network itself) might be non-suspicious, but a machine through this domain (the hostname) can produce a lot of malicious files, for example :\n",
        "\"mediafire.com\" and the hostname: \"download1507.mediafire.com\".\n",
        "With the cloud storage services today, attackers might hide behind those distributed storage services and the hostname should be considered."
      ]
    },
    {
      "cell_type": "code",
      "metadata": {
        "id": "Kr-1GoVRyHji",
        "colab_type": "code",
        "colab": {
          "base_uri": "https://localhost:8080/",
          "height": 651
        },
        "outputId": "f1852a64-ab08-4f64-97ba-97494f4e2e2e"
      },
      "source": [
        "#Filtered data-set\n",
        "\n",
        "df = df[df.FileNameID.str.isdigit() == False]\n",
        "df.head(n=10)"
      ],
      "execution_count": 98,
      "outputs": [
        {
          "output_type": "execute_result",
          "data": {
            "text/html": [
              "<div>\n",
              "<style scoped>\n",
              "    .dataframe tbody tr th:only-of-type {\n",
              "        vertical-align: middle;\n",
              "    }\n",
              "\n",
              "    .dataframe tbody tr th {\n",
              "        vertical-align: top;\n",
              "    }\n",
              "\n",
              "    .dataframe thead th {\n",
              "        text-align: right;\n",
              "    }\n",
              "</style>\n",
              "<table border=\"1\" class=\"dataframe\">\n",
              "  <thead>\n",
              "    <tr style=\"text-align: right;\">\n",
              "      <th></th>\n",
              "      <th>FileNameID</th>\n",
              "      <th>Sha256ID</th>\n",
              "      <th>Md5ID</th>\n",
              "      <th>Sha1ID</th>\n",
              "      <th>IssuerID</th>\n",
              "      <th>SignerID</th>\n",
              "      <th>PublisherID</th>\n",
              "      <th>WebFileIpID</th>\n",
              "      <th>WebFileUrlID</th>\n",
              "      <th>ThreatFamilyID</th>\n",
              "      <th>ThreatNameID</th>\n",
              "      <th>SigSeqID</th>\n",
              "      <th>SignatureNameID</th>\n",
              "      <th>MachineGuidID</th>\n",
              "      <th>RowNumber</th>\n",
              "      <th>PeAttributesString</th>\n",
              "      <th>WebFileUrlDomain</th>\n",
              "      <th>WebFileUrlHostname</th>\n",
              "      <th>Ctph</th>\n",
              "      <th>LsHash</th>\n",
              "      <th>ThreatCategory</th>\n",
              "      <th>ReportTime</th>\n",
              "      <th>SpynetReportGuid</th>\n",
              "      <th>Firewall</th>\n",
              "      <th>Size</th>\n",
              "      <th>Version</th>\n",
              "      <th>Type</th>\n",
              "      <th>SignerHash</th>\n",
              "      <th>IssuerHash</th>\n",
              "      <th>IsValidCertificate</th>\n",
              "      <th>CertInvalidDetails</th>\n",
              "      <th>Checksum</th>\n",
              "      <th>IsRuntimePacked</th>\n",
              "      <th>FileAccess</th>\n",
              "      <th>Screensaver</th>\n",
              "      <th>StartupUserFolder</th>\n",
              "      <th>MarkOfTheWeb</th>\n",
              "      <th>UsnTimestamp</th>\n",
              "      <th>IsInContainer</th>\n",
              "      <th>IsContainer</th>\n",
              "      <th>IsPEFile</th>\n",
              "      <th>IsAutoRunInf</th>\n",
              "      <th>PeTimestamp</th>\n",
              "    </tr>\n",
              "  </thead>\n",
              "  <tbody>\n",
              "    <tr>\n",
              "      <th>5</th>\n",
              "      <td>bsplayer_free.exe</td>\n",
              "      <td>6879724</td>\n",
              "      <td>67197</td>\n",
              "      <td>6545231</td>\n",
              "      <td>9618</td>\n",
              "      <td>43582</td>\n",
              "      <td>34</td>\n",
              "      <td>778924</td>\n",
              "      <td>14124668</td>\n",
              "      <td>2720</td>\n",
              "      <td>5644</td>\n",
              "      <td>37</td>\n",
              "      <td>1291</td>\n",
              "      <td>10479025</td>\n",
              "      <td>8249640</td>\n",
              "      <td>1,5,21,23,25,30,45,46,49,51,60,73,84,86,89,90,...</td>\n",
              "      <td>deliverynowsend.com</td>\n",
              "      <td>www.deliverynowsend.com</td>\n",
              "      <td>24576:5QvY1H02hJ/X99M3suMBWom0cOGNrOhR35qjrmKy...</td>\n",
              "      <td>ebd5b97a77eeeab77aeed66b97d56d7adea77a7d7db9a5...</td>\n",
              "      <td>NaN</td>\n",
              "      <td>1/1/2017 5:48:40 PM</td>\n",
              "      <td>413e9be0-4214-4855-bc79-0ad424ca156d</td>\n",
              "      <td>True</td>\n",
              "      <td>1274648</td>\n",
              "      <td>0.0.0.0</td>\n",
              "      <td>APP</td>\n",
              "      <td>7c3b2769a9c1f667aec9e680f2b144b32edc4f4a</td>\n",
              "      <td>d00cfdbf46c98a838bc10dc4e097ae0152c461bc</td>\n",
              "      <td>True</td>\n",
              "      <td>NaN</td>\n",
              "      <td>9e22bfbd</td>\n",
              "      <td>1.0</td>\n",
              "      <td>2</td>\n",
              "      <td>NaN</td>\n",
              "      <td>NaN</td>\n",
              "      <td>unknown</td>\n",
              "      <td>NaN</td>\n",
              "      <td>NaN</td>\n",
              "      <td>NaN</td>\n",
              "      <td>True</td>\n",
              "      <td>NaN</td>\n",
              "      <td>6/19/1992 10:22:17 PM</td>\n",
              "    </tr>\n",
              "    <tr>\n",
              "      <th>8</th>\n",
              "      <td>bsplayer_pro270.1080.exe</td>\n",
              "      <td>3501401</td>\n",
              "      <td>7273057</td>\n",
              "      <td>9117642</td>\n",
              "      <td>9641</td>\n",
              "      <td>46623</td>\n",
              "      <td>188146</td>\n",
              "      <td>1037662</td>\n",
              "      <td>878</td>\n",
              "      <td>2720</td>\n",
              "      <td>5644</td>\n",
              "      <td>24632</td>\n",
              "      <td>616</td>\n",
              "      <td>1156079</td>\n",
              "      <td>903060</td>\n",
              "      <td>0,1,2,3,12,18,23,24,31,33,38,45,46,49,69,84,85...</td>\n",
              "      <td>NaN</td>\n",
              "      <td>canonicalizer.ucsuri.tcs</td>\n",
              "      <td>6144:VzWiPlwflgiNLfEihMcEIi/NfmFwmEV1JTS+co8W3...</td>\n",
              "      <td>6f69bd6f57b5e6b569beda7f7765db6955e6966ffefb75...</td>\n",
              "      <td>NaN</td>\n",
              "      <td>1/1/2017 9:10:17 AM</td>\n",
              "      <td>4dd0ff6b-32b2-4d83-ad75-5cd9131ae6a3</td>\n",
              "      <td>True</td>\n",
              "      <td>402278</td>\n",
              "      <td>NaN</td>\n",
              "      <td>NaN</td>\n",
              "      <td>NaN</td>\n",
              "      <td>NaN</td>\n",
              "      <td>NaN</td>\n",
              "      <td>NaN</td>\n",
              "      <td>00000000</td>\n",
              "      <td>1.0</td>\n",
              "      <td>2</td>\n",
              "      <td>NaN</td>\n",
              "      <td>NaN</td>\n",
              "      <td>internet</td>\n",
              "      <td>NaN</td>\n",
              "      <td>True</td>\n",
              "      <td>NaN</td>\n",
              "      <td>True</td>\n",
              "      <td>NaN</td>\n",
              "      <td>6/19/1992 10:22:17 PM</td>\n",
              "    </tr>\n",
              "    <tr>\n",
              "      <th>9</th>\n",
              "      <td>bsplayer_pro_sa.rar</td>\n",
              "      <td>9001092</td>\n",
              "      <td>5907338</td>\n",
              "      <td>14365028</td>\n",
              "      <td>9641</td>\n",
              "      <td>46623</td>\n",
              "      <td>188146</td>\n",
              "      <td>592096</td>\n",
              "      <td>19654065</td>\n",
              "      <td>2720</td>\n",
              "      <td>5644</td>\n",
              "      <td>1036641</td>\n",
              "      <td>221</td>\n",
              "      <td>13721883</td>\n",
              "      <td>10794560</td>\n",
              "      <td>NaN</td>\n",
              "      <td>cldmail.ru</td>\n",
              "      <td>cloclo28.cldmail.ru</td>\n",
              "      <td>196608:VQI64eTBoDzoQr/7JMvLlndl8LSjfmnnuitty9E...</td>\n",
              "      <td>aa79abbdafebddb5b9feed9f6f659697d77ea7b7ab7efe...</td>\n",
              "      <td>NaN</td>\n",
              "      <td>1/1/2017 4:21:39 PM</td>\n",
              "      <td>7c920f2a-c11f-4ad0-a03e-f8843c0ed771</td>\n",
              "      <td>True</td>\n",
              "      <td>10968324</td>\n",
              "      <td>NaN</td>\n",
              "      <td>NaN</td>\n",
              "      <td>NaN</td>\n",
              "      <td>NaN</td>\n",
              "      <td>NaN</td>\n",
              "      <td>NaN</td>\n",
              "      <td>NaN</td>\n",
              "      <td>NaN</td>\n",
              "      <td>2</td>\n",
              "      <td>NaN</td>\n",
              "      <td>NaN</td>\n",
              "      <td>internet</td>\n",
              "      <td>NaN</td>\n",
              "      <td>NaN</td>\n",
              "      <td>NaN</td>\n",
              "      <td>False</td>\n",
              "      <td>NaN</td>\n",
              "      <td>NaN</td>\n",
              "    </tr>\n",
              "    <tr>\n",
              "      <th>14</th>\n",
              "      <td>bspsrc_1.3.21.rar</td>\n",
              "      <td>11353075</td>\n",
              "      <td>17000738</td>\n",
              "      <td>99222</td>\n",
              "      <td>9641</td>\n",
              "      <td>46623</td>\n",
              "      <td>188146</td>\n",
              "      <td>916667</td>\n",
              "      <td>22339856</td>\n",
              "      <td>2720</td>\n",
              "      <td>5644</td>\n",
              "      <td>1036641</td>\n",
              "      <td>221</td>\n",
              "      <td>26669863</td>\n",
              "      <td>21111130</td>\n",
              "      <td>NaN</td>\n",
              "      <td>googleusercontent.com</td>\n",
              "      <td>doc-0o-9k-docs.googleusercontent.com</td>\n",
              "      <td>24576:g1LtKn5Tfdg3QYj8CuY07gVbhi2ZcQhCj4TbRppD...</td>\n",
              "      <td>bb56dfa965aeddffdaae596f569d7fd6bbdaa576ddaf75...</td>\n",
              "      <td>NaN</td>\n",
              "      <td>1/1/2017 8:15:39 PM</td>\n",
              "      <td>4c77a930-e5cb-4953-87b7-552a99661710</td>\n",
              "      <td>True</td>\n",
              "      <td>1339738</td>\n",
              "      <td>NaN</td>\n",
              "      <td>NaN</td>\n",
              "      <td>NaN</td>\n",
              "      <td>NaN</td>\n",
              "      <td>NaN</td>\n",
              "      <td>NaN</td>\n",
              "      <td>NaN</td>\n",
              "      <td>NaN</td>\n",
              "      <td>2</td>\n",
              "      <td>NaN</td>\n",
              "      <td>NaN</td>\n",
              "      <td>internet</td>\n",
              "      <td>NaN</td>\n",
              "      <td>NaN</td>\n",
              "      <td>NaN</td>\n",
              "      <td>False</td>\n",
              "      <td>NaN</td>\n",
              "      <td>NaN</td>\n",
              "    </tr>\n",
              "    <tr>\n",
              "      <th>16</th>\n",
              "      <td>bspsrc_1.3.21.rar</td>\n",
              "      <td>11353075</td>\n",
              "      <td>17000738</td>\n",
              "      <td>99222</td>\n",
              "      <td>9641</td>\n",
              "      <td>46623</td>\n",
              "      <td>188146</td>\n",
              "      <td>766653</td>\n",
              "      <td>30813797</td>\n",
              "      <td>2720</td>\n",
              "      <td>5644</td>\n",
              "      <td>1036641</td>\n",
              "      <td>221</td>\n",
              "      <td>12770052</td>\n",
              "      <td>10024740</td>\n",
              "      <td>NaN</td>\n",
              "      <td>therazzerapp.de</td>\n",
              "      <td>therazzerapp.de</td>\n",
              "      <td>24576:g1LtKn5Tfdg3QYj8CuY07gVbhi2ZcQhCj4TbRppD...</td>\n",
              "      <td>bb56dfa965aeddffdaae596f569d7fd6bbdaa576ddaf75...</td>\n",
              "      <td>NaN</td>\n",
              "      <td>1/1/2017 9:51:09 PM</td>\n",
              "      <td>d7ce69d3-2d62-4eb0-8267-783ca785305d</td>\n",
              "      <td>True</td>\n",
              "      <td>1339738</td>\n",
              "      <td>NaN</td>\n",
              "      <td>NaN</td>\n",
              "      <td>NaN</td>\n",
              "      <td>NaN</td>\n",
              "      <td>NaN</td>\n",
              "      <td>NaN</td>\n",
              "      <td>NaN</td>\n",
              "      <td>NaN</td>\n",
              "      <td>2</td>\n",
              "      <td>NaN</td>\n",
              "      <td>NaN</td>\n",
              "      <td>internet</td>\n",
              "      <td>NaN</td>\n",
              "      <td>NaN</td>\n",
              "      <td>NaN</td>\n",
              "      <td>False</td>\n",
              "      <td>NaN</td>\n",
              "      <td>NaN</td>\n",
              "    </tr>\n",
              "    <tr>\n",
              "      <th>17</th>\n",
              "      <td>! !§5DarkShooter §3[10k] §5Pack.rar</td>\n",
              "      <td>14658809</td>\n",
              "      <td>6649767</td>\n",
              "      <td>3042011</td>\n",
              "      <td>9641</td>\n",
              "      <td>46623</td>\n",
              "      <td>188146</td>\n",
              "      <td>516414</td>\n",
              "      <td>4884433</td>\n",
              "      <td>2720</td>\n",
              "      <td>5644</td>\n",
              "      <td>1036378</td>\n",
              "      <td>227</td>\n",
              "      <td>20265042</td>\n",
              "      <td>16035890</td>\n",
              "      <td>NaN</td>\n",
              "      <td>mediafire.com</td>\n",
              "      <td>download1120.mediafire.com</td>\n",
              "      <td>196608:6VymlwXn2iFmGNskLKYIwF5D7LXEqUbBJFQIUx7...</td>\n",
              "      <td>bbfffbbbdbdfa6f9575a679d67ffd6699b9dabb5bd96b6...</td>\n",
              "      <td>NaN</td>\n",
              "      <td>1/1/2017 9:17:39 PM</td>\n",
              "      <td>75d9c215-4c67-4e48-b502-840b84b3208b</td>\n",
              "      <td>True</td>\n",
              "      <td>14148736</td>\n",
              "      <td>NaN</td>\n",
              "      <td>NaN</td>\n",
              "      <td>NaN</td>\n",
              "      <td>NaN</td>\n",
              "      <td>NaN</td>\n",
              "      <td>NaN</td>\n",
              "      <td>NaN</td>\n",
              "      <td>NaN</td>\n",
              "      <td>2</td>\n",
              "      <td>NaN</td>\n",
              "      <td>NaN</td>\n",
              "      <td>internet</td>\n",
              "      <td>NaN</td>\n",
              "      <td>NaN</td>\n",
              "      <td>NaN</td>\n",
              "      <td>False</td>\n",
              "      <td>NaN</td>\n",
              "      <td>NaN</td>\n",
              "    </tr>\n",
              "    <tr>\n",
              "      <th>18</th>\n",
              "      <td>pcmaster_6.2.1.0_setup_u92.exe</td>\n",
              "      <td>16565404</td>\n",
              "      <td>12034874</td>\n",
              "      <td>18249637</td>\n",
              "      <td>9641</td>\n",
              "      <td>46623</td>\n",
              "      <td>186698</td>\n",
              "      <td>166472</td>\n",
              "      <td>11605396</td>\n",
              "      <td>2720</td>\n",
              "      <td>5644</td>\n",
              "      <td>1036325</td>\n",
              "      <td>628</td>\n",
              "      <td>17210263</td>\n",
              "      <td>13673050</td>\n",
              "      <td>1,5,21,23,25,43,45,46,60,69,73,77,98,106,109,1...</td>\n",
              "      <td>baidu.com</td>\n",
              "      <td>sw.bos.baidu.com</td>\n",
              "      <td>196608:VV8mZL2xozgMLEAeqXlw5Y3dxj149WyLf8reaZX...</td>\n",
              "      <td>7b6b9aeb67575f6977afedee557ffad9ef7a59baf9af6b...</td>\n",
              "      <td>NaN</td>\n",
              "      <td>1/1/2017 8:28:54 AM</td>\n",
              "      <td>638ff86e-835c-42e6-a60e-75d74e9963f1</td>\n",
              "      <td>True</td>\n",
              "      <td>12770048</td>\n",
              "      <td>6.2.1.0</td>\n",
              "      <td>APP</td>\n",
              "      <td>NaN</td>\n",
              "      <td>NaN</td>\n",
              "      <td>NaN</td>\n",
              "      <td>NaN</td>\n",
              "      <td>00c3615a</td>\n",
              "      <td>1.0</td>\n",
              "      <td>2</td>\n",
              "      <td>NaN</td>\n",
              "      <td>NaN</td>\n",
              "      <td>restricted_sites</td>\n",
              "      <td>NaN</td>\n",
              "      <td>NaN</td>\n",
              "      <td>NaN</td>\n",
              "      <td>True</td>\n",
              "      <td>NaN</td>\n",
              "      <td>9/26/2011 1:21:33 PM</td>\n",
              "    </tr>\n",
              "    <tr>\n",
              "      <th>22</th>\n",
              "      <td>MW3.1(1.1.1.86)Installer_IS_rev2.exe</td>\n",
              "      <td>10277180</td>\n",
              "      <td>14374549</td>\n",
              "      <td>2078403</td>\n",
              "      <td>9641</td>\n",
              "      <td>46623</td>\n",
              "      <td>101944</td>\n",
              "      <td>898071</td>\n",
              "      <td>17188825</td>\n",
              "      <td>2720</td>\n",
              "      <td>5644</td>\n",
              "      <td>1036485</td>\n",
              "      <td>632</td>\n",
              "      <td>1738307</td>\n",
              "      <td>1380320</td>\n",
              "      <td>1,3,5,21,23,25,31,37,45,63,69,73,85,94,106,109...</td>\n",
              "      <td>xkeys.com</td>\n",
              "      <td>xkeys.com</td>\n",
              "      <td>393216:MXuadsUu/aMi4Wq5qsuVqg8wCtKr0XV6dQSNEGa...</td>\n",
              "      <td>bbe6a96f5b6fef56f7feb55be76be55eeda6a6696ae665...</td>\n",
              "      <td>NaN</td>\n",
              "      <td>1/1/2017 11:43:22 PM</td>\n",
              "      <td>757311ba-b151-4a8d-9023-156978c45ccc</td>\n",
              "      <td>NaN</td>\n",
              "      <td>16698259</td>\n",
              "      <td>1.1.1.86</td>\n",
              "      <td>DLL</td>\n",
              "      <td>NaN</td>\n",
              "      <td>NaN</td>\n",
              "      <td>NaN</td>\n",
              "      <td>NaN</td>\n",
              "      <td>00000000</td>\n",
              "      <td>1.0</td>\n",
              "      <td>2</td>\n",
              "      <td>NaN</td>\n",
              "      <td>NaN</td>\n",
              "      <td>internet</td>\n",
              "      <td>1/1/2017 11:43:10 PM</td>\n",
              "      <td>NaN</td>\n",
              "      <td>NaN</td>\n",
              "      <td>True</td>\n",
              "      <td>NaN</td>\n",
              "      <td>9/15/2015 5:38:26 AM</td>\n",
              "    </tr>\n",
              "    <tr>\n",
              "      <th>26</th>\n",
              "      <td>bsv3.6.0.550.CN.2899892505.exe</td>\n",
              "      <td>7873369</td>\n",
              "      <td>18165569</td>\n",
              "      <td>3219835</td>\n",
              "      <td>9641</td>\n",
              "      <td>46623</td>\n",
              "      <td>20143</td>\n",
              "      <td>553562</td>\n",
              "      <td>4128412</td>\n",
              "      <td>2720</td>\n",
              "      <td>5644</td>\n",
              "      <td>24632</td>\n",
              "      <td>616</td>\n",
              "      <td>15700485</td>\n",
              "      <td>12358930</td>\n",
              "      <td>0,1,2,4,5,12,17,18,21,23,31,37,45,49,60,63,85,...</td>\n",
              "      <td>baidu.com</td>\n",
              "      <td>dlsw.baidu.com</td>\n",
              "      <td>3072:CCNZX3gWby7K1KdwIlh1sNyJE+wShFrJJGD9BOaoM...</td>\n",
              "      <td>5fee6faf7ba66e7aabf96d9b5b6d7597dd5de667beddf9...</td>\n",
              "      <td>NaN</td>\n",
              "      <td>1/1/2017 3:04:56 PM</td>\n",
              "      <td>e05a1b89-bc01-43b2-8c50-45437c498e21</td>\n",
              "      <td>True</td>\n",
              "      <td>151040</td>\n",
              "      <td>1.0.0.5</td>\n",
              "      <td>APP</td>\n",
              "      <td>NaN</td>\n",
              "      <td>NaN</td>\n",
              "      <td>NaN</td>\n",
              "      <td>NaN</td>\n",
              "      <td>00000000</td>\n",
              "      <td>1.0</td>\n",
              "      <td>2</td>\n",
              "      <td>NaN</td>\n",
              "      <td>NaN</td>\n",
              "      <td>restricted_sites</td>\n",
              "      <td>NaN</td>\n",
              "      <td>True</td>\n",
              "      <td>NaN</td>\n",
              "      <td>True</td>\n",
              "      <td>NaN</td>\n",
              "      <td>10/11/2010 2:38:05 PM</td>\n",
              "    </tr>\n",
              "    <tr>\n",
              "      <th>27</th>\n",
              "      <td>bsv3.6.0.550.CN.exe</td>\n",
              "      <td>7873369</td>\n",
              "      <td>18165569</td>\n",
              "      <td>3219835</td>\n",
              "      <td>9641</td>\n",
              "      <td>46623</td>\n",
              "      <td>20143</td>\n",
              "      <td>386866</td>\n",
              "      <td>12407975</td>\n",
              "      <td>2720</td>\n",
              "      <td>5644</td>\n",
              "      <td>24632</td>\n",
              "      <td>616</td>\n",
              "      <td>30360199</td>\n",
              "      <td>24083040</td>\n",
              "      <td>0,1,2,4,5,12,17,18,21,23,31,37,45,49,60,63,85,...</td>\n",
              "      <td>bitspirit.cc</td>\n",
              "      <td>www.bitspirit.cc</td>\n",
              "      <td>3072:CCNZX3gWby7K1KdwIlh1sNyJE+wShFrJJGD9BOaoM...</td>\n",
              "      <td>5fee6faf7ba66e7aabf96d9b5b6d7597dd5de667beddf9...</td>\n",
              "      <td>NaN</td>\n",
              "      <td>1/1/2017 2:30:33 PM</td>\n",
              "      <td>fa029079-7e5e-4881-af77-e2c70b0fd294</td>\n",
              "      <td>True</td>\n",
              "      <td>151040</td>\n",
              "      <td>1.0.0.5</td>\n",
              "      <td>APP</td>\n",
              "      <td>NaN</td>\n",
              "      <td>NaN</td>\n",
              "      <td>NaN</td>\n",
              "      <td>NaN</td>\n",
              "      <td>00000000</td>\n",
              "      <td>1.0</td>\n",
              "      <td>2</td>\n",
              "      <td>NaN</td>\n",
              "      <td>NaN</td>\n",
              "      <td>restricted_sites</td>\n",
              "      <td>NaN</td>\n",
              "      <td>True</td>\n",
              "      <td>NaN</td>\n",
              "      <td>True</td>\n",
              "      <td>NaN</td>\n",
              "      <td>10/11/2010 2:38:05 PM</td>\n",
              "    </tr>\n",
              "  </tbody>\n",
              "</table>\n",
              "</div>"
            ],
            "text/plain": [
              "                              FileNameID  ...            PeTimestamp\n",
              "5                      bsplayer_free.exe  ...  6/19/1992 10:22:17 PM\n",
              "8               bsplayer_pro270.1080.exe  ...  6/19/1992 10:22:17 PM\n",
              "9                    bsplayer_pro_sa.rar  ...                    NaN\n",
              "14                     bspsrc_1.3.21.rar  ...                    NaN\n",
              "16                     bspsrc_1.3.21.rar  ...                    NaN\n",
              "17   ! !§5DarkShooter §3[10k] §5Pack.rar  ...                    NaN\n",
              "18        pcmaster_6.2.1.0_setup_u92.exe  ...   9/26/2011 1:21:33 PM\n",
              "22  MW3.1(1.1.1.86)Installer_IS_rev2.exe  ...   9/15/2015 5:38:26 AM\n",
              "26        bsv3.6.0.550.CN.2899892505.exe  ...  10/11/2010 2:38:05 PM\n",
              "27                   bsv3.6.0.550.CN.exe  ...  10/11/2010 2:38:05 PM\n",
              "\n",
              "[10 rows x 43 columns]"
            ]
          },
          "metadata": {
            "tags": []
          },
          "execution_count": 98
        }
      ]
    },
    {
      "cell_type": "code",
      "metadata": {
        "id": "_6PX-tkTd_Lz",
        "colab_type": "code",
        "outputId": "a1cae9c7-91ac-43af-df99-058841e43ec4",
        "colab": {
          "base_uri": "https://localhost:8080/",
          "height": 34
        }
      },
      "source": [
        "df.shape"
      ],
      "execution_count": 99,
      "outputs": [
        {
          "output_type": "execute_result",
          "data": {
            "text/plain": [
              "(76088, 43)"
            ]
          },
          "metadata": {
            "tags": []
          },
          "execution_count": 99
        }
      ]
    },
    {
      "cell_type": "code",
      "metadata": {
        "id": "HBsbeZ_71l_v",
        "colab_type": "code",
        "colab": {
          "base_uri": "https://localhost:8080/",
          "height": 34
        },
        "outputId": "72af490c-8b0b-47cc-d404-36b025d81f4d"
      },
      "source": [
        "file_names = [x for x in df.FileNameID]\n",
        "domain_names = [x for x in df.WebFileUrlDomain]\n",
        "hostname_names = [x for x in df.WebFileUrlHostname]\n",
        "len(file_names)\n",
        "print(\"Size of file_names : {}, Size of domain_names : {}, Size of hostnames_names: {}\".format(len(file_names), len(domain_names), len(hostname_names)))\n",
        "\n"
      ],
      "execution_count": 100,
      "outputs": [
        {
          "output_type": "stream",
          "text": [
            "Size of file_names : 76088, Size of domain_names : 76088, Size of hostnames_names: 76088\n"
          ],
          "name": "stdout"
        }
      ]
    },
    {
      "cell_type": "code",
      "metadata": {
        "id": "pBL1j5bn0Nh6",
        "colab_type": "code",
        "colab": {}
      },
      "source": [
        "import sklearn.feature_extraction.text\n",
        "from sklearn.feature_extraction.text import TfidfVectorizer\n",
        "from sklearn.feature_extraction.text import CountVectorizer\n",
        "\n",
        "#file_names is a list of all text entries in the column at the DataFrame.\n",
        "#Returns - a dense matrix that each row is a n-gram representation of the entries.\n",
        "def extract_ngrams_as_one_hot(corpus, ngram_size=3,pipeline=None):\n",
        "  vectorizer = CountVectorizer(ngram_range=(ngram_size, ngram_size), \n",
        "                              analyzer='char',preprocessor=pipeline)\n",
        "\n",
        "  X = vectorizer.fit_transform(corpus)\n",
        "  \n",
        "  print(\"------\")\n",
        "  v = vectorizer.transform([corpus[0]]).toarray()\n",
        "  print(vectorizer.get_feature_names())\n",
        "  # print(v)\n",
        "  return X\n",
        "\n",
        "\n",
        "def extract_ngrams_as_tf_idf(corpus, ngram_size=3,pipeline=None):\n",
        "  vectorizer = TfidfVectorizer(ngram_range=(ngram_size, ngram_size), \n",
        "                              analyzer='char',preprocessor=pipeline)\n",
        "\n",
        "  X = vectorizer.fit_transform(corpus)\n",
        "  \n",
        "  print(\"------\")\n",
        "  v = vectorizer.transform([corpus[0]]).toarray()\n",
        "  print(vectorizer.get_feature_names())\n",
        "  # print(v)\n",
        "  return X\n"
      ],
      "execution_count": 0,
      "outputs": []
    },
    {
      "cell_type": "code",
      "metadata": {
        "id": "nezaQFmF7AiK",
        "colab_type": "code",
        "colab": {
          "base_uri": "https://localhost:8080/",
          "height": 170
        },
        "outputId": "bc947ecd-5794-4be6-dcd2-6a64fc4e9658"
      },
      "source": [
        "names = ['OMER', 'nit']\n",
        "print(extract_ngrams_as_tf_idf(names).toarray())\n",
        "\n",
        "print(\"-----------------\")\n",
        "\n",
        "print(extract_ngrams_as_one_hot(names).toarray())"
      ],
      "execution_count": 102,
      "outputs": [
        {
          "output_type": "stream",
          "text": [
            "------\n",
            "['mer', 'nit', 'ome']\n",
            "[[0.70710678 0.         0.70710678]\n",
            " [0.         1.         0.        ]]\n",
            "-----------------\n",
            "------\n",
            "['mer', 'nit', 'ome']\n",
            "[[1 0 1]\n",
            " [0 1 0]]\n"
          ],
          "name": "stdout"
        }
      ]
    },
    {
      "cell_type": "markdown",
      "metadata": {
        "id": "ojBgwTY2-qS1",
        "colab_type": "text"
      },
      "source": [
        "# **Text analysis features:**"
      ]
    },
    {
      "cell_type": "markdown",
      "metadata": {
        "id": "oKwR0cMH-7CJ",
        "colab_type": "text"
      },
      "source": [
        "First for each text feature chosen, we should each entry in the dataset through a pipeline of normalizations before analysis:\n",
        "1. Removing digits - some files might contain their versions in their names.\n",
        "2. Casing - for widely conventions we shall use lower-case.\n",
        "3. Stop words - replacing each stopword with sepcial char in order to increase the reliability of td-idf method."
      ]
    },
    {
      "cell_type": "code",
      "metadata": {
        "id": "UJjk8RUMY-Tb",
        "colab_type": "code",
        "colab": {}
      },
      "source": [
        "#Taken from https://gist.github.com/sebleier/554280 -> NLTK english stop words\n",
        "stop_words = [\"i\", \"me\", \"my\", \"myself\", \"we\", \"our\", \"ours\", \"ourselves\", \"you\", \"your\",\n",
        "              \"yours\", \"yourself\", \"yourselves\", \"he\", \"him\", \"his\", \"himself\", \"she\", \"her\", \"hers\", \n",
        "              \"herself\", \"it\", \"its\", \"itself\", \"they\", \"them\", \"their\", \"theirs\", \"themselves\", \"what\",\n",
        "              \"which\", \"who\", \"whom\", \"this\", \"that\", \"these\", \"those\", \"am\", \"is\", \"are\", \"was\", \"were\",\n",
        "              \"be\", \"been\", \"being\", \"have\", \"has\", \"had\", \"having\", \"do\", \"does\", \"did\", \"doing\", \"a\",\n",
        "              \"an\", \"the\", \"and\", \"but\", \"if\", \"or\", \"because\", \"as\", \"until\", \"while\", \"of\", \"at\", \"by\",\n",
        "              \"for\", \"with\", \"about\", \"against\", \"between\", \"into\", \"through\", \"during\", \"before\", \"after\",\n",
        "              \"above\", \"below\", \"to\", \"from\", \"up\", \"down\", \"in\", \"out\", \"on\", \"off\", \"over\", \"under\", \"again\",\n",
        "              \"further\", \"then\", \"once\", \"here\", \"there\", \"when\", \"where\", \"why\", \"how\", \"all\", \"any\", \"both\",\n",
        "              \"each\", \"few\", \"more\", \"most\", \"other\", \"some\", \"such\", \"no\", \"nor\", \"not\", \"only\", \"own\", \"same\",\n",
        "              \"so\", \"than\", \"too\", \"very\", \"s\", \"t\", \"can\", \"will\", \"just\", \"don\", \"should\", \"now\"]"
      ],
      "execution_count": 0,
      "outputs": []
    },
    {
      "cell_type": "code",
      "metadata": {
        "id": "ibMQAMPLjgMF",
        "colab_type": "code",
        "colab": {}
      },
      "source": [
        "REMOVE_PUNTS = True\n",
        "LOWER_CASE = True\n",
        "REMOVE_DIGITS = True\n",
        "STOP_WORDS = True\n",
        "REMOVE_SPACES = True"
      ],
      "execution_count": 0,
      "outputs": []
    },
    {
      "cell_type": "code",
      "metadata": {
        "id": "QkfhlXORBICz",
        "colab_type": "code",
        "colab": {
          "base_uri": "https://localhost:8080/",
          "height": 68
        },
        "outputId": "42f526de-0488-4f17-95d2-8bd77bf23303"
      },
      "source": [
        "name = 'bsv3.6.0.550.CN.2899892505.exe'\n",
        "name2 = 'bsv3.6.0.550.CN.exe\t'\n",
        "\n",
        "#All functions returns string.\n",
        "\n",
        "#Remove any punctuations\n",
        "def remove_puncts(corpus):\n",
        "  return \"\".join([c for c in corpus if c.isalpha() or c.isdigit()])\n",
        "\n",
        "#Replace the digits with char \n",
        "def replace_digits(corpus, char=''):\n",
        "  return \"\".join([char if c.isdigit() else c for c in corpus ])\n",
        "\n",
        "#Return lower-case string\n",
        "def lower_case(corpus):\n",
        "  return corpus.lower()\n",
        "\n",
        "\n",
        "#Replace each ngram that equals to one of the stop_ngrams with word_to_replace.\n",
        "def replace_n_grams_stop_ngrams(corpus, stop_ngrams,n=3, word_to_replace=''):\n",
        "  grams = []\n",
        "  str_to_ret = ''\n",
        "  i=n\n",
        "  while i<=len(corpus):\n",
        "    if i>=n:\n",
        "      grama = corpus[i-n:i]\n",
        "      if grama in stop_ngrams:\n",
        "        str_to_ret = str_to_ret + word_to_replace\n",
        "        i = i + 3\n",
        "      else:\n",
        "        str_to_ret = str_to_ret + corpus[i-n]    \n",
        "        i = i + 1\n",
        "  tail = corpus[i-n:]\n",
        "  str_to_ret = str_to_ret + tail\n",
        "  return str_to_ret\n",
        "\n",
        "\n",
        "print(remove_puncts(name))\n",
        "print(remove_puncts(name2))\n",
        "\n",
        "\n",
        "print(replace_n_grams_stop_ngrams(\"whathatgab3\",stop_ngrams=['hat'],n=3))"
      ],
      "execution_count": 151,
      "outputs": [
        {
          "output_type": "stream",
          "text": [
            "bsv360550CN2899892505exe\n",
            "bsv360550CNexe\n",
            "wgab3\n"
          ],
          "name": "stdout"
        }
      ]
    },
    {
      "cell_type": "markdown",
      "metadata": {
        "id": "wnHVhYmMCoX9",
        "colab_type": "text"
      },
      "source": [
        "Aggregating the data:\n",
        "Some files might appear on few entries in the dataset, using the sha1ID,\n",
        "we can recongize them along the dataset and extract a list of names which this file was known for."
      ]
    },
    {
      "cell_type": "code",
      "metadata": {
        "id": "PR_7LchuDHLI",
        "colab_type": "code",
        "colab": {}
      },
      "source": [
        "def collect_names(sha1):\n",
        "  pass\n",
        "\n",
        "def collect_hostnames(sha1):\n",
        "  pass\n",
        "\n",
        "def collect_domains(sha1):\n",
        "  pass"
      ],
      "execution_count": 0,
      "outputs": []
    },
    {
      "cell_type": "markdown",
      "metadata": {
        "id": "hfPjcFaxDYI-",
        "colab_type": "text"
      },
      "source": [
        ""
      ]
    },
    {
      "cell_type": "markdown",
      "metadata": {
        "id": "oEoLriQ26Em1",
        "colab_type": "text"
      },
      "source": [
        "# **Textual features analysis:**"
      ]
    },
    {
      "cell_type": "markdown",
      "metadata": {
        "id": "6zGgbIjy6spY",
        "colab_type": "text"
      },
      "source": [
        "As we know, the sha1 is hash function working on the content of the file,\n",
        "so here is the histogram in order to see which files are the most frequent (maybe with different names with the same sha1) in the dataset reports."
      ]
    },
    {
      "cell_type": "code",
      "metadata": {
        "id": "IKYZ5e4T6mBx",
        "colab_type": "code",
        "colab": {
          "base_uri": "https://localhost:8080/",
          "height": 298
        },
        "outputId": "885ca4d6-4cfc-4077-9991-94e2a975effc"
      },
      "source": [
        "df[\"Sha1ID\"].hist()"
      ],
      "execution_count": 107,
      "outputs": [
        {
          "output_type": "execute_result",
          "data": {
            "text/plain": [
              "<matplotlib.axes._subplots.AxesSubplot at 0x7f743e7b34a8>"
            ]
          },
          "metadata": {
            "tags": []
          },
          "execution_count": 107
        },
        {
          "output_type": "display_data",
          "data": {
            "image/png": "[encoded data removed]",
            "text/plain": [
              "<Figure size 432x288 with 1 Axes>"
            ]
          },
          "metadata": {
            "tags": [],
            "needs_background": "light"
          }
        }
      ]
    },
    {
      "cell_type": "markdown",
      "metadata": {
        "id": "tEaMX44U7QMm",
        "colab_type": "text"
      },
      "source": [
        "Analyzing the threat family of the reports, we can see that most of the reports include the same threat name or threat family, because of the anonymization we can tell which one."
      ]
    },
    {
      "cell_type": "code",
      "metadata": {
        "id": "wMRjCMN96o3S",
        "colab_type": "code",
        "colab": {
          "base_uri": "https://localhost:8080/",
          "height": 282
        },
        "outputId": "e945aa7d-8421-4d18-ca35-1515ab6bb0d1"
      },
      "source": [
        "df[\"ThreatNameID\"].hist() "
      ],
      "execution_count": 108,
      "outputs": [
        {
          "output_type": "execute_result",
          "data": {
            "text/plain": [
              "<matplotlib.axes._subplots.AxesSubplot at 0x7f743e71bb00>"
            ]
          },
          "metadata": {
            "tags": []
          },
          "execution_count": 108
        },
        {
          "output_type": "display_data",
          "data": {
            "image/png": "[encoded data removed]",
            "text/plain": [
              "<Figure size 432x288 with 1 Axes>"
            ]
          },
          "metadata": {
            "tags": [],
            "needs_background": "light"
          }
        }
      ]
    },
    {
      "cell_type": "code",
      "metadata": {
        "id": "QZuayHWZ6Rnx",
        "colab_type": "code",
        "colab": {
          "base_uri": "https://localhost:8080/",
          "height": 282
        },
        "outputId": "4fbf6401-b49c-4192-c1dd-c4f279e89c5f"
      },
      "source": [
        "df[\"ThreatFamilyID\"].hist()\n"
      ],
      "execution_count": 109,
      "outputs": [
        {
          "output_type": "execute_result",
          "data": {
            "text/plain": [
              "<matplotlib.axes._subplots.AxesSubplot at 0x7f743e1e07b8>"
            ]
          },
          "metadata": {
            "tags": []
          },
          "execution_count": 109
        },
        {
          "output_type": "display_data",
          "data": {
            "image/png": "[encoded data removed]",
            "text/plain": [
              "<Figure size 432x288 with 1 Axes>"
            ]
          },
          "metadata": {
            "tags": [],
            "needs_background": "light"
          }
        }
      ]
    },
    {
      "cell_type": "markdown",
      "metadata": {
        "id": "N9KpoxHWezCD",
        "colab_type": "text"
      },
      "source": [
        "1)This is sparta\n",
        "2)This is garta\n",
        "3)This marta\n",
        "\n",
        "D1 - Cow , The\n",
        "D2 - Dog, is, no\n",
        "TF - Term Frequency.  -----> 1000\n",
        "IDF - Inverse Document Frequency ---> 3 --> inverse \n",
        "\n",
        "Vocab - Document\n",
        "\n",
        "\n",
        "cow ---> 0-1 ----> This - 0.01 , Cow - 0.99\n",
        "\n",
        "Thi, his, isi, sis, iss, ssp, spa, part, art, rta\n",
        "\n",
        "bsplayer_free.exe\n",
        "bsplayer_pro270.1080.exe\n",
        "\n",
        "BoW -----> Tokenize ----> \"This is sparta\" -> This, is, Sparta. 200,000 -> [...]\n",
        "\n",
        "\n",
        "100 -> [.....] onehot vector ---> 100 [0, 1,0 ,1...] "
      ]
    },
    {
      "cell_type": "markdown",
      "metadata": {
        "id": "Fu5syl0hF51a",
        "colab_type": "text"
      },
      "source": [
        ""
      ]
    },
    {
      "cell_type": "code",
      "metadata": {
        "id": "gqBqG6x_e0GL",
        "colab_type": "code",
        "colab": {}
      },
      "source": [
        ""
      ],
      "execution_count": 0,
      "outputs": []
    }
  ]
}